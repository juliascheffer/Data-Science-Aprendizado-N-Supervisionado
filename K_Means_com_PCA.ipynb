{
  "nbformat": 4,
  "nbformat_minor": 0,
  "metadata": {
    "colab": {
      "provenance": []
    },
    "kernelspec": {
      "name": "python3",
      "display_name": "Python 3"
    },
    "language_info": {
      "name": "python"
    }
  },
  "cells": [
    {
      "cell_type": "code",
      "execution_count": 1,
      "metadata": {
        "id": "kVcumbiP-ysZ"
      },
      "outputs": [],
      "source": [
        "import numpy as np\n",
        "import pandas as pd"
      ]
    },
    {
      "cell_type": "code",
      "source": [
        "from google.colab import drive\n",
        "drive.mount('/content/drive')"
      ],
      "metadata": {
        "colab": {
          "base_uri": "https://localhost:8080/"
        },
        "id": "J3iyop_yAGYv",
        "outputId": "33d24bf3-6fa6-478b-e3d0-70acf7c279fc"
      },
      "execution_count": 2,
      "outputs": [
        {
          "output_type": "stream",
          "name": "stdout",
          "text": [
            "Mounted at /content/drive\n"
          ]
        }
      ]
    },
    {
      "cell_type": "code",
      "source": [
        "import warnings\n",
        "warnings.filterwarnings(\"ignore\")"
      ],
      "metadata": {
        "id": "KwlnjJ1CAuh8"
      },
      "execution_count": 3,
      "outputs": []
    },
    {
      "cell_type": "code",
      "source": [
        "df = pd.read_csv('/content/drive/MyDrive/DataScience/trab1/cursos-prouni.csv - cursos-prouni-2018-tratados.csv.csv')"
      ],
      "metadata": {
        "id": "0VFQsIJDA1k3"
      },
      "execution_count": 4,
      "outputs": []
    },
    {
      "cell_type": "code",
      "source": [
        "list_drop_columns = ['grau',\n",
        "                     'turno',\n",
        "                     'curso_busca',\n",
        "                     'curso_id',\n",
        "                     'bolsa_parcial_ampla',\n",
        "                     'bolsa_parcial_cotas',\n",
        "                     'bolsa_integral_ampla',\n",
        "                     'bolsa_integral_cotas',\n",
        "                     'mensalidade',\n",
        "                     'cidade_busca',\n",
        "                     'uf_busca',\n",
        "                    'universidade_nome',\n",
        "                     ]\n",
        "\n",
        "df_aux = df.drop(columns=list_drop_columns)"
      ],
      "metadata": {
        "id": "guG3sbEiA9oF"
      },
      "execution_count": 5,
      "outputs": []
    },
    {
      "cell_type": "code",
      "source": [
        "df_aux.head()"
      ],
      "metadata": {
        "colab": {
          "base_uri": "https://localhost:8080/",
          "height": 206
        },
        "id": "EGXDZi6fBMlZ",
        "outputId": "3bd059a8-6e1e-4965-b650-671099e90375"
      },
      "execution_count": 6,
      "outputs": [
        {
          "output_type": "execute_result",
          "data": {
            "text/plain": [
              "       nome  nota_integral_ampla  nota_integral_cotas  nota_parcial_ampla  \\\n",
              "0  Medicina               739.62               738.08              738.96   \n",
              "1  Medicina               758.32               723.94              734.92   \n",
              "2  Medicina               741.06               729.02              730.98   \n",
              "3  Medicina               741.36               739.90              760.80   \n",
              "4  Medicina               756.46               737.88              747.14   \n",
              "\n",
              "   nota_parcial_cotas  \n",
              "0              718.64  \n",
              "1              711.26  \n",
              "2              722.82  \n",
              "3              715.10  \n",
              "4              717.60  "
            ],
            "text/html": [
              "\n",
              "  <div id=\"df-179e68bd-17a4-4db3-be02-242493f99bca\">\n",
              "    <div class=\"colab-df-container\">\n",
              "      <div>\n",
              "<style scoped>\n",
              "    .dataframe tbody tr th:only-of-type {\n",
              "        vertical-align: middle;\n",
              "    }\n",
              "\n",
              "    .dataframe tbody tr th {\n",
              "        vertical-align: top;\n",
              "    }\n",
              "\n",
              "    .dataframe thead th {\n",
              "        text-align: right;\n",
              "    }\n",
              "</style>\n",
              "<table border=\"1\" class=\"dataframe\">\n",
              "  <thead>\n",
              "    <tr style=\"text-align: right;\">\n",
              "      <th></th>\n",
              "      <th>nome</th>\n",
              "      <th>nota_integral_ampla</th>\n",
              "      <th>nota_integral_cotas</th>\n",
              "      <th>nota_parcial_ampla</th>\n",
              "      <th>nota_parcial_cotas</th>\n",
              "    </tr>\n",
              "  </thead>\n",
              "  <tbody>\n",
              "    <tr>\n",
              "      <th>0</th>\n",
              "      <td>Medicina</td>\n",
              "      <td>739.62</td>\n",
              "      <td>738.08</td>\n",
              "      <td>738.96</td>\n",
              "      <td>718.64</td>\n",
              "    </tr>\n",
              "    <tr>\n",
              "      <th>1</th>\n",
              "      <td>Medicina</td>\n",
              "      <td>758.32</td>\n",
              "      <td>723.94</td>\n",
              "      <td>734.92</td>\n",
              "      <td>711.26</td>\n",
              "    </tr>\n",
              "    <tr>\n",
              "      <th>2</th>\n",
              "      <td>Medicina</td>\n",
              "      <td>741.06</td>\n",
              "      <td>729.02</td>\n",
              "      <td>730.98</td>\n",
              "      <td>722.82</td>\n",
              "    </tr>\n",
              "    <tr>\n",
              "      <th>3</th>\n",
              "      <td>Medicina</td>\n",
              "      <td>741.36</td>\n",
              "      <td>739.90</td>\n",
              "      <td>760.80</td>\n",
              "      <td>715.10</td>\n",
              "    </tr>\n",
              "    <tr>\n",
              "      <th>4</th>\n",
              "      <td>Medicina</td>\n",
              "      <td>756.46</td>\n",
              "      <td>737.88</td>\n",
              "      <td>747.14</td>\n",
              "      <td>717.60</td>\n",
              "    </tr>\n",
              "  </tbody>\n",
              "</table>\n",
              "</div>\n",
              "      <button class=\"colab-df-convert\" onclick=\"convertToInteractive('df-179e68bd-17a4-4db3-be02-242493f99bca')\"\n",
              "              title=\"Convert this dataframe to an interactive table.\"\n",
              "              style=\"display:none;\">\n",
              "        \n",
              "  <svg xmlns=\"http://www.w3.org/2000/svg\" height=\"24px\"viewBox=\"0 0 24 24\"\n",
              "       width=\"24px\">\n",
              "    <path d=\"M0 0h24v24H0V0z\" fill=\"none\"/>\n",
              "    <path d=\"M18.56 5.44l.94 2.06.94-2.06 2.06-.94-2.06-.94-.94-2.06-.94 2.06-2.06.94zm-11 1L8.5 8.5l.94-2.06 2.06-.94-2.06-.94L8.5 2.5l-.94 2.06-2.06.94zm10 10l.94 2.06.94-2.06 2.06-.94-2.06-.94-.94-2.06-.94 2.06-2.06.94z\"/><path d=\"M17.41 7.96l-1.37-1.37c-.4-.4-.92-.59-1.43-.59-.52 0-1.04.2-1.43.59L10.3 9.45l-7.72 7.72c-.78.78-.78 2.05 0 2.83L4 21.41c.39.39.9.59 1.41.59.51 0 1.02-.2 1.41-.59l7.78-7.78 2.81-2.81c.8-.78.8-2.07 0-2.86zM5.41 20L4 18.59l7.72-7.72 1.47 1.35L5.41 20z\"/>\n",
              "  </svg>\n",
              "      </button>\n",
              "      \n",
              "  <style>\n",
              "    .colab-df-container {\n",
              "      display:flex;\n",
              "      flex-wrap:wrap;\n",
              "      gap: 12px;\n",
              "    }\n",
              "\n",
              "    .colab-df-convert {\n",
              "      background-color: #E8F0FE;\n",
              "      border: none;\n",
              "      border-radius: 50%;\n",
              "      cursor: pointer;\n",
              "      display: none;\n",
              "      fill: #1967D2;\n",
              "      height: 32px;\n",
              "      padding: 0 0 0 0;\n",
              "      width: 32px;\n",
              "    }\n",
              "\n",
              "    .colab-df-convert:hover {\n",
              "      background-color: #E2EBFA;\n",
              "      box-shadow: 0px 1px 2px rgba(60, 64, 67, 0.3), 0px 1px 3px 1px rgba(60, 64, 67, 0.15);\n",
              "      fill: #174EA6;\n",
              "    }\n",
              "\n",
              "    [theme=dark] .colab-df-convert {\n",
              "      background-color: #3B4455;\n",
              "      fill: #D2E3FC;\n",
              "    }\n",
              "\n",
              "    [theme=dark] .colab-df-convert:hover {\n",
              "      background-color: #434B5C;\n",
              "      box-shadow: 0px 1px 3px 1px rgba(0, 0, 0, 0.15);\n",
              "      filter: drop-shadow(0px 1px 2px rgba(0, 0, 0, 0.3));\n",
              "      fill: #FFFFFF;\n",
              "    }\n",
              "  </style>\n",
              "\n",
              "      <script>\n",
              "        const buttonEl =\n",
              "          document.querySelector('#df-179e68bd-17a4-4db3-be02-242493f99bca button.colab-df-convert');\n",
              "        buttonEl.style.display =\n",
              "          google.colab.kernel.accessAllowed ? 'block' : 'none';\n",
              "\n",
              "        async function convertToInteractive(key) {\n",
              "          const element = document.querySelector('#df-179e68bd-17a4-4db3-be02-242493f99bca');\n",
              "          const dataTable =\n",
              "            await google.colab.kernel.invokeFunction('convertToInteractive',\n",
              "                                                     [key], {});\n",
              "          if (!dataTable) return;\n",
              "\n",
              "          const docLinkHtml = 'Like what you see? Visit the ' +\n",
              "            '<a target=\"_blank\" href=https://colab.research.google.com/notebooks/data_table.ipynb>data table notebook</a>'\n",
              "            + ' to learn more about interactive tables.';\n",
              "          element.innerHTML = '';\n",
              "          dataTable['output_type'] = 'display_data';\n",
              "          await google.colab.output.renderOutput(dataTable, element);\n",
              "          const docLink = document.createElement('div');\n",
              "          docLink.innerHTML = docLinkHtml;\n",
              "          element.appendChild(docLink);\n",
              "        }\n",
              "      </script>\n",
              "    </div>\n",
              "  </div>\n",
              "  "
            ]
          },
          "metadata": {},
          "execution_count": 6
        }
      ]
    },
    {
      "cell_type": "markdown",
      "source": [
        "ATRIBUTOS:\n",
        "\n",
        "nome: Nome do curso\n",
        "\n",
        "nota_integral_ampla: Nota da categoria de bolsa integral de ampla concorrência\n",
        "\n",
        "nota_integral_cotas: Nota da categoria de bolsa integral com aplicação de cotas\n",
        "\n",
        "nota_parcial_ampla: Nota da categoria de bolsa parcial de ampla concorrência\n",
        "\n",
        "nota_parcial_cotas: Nota da categoria de bolsa parcial com aplicação de cotas"
      ],
      "metadata": {
        "id": "VMM4upV5BWXW"
      }
    },
    {
      "cell_type": "code",
      "source": [
        "#Exploração e tratamento dos dados\n",
        "df_aux.head(2)"
      ],
      "metadata": {
        "colab": {
          "base_uri": "https://localhost:8080/",
          "height": 112
        },
        "id": "WecwWzLbBXJM",
        "outputId": "bf1edb92-3153-497d-fee8-9cb03b949ebd"
      },
      "execution_count": 7,
      "outputs": [
        {
          "output_type": "execute_result",
          "data": {
            "text/plain": [
              "       nome  nota_integral_ampla  nota_integral_cotas  nota_parcial_ampla  \\\n",
              "0  Medicina               739.62               738.08              738.96   \n",
              "1  Medicina               758.32               723.94              734.92   \n",
              "\n",
              "   nota_parcial_cotas  \n",
              "0              718.64  \n",
              "1              711.26  "
            ],
            "text/html": [
              "\n",
              "  <div id=\"df-ce6a107e-dc42-4fe1-aee2-52769610efc9\">\n",
              "    <div class=\"colab-df-container\">\n",
              "      <div>\n",
              "<style scoped>\n",
              "    .dataframe tbody tr th:only-of-type {\n",
              "        vertical-align: middle;\n",
              "    }\n",
              "\n",
              "    .dataframe tbody tr th {\n",
              "        vertical-align: top;\n",
              "    }\n",
              "\n",
              "    .dataframe thead th {\n",
              "        text-align: right;\n",
              "    }\n",
              "</style>\n",
              "<table border=\"1\" class=\"dataframe\">\n",
              "  <thead>\n",
              "    <tr style=\"text-align: right;\">\n",
              "      <th></th>\n",
              "      <th>nome</th>\n",
              "      <th>nota_integral_ampla</th>\n",
              "      <th>nota_integral_cotas</th>\n",
              "      <th>nota_parcial_ampla</th>\n",
              "      <th>nota_parcial_cotas</th>\n",
              "    </tr>\n",
              "  </thead>\n",
              "  <tbody>\n",
              "    <tr>\n",
              "      <th>0</th>\n",
              "      <td>Medicina</td>\n",
              "      <td>739.62</td>\n",
              "      <td>738.08</td>\n",
              "      <td>738.96</td>\n",
              "      <td>718.64</td>\n",
              "    </tr>\n",
              "    <tr>\n",
              "      <th>1</th>\n",
              "      <td>Medicina</td>\n",
              "      <td>758.32</td>\n",
              "      <td>723.94</td>\n",
              "      <td>734.92</td>\n",
              "      <td>711.26</td>\n",
              "    </tr>\n",
              "  </tbody>\n",
              "</table>\n",
              "</div>\n",
              "      <button class=\"colab-df-convert\" onclick=\"convertToInteractive('df-ce6a107e-dc42-4fe1-aee2-52769610efc9')\"\n",
              "              title=\"Convert this dataframe to an interactive table.\"\n",
              "              style=\"display:none;\">\n",
              "        \n",
              "  <svg xmlns=\"http://www.w3.org/2000/svg\" height=\"24px\"viewBox=\"0 0 24 24\"\n",
              "       width=\"24px\">\n",
              "    <path d=\"M0 0h24v24H0V0z\" fill=\"none\"/>\n",
              "    <path d=\"M18.56 5.44l.94 2.06.94-2.06 2.06-.94-2.06-.94-.94-2.06-.94 2.06-2.06.94zm-11 1L8.5 8.5l.94-2.06 2.06-.94-2.06-.94L8.5 2.5l-.94 2.06-2.06.94zm10 10l.94 2.06.94-2.06 2.06-.94-2.06-.94-.94-2.06-.94 2.06-2.06.94z\"/><path d=\"M17.41 7.96l-1.37-1.37c-.4-.4-.92-.59-1.43-.59-.52 0-1.04.2-1.43.59L10.3 9.45l-7.72 7.72c-.78.78-.78 2.05 0 2.83L4 21.41c.39.39.9.59 1.41.59.51 0 1.02-.2 1.41-.59l7.78-7.78 2.81-2.81c.8-.78.8-2.07 0-2.86zM5.41 20L4 18.59l7.72-7.72 1.47 1.35L5.41 20z\"/>\n",
              "  </svg>\n",
              "      </button>\n",
              "      \n",
              "  <style>\n",
              "    .colab-df-container {\n",
              "      display:flex;\n",
              "      flex-wrap:wrap;\n",
              "      gap: 12px;\n",
              "    }\n",
              "\n",
              "    .colab-df-convert {\n",
              "      background-color: #E8F0FE;\n",
              "      border: none;\n",
              "      border-radius: 50%;\n",
              "      cursor: pointer;\n",
              "      display: none;\n",
              "      fill: #1967D2;\n",
              "      height: 32px;\n",
              "      padding: 0 0 0 0;\n",
              "      width: 32px;\n",
              "    }\n",
              "\n",
              "    .colab-df-convert:hover {\n",
              "      background-color: #E2EBFA;\n",
              "      box-shadow: 0px 1px 2px rgba(60, 64, 67, 0.3), 0px 1px 3px 1px rgba(60, 64, 67, 0.15);\n",
              "      fill: #174EA6;\n",
              "    }\n",
              "\n",
              "    [theme=dark] .colab-df-convert {\n",
              "      background-color: #3B4455;\n",
              "      fill: #D2E3FC;\n",
              "    }\n",
              "\n",
              "    [theme=dark] .colab-df-convert:hover {\n",
              "      background-color: #434B5C;\n",
              "      box-shadow: 0px 1px 3px 1px rgba(0, 0, 0, 0.15);\n",
              "      filter: drop-shadow(0px 1px 2px rgba(0, 0, 0, 0.3));\n",
              "      fill: #FFFFFF;\n",
              "    }\n",
              "  </style>\n",
              "\n",
              "      <script>\n",
              "        const buttonEl =\n",
              "          document.querySelector('#df-ce6a107e-dc42-4fe1-aee2-52769610efc9 button.colab-df-convert');\n",
              "        buttonEl.style.display =\n",
              "          google.colab.kernel.accessAllowed ? 'block' : 'none';\n",
              "\n",
              "        async function convertToInteractive(key) {\n",
              "          const element = document.querySelector('#df-ce6a107e-dc42-4fe1-aee2-52769610efc9');\n",
              "          const dataTable =\n",
              "            await google.colab.kernel.invokeFunction('convertToInteractive',\n",
              "                                                     [key], {});\n",
              "          if (!dataTable) return;\n",
              "\n",
              "          const docLinkHtml = 'Like what you see? Visit the ' +\n",
              "            '<a target=\"_blank\" href=https://colab.research.google.com/notebooks/data_table.ipynb>data table notebook</a>'\n",
              "            + ' to learn more about interactive tables.';\n",
              "          element.innerHTML = '';\n",
              "          dataTable['output_type'] = 'display_data';\n",
              "          await google.colab.output.renderOutput(dataTable, element);\n",
              "          const docLink = document.createElement('div');\n",
              "          docLink.innerHTML = docLinkHtml;\n",
              "          element.appendChild(docLink);\n",
              "        }\n",
              "      </script>\n",
              "    </div>\n",
              "  </div>\n",
              "  "
            ]
          },
          "metadata": {},
          "execution_count": 7
        }
      ]
    },
    {
      "cell_type": "code",
      "source": [
        "df_aux.rename(columns={'nome': 'nome_do_curso'}, inplace=True)"
      ],
      "metadata": {
        "id": "bAxt3lUKBmUB"
      },
      "execution_count": 8,
      "outputs": []
    },
    {
      "cell_type": "code",
      "source": [
        "df_aux.head(3)"
      ],
      "metadata": {
        "colab": {
          "base_uri": "https://localhost:8080/",
          "height": 143
        },
        "id": "RXQ56933BuEy",
        "outputId": "67330f50-0977-48c7-8947-6bbc6ea2324f"
      },
      "execution_count": 9,
      "outputs": [
        {
          "output_type": "execute_result",
          "data": {
            "text/plain": [
              "  nome_do_curso  nota_integral_ampla  nota_integral_cotas  nota_parcial_ampla  \\\n",
              "0      Medicina               739.62               738.08              738.96   \n",
              "1      Medicina               758.32               723.94              734.92   \n",
              "2      Medicina               741.06               729.02              730.98   \n",
              "\n",
              "   nota_parcial_cotas  \n",
              "0              718.64  \n",
              "1              711.26  \n",
              "2              722.82  "
            ],
            "text/html": [
              "\n",
              "  <div id=\"df-5627e11c-95c7-4204-a4c8-d4c1279a745d\">\n",
              "    <div class=\"colab-df-container\">\n",
              "      <div>\n",
              "<style scoped>\n",
              "    .dataframe tbody tr th:only-of-type {\n",
              "        vertical-align: middle;\n",
              "    }\n",
              "\n",
              "    .dataframe tbody tr th {\n",
              "        vertical-align: top;\n",
              "    }\n",
              "\n",
              "    .dataframe thead th {\n",
              "        text-align: right;\n",
              "    }\n",
              "</style>\n",
              "<table border=\"1\" class=\"dataframe\">\n",
              "  <thead>\n",
              "    <tr style=\"text-align: right;\">\n",
              "      <th></th>\n",
              "      <th>nome_do_curso</th>\n",
              "      <th>nota_integral_ampla</th>\n",
              "      <th>nota_integral_cotas</th>\n",
              "      <th>nota_parcial_ampla</th>\n",
              "      <th>nota_parcial_cotas</th>\n",
              "    </tr>\n",
              "  </thead>\n",
              "  <tbody>\n",
              "    <tr>\n",
              "      <th>0</th>\n",
              "      <td>Medicina</td>\n",
              "      <td>739.62</td>\n",
              "      <td>738.08</td>\n",
              "      <td>738.96</td>\n",
              "      <td>718.64</td>\n",
              "    </tr>\n",
              "    <tr>\n",
              "      <th>1</th>\n",
              "      <td>Medicina</td>\n",
              "      <td>758.32</td>\n",
              "      <td>723.94</td>\n",
              "      <td>734.92</td>\n",
              "      <td>711.26</td>\n",
              "    </tr>\n",
              "    <tr>\n",
              "      <th>2</th>\n",
              "      <td>Medicina</td>\n",
              "      <td>741.06</td>\n",
              "      <td>729.02</td>\n",
              "      <td>730.98</td>\n",
              "      <td>722.82</td>\n",
              "    </tr>\n",
              "  </tbody>\n",
              "</table>\n",
              "</div>\n",
              "      <button class=\"colab-df-convert\" onclick=\"convertToInteractive('df-5627e11c-95c7-4204-a4c8-d4c1279a745d')\"\n",
              "              title=\"Convert this dataframe to an interactive table.\"\n",
              "              style=\"display:none;\">\n",
              "        \n",
              "  <svg xmlns=\"http://www.w3.org/2000/svg\" height=\"24px\"viewBox=\"0 0 24 24\"\n",
              "       width=\"24px\">\n",
              "    <path d=\"M0 0h24v24H0V0z\" fill=\"none\"/>\n",
              "    <path d=\"M18.56 5.44l.94 2.06.94-2.06 2.06-.94-2.06-.94-.94-2.06-.94 2.06-2.06.94zm-11 1L8.5 8.5l.94-2.06 2.06-.94-2.06-.94L8.5 2.5l-.94 2.06-2.06.94zm10 10l.94 2.06.94-2.06 2.06-.94-2.06-.94-.94-2.06-.94 2.06-2.06.94z\"/><path d=\"M17.41 7.96l-1.37-1.37c-.4-.4-.92-.59-1.43-.59-.52 0-1.04.2-1.43.59L10.3 9.45l-7.72 7.72c-.78.78-.78 2.05 0 2.83L4 21.41c.39.39.9.59 1.41.59.51 0 1.02-.2 1.41-.59l7.78-7.78 2.81-2.81c.8-.78.8-2.07 0-2.86zM5.41 20L4 18.59l7.72-7.72 1.47 1.35L5.41 20z\"/>\n",
              "  </svg>\n",
              "      </button>\n",
              "      \n",
              "  <style>\n",
              "    .colab-df-container {\n",
              "      display:flex;\n",
              "      flex-wrap:wrap;\n",
              "      gap: 12px;\n",
              "    }\n",
              "\n",
              "    .colab-df-convert {\n",
              "      background-color: #E8F0FE;\n",
              "      border: none;\n",
              "      border-radius: 50%;\n",
              "      cursor: pointer;\n",
              "      display: none;\n",
              "      fill: #1967D2;\n",
              "      height: 32px;\n",
              "      padding: 0 0 0 0;\n",
              "      width: 32px;\n",
              "    }\n",
              "\n",
              "    .colab-df-convert:hover {\n",
              "      background-color: #E2EBFA;\n",
              "      box-shadow: 0px 1px 2px rgba(60, 64, 67, 0.3), 0px 1px 3px 1px rgba(60, 64, 67, 0.15);\n",
              "      fill: #174EA6;\n",
              "    }\n",
              "\n",
              "    [theme=dark] .colab-df-convert {\n",
              "      background-color: #3B4455;\n",
              "      fill: #D2E3FC;\n",
              "    }\n",
              "\n",
              "    [theme=dark] .colab-df-convert:hover {\n",
              "      background-color: #434B5C;\n",
              "      box-shadow: 0px 1px 3px 1px rgba(0, 0, 0, 0.15);\n",
              "      filter: drop-shadow(0px 1px 2px rgba(0, 0, 0, 0.3));\n",
              "      fill: #FFFFFF;\n",
              "    }\n",
              "  </style>\n",
              "\n",
              "      <script>\n",
              "        const buttonEl =\n",
              "          document.querySelector('#df-5627e11c-95c7-4204-a4c8-d4c1279a745d button.colab-df-convert');\n",
              "        buttonEl.style.display =\n",
              "          google.colab.kernel.accessAllowed ? 'block' : 'none';\n",
              "\n",
              "        async function convertToInteractive(key) {\n",
              "          const element = document.querySelector('#df-5627e11c-95c7-4204-a4c8-d4c1279a745d');\n",
              "          const dataTable =\n",
              "            await google.colab.kernel.invokeFunction('convertToInteractive',\n",
              "                                                     [key], {});\n",
              "          if (!dataTable) return;\n",
              "\n",
              "          const docLinkHtml = 'Like what you see? Visit the ' +\n",
              "            '<a target=\"_blank\" href=https://colab.research.google.com/notebooks/data_table.ipynb>data table notebook</a>'\n",
              "            + ' to learn more about interactive tables.';\n",
              "          element.innerHTML = '';\n",
              "          dataTable['output_type'] = 'display_data';\n",
              "          await google.colab.output.renderOutput(dataTable, element);\n",
              "          const docLink = document.createElement('div');\n",
              "          docLink.innerHTML = docLinkHtml;\n",
              "          element.appendChild(docLink);\n",
              "        }\n",
              "      </script>\n",
              "    </div>\n",
              "  </div>\n",
              "  "
            ]
          },
          "metadata": {},
          "execution_count": 9
        }
      ]
    },
    {
      "cell_type": "code",
      "source": [
        "# valores NaN\n",
        "df_aux.isnull().sum()"
      ],
      "metadata": {
        "colab": {
          "base_uri": "https://localhost:8080/"
        },
        "id": "vMbvST05B33r",
        "outputId": "45d1bc53-ecad-4598-fa99-32d1e2472308"
      },
      "execution_count": 10,
      "outputs": [
        {
          "output_type": "execute_result",
          "data": {
            "text/plain": [
              "nome_do_curso          0\n",
              "nota_integral_ampla    0\n",
              "nota_integral_cotas    0\n",
              "nota_parcial_ampla     0\n",
              "nota_parcial_cotas     0\n",
              "dtype: int64"
            ]
          },
          "metadata": {},
          "execution_count": 10
        }
      ]
    },
    {
      "cell_type": "code",
      "source": [
        "# tipos de atributos\n",
        "# object: strings\n",
        "# int64: inteiros\n",
        "# float64: reais\n",
        "# complex: complexos\n",
        "df_aux.dtypes"
      ],
      "metadata": {
        "colab": {
          "base_uri": "https://localhost:8080/"
        },
        "id": "XFhJHdEWCAg6",
        "outputId": "afb93ac6-10d0-4657-d313-91b831e6deac"
      },
      "execution_count": 11,
      "outputs": [
        {
          "output_type": "execute_result",
          "data": {
            "text/plain": [
              "nome_do_curso           object\n",
              "nota_integral_ampla    float64\n",
              "nota_integral_cotas    float64\n",
              "nota_parcial_ampla     float64\n",
              "nota_parcial_cotas     float64\n",
              "dtype: object"
            ]
          },
          "metadata": {},
          "execution_count": 11
        }
      ]
    },
    {
      "cell_type": "code",
      "source": [
        "# Dados estatísticos\n",
        "\n",
        "df_aux.describe()"
      ],
      "metadata": {
        "id": "VjSMCJSDCJW2",
        "outputId": "07385925-f0b9-4667-9924-84d4da3f3bcc",
        "colab": {
          "base_uri": "https://localhost:8080/",
          "height": 300
        }
      },
      "execution_count": 12,
      "outputs": [
        {
          "output_type": "execute_result",
          "data": {
            "text/plain": [
              "       nota_integral_ampla  nota_integral_cotas  nota_parcial_ampla  \\\n",
              "count          2203.000000          2203.000000         2203.000000   \n",
              "mean            599.380390           574.097921          547.297204   \n",
              "std              53.194117            59.868058           58.971101   \n",
              "min             450.000000           450.000000          450.000000   \n",
              "25%             569.530000           542.290000          507.260000   \n",
              "50%             602.040000           583.320000          555.240000   \n",
              "75%             634.550000           614.340000          588.140000   \n",
              "max             781.200000           792.240000          776.360000   \n",
              "\n",
              "       nota_parcial_cotas  \n",
              "count         2203.000000  \n",
              "mean           521.452964  \n",
              "std             56.371352  \n",
              "min            450.000000  \n",
              "25%            450.000000  \n",
              "50%            526.540000  \n",
              "75%            563.600000  \n",
              "max            768.340000  "
            ],
            "text/html": [
              "\n",
              "  <div id=\"df-229d1a60-0379-4203-9b51-5d9a2bcc2511\">\n",
              "    <div class=\"colab-df-container\">\n",
              "      <div>\n",
              "<style scoped>\n",
              "    .dataframe tbody tr th:only-of-type {\n",
              "        vertical-align: middle;\n",
              "    }\n",
              "\n",
              "    .dataframe tbody tr th {\n",
              "        vertical-align: top;\n",
              "    }\n",
              "\n",
              "    .dataframe thead th {\n",
              "        text-align: right;\n",
              "    }\n",
              "</style>\n",
              "<table border=\"1\" class=\"dataframe\">\n",
              "  <thead>\n",
              "    <tr style=\"text-align: right;\">\n",
              "      <th></th>\n",
              "      <th>nota_integral_ampla</th>\n",
              "      <th>nota_integral_cotas</th>\n",
              "      <th>nota_parcial_ampla</th>\n",
              "      <th>nota_parcial_cotas</th>\n",
              "    </tr>\n",
              "  </thead>\n",
              "  <tbody>\n",
              "    <tr>\n",
              "      <th>count</th>\n",
              "      <td>2203.000000</td>\n",
              "      <td>2203.000000</td>\n",
              "      <td>2203.000000</td>\n",
              "      <td>2203.000000</td>\n",
              "    </tr>\n",
              "    <tr>\n",
              "      <th>mean</th>\n",
              "      <td>599.380390</td>\n",
              "      <td>574.097921</td>\n",
              "      <td>547.297204</td>\n",
              "      <td>521.452964</td>\n",
              "    </tr>\n",
              "    <tr>\n",
              "      <th>std</th>\n",
              "      <td>53.194117</td>\n",
              "      <td>59.868058</td>\n",
              "      <td>58.971101</td>\n",
              "      <td>56.371352</td>\n",
              "    </tr>\n",
              "    <tr>\n",
              "      <th>min</th>\n",
              "      <td>450.000000</td>\n",
              "      <td>450.000000</td>\n",
              "      <td>450.000000</td>\n",
              "      <td>450.000000</td>\n",
              "    </tr>\n",
              "    <tr>\n",
              "      <th>25%</th>\n",
              "      <td>569.530000</td>\n",
              "      <td>542.290000</td>\n",
              "      <td>507.260000</td>\n",
              "      <td>450.000000</td>\n",
              "    </tr>\n",
              "    <tr>\n",
              "      <th>50%</th>\n",
              "      <td>602.040000</td>\n",
              "      <td>583.320000</td>\n",
              "      <td>555.240000</td>\n",
              "      <td>526.540000</td>\n",
              "    </tr>\n",
              "    <tr>\n",
              "      <th>75%</th>\n",
              "      <td>634.550000</td>\n",
              "      <td>614.340000</td>\n",
              "      <td>588.140000</td>\n",
              "      <td>563.600000</td>\n",
              "    </tr>\n",
              "    <tr>\n",
              "      <th>max</th>\n",
              "      <td>781.200000</td>\n",
              "      <td>792.240000</td>\n",
              "      <td>776.360000</td>\n",
              "      <td>768.340000</td>\n",
              "    </tr>\n",
              "  </tbody>\n",
              "</table>\n",
              "</div>\n",
              "      <button class=\"colab-df-convert\" onclick=\"convertToInteractive('df-229d1a60-0379-4203-9b51-5d9a2bcc2511')\"\n",
              "              title=\"Convert this dataframe to an interactive table.\"\n",
              "              style=\"display:none;\">\n",
              "        \n",
              "  <svg xmlns=\"http://www.w3.org/2000/svg\" height=\"24px\"viewBox=\"0 0 24 24\"\n",
              "       width=\"24px\">\n",
              "    <path d=\"M0 0h24v24H0V0z\" fill=\"none\"/>\n",
              "    <path d=\"M18.56 5.44l.94 2.06.94-2.06 2.06-.94-2.06-.94-.94-2.06-.94 2.06-2.06.94zm-11 1L8.5 8.5l.94-2.06 2.06-.94-2.06-.94L8.5 2.5l-.94 2.06-2.06.94zm10 10l.94 2.06.94-2.06 2.06-.94-2.06-.94-.94-2.06-.94 2.06-2.06.94z\"/><path d=\"M17.41 7.96l-1.37-1.37c-.4-.4-.92-.59-1.43-.59-.52 0-1.04.2-1.43.59L10.3 9.45l-7.72 7.72c-.78.78-.78 2.05 0 2.83L4 21.41c.39.39.9.59 1.41.59.51 0 1.02-.2 1.41-.59l7.78-7.78 2.81-2.81c.8-.78.8-2.07 0-2.86zM5.41 20L4 18.59l7.72-7.72 1.47 1.35L5.41 20z\"/>\n",
              "  </svg>\n",
              "      </button>\n",
              "      \n",
              "  <style>\n",
              "    .colab-df-container {\n",
              "      display:flex;\n",
              "      flex-wrap:wrap;\n",
              "      gap: 12px;\n",
              "    }\n",
              "\n",
              "    .colab-df-convert {\n",
              "      background-color: #E8F0FE;\n",
              "      border: none;\n",
              "      border-radius: 50%;\n",
              "      cursor: pointer;\n",
              "      display: none;\n",
              "      fill: #1967D2;\n",
              "      height: 32px;\n",
              "      padding: 0 0 0 0;\n",
              "      width: 32px;\n",
              "    }\n",
              "\n",
              "    .colab-df-convert:hover {\n",
              "      background-color: #E2EBFA;\n",
              "      box-shadow: 0px 1px 2px rgba(60, 64, 67, 0.3), 0px 1px 3px 1px rgba(60, 64, 67, 0.15);\n",
              "      fill: #174EA6;\n",
              "    }\n",
              "\n",
              "    [theme=dark] .colab-df-convert {\n",
              "      background-color: #3B4455;\n",
              "      fill: #D2E3FC;\n",
              "    }\n",
              "\n",
              "    [theme=dark] .colab-df-convert:hover {\n",
              "      background-color: #434B5C;\n",
              "      box-shadow: 0px 1px 3px 1px rgba(0, 0, 0, 0.15);\n",
              "      filter: drop-shadow(0px 1px 2px rgba(0, 0, 0, 0.3));\n",
              "      fill: #FFFFFF;\n",
              "    }\n",
              "  </style>\n",
              "\n",
              "      <script>\n",
              "        const buttonEl =\n",
              "          document.querySelector('#df-229d1a60-0379-4203-9b51-5d9a2bcc2511 button.colab-df-convert');\n",
              "        buttonEl.style.display =\n",
              "          google.colab.kernel.accessAllowed ? 'block' : 'none';\n",
              "\n",
              "        async function convertToInteractive(key) {\n",
              "          const element = document.querySelector('#df-229d1a60-0379-4203-9b51-5d9a2bcc2511');\n",
              "          const dataTable =\n",
              "            await google.colab.kernel.invokeFunction('convertToInteractive',\n",
              "                                                     [key], {});\n",
              "          if (!dataTable) return;\n",
              "\n",
              "          const docLinkHtml = 'Like what you see? Visit the ' +\n",
              "            '<a target=\"_blank\" href=https://colab.research.google.com/notebooks/data_table.ipynb>data table notebook</a>'\n",
              "            + ' to learn more about interactive tables.';\n",
              "          element.innerHTML = '';\n",
              "          dataTable['output_type'] = 'display_data';\n",
              "          await google.colab.output.renderOutput(dataTable, element);\n",
              "          const docLink = document.createElement('div');\n",
              "          docLink.innerHTML = docLinkHtml;\n",
              "          element.appendChild(docLink);\n",
              "        }\n",
              "      </script>\n",
              "    </div>\n",
              "  </div>\n",
              "  "
            ]
          },
          "metadata": {},
          "execution_count": 12
        }
      ]
    },
    {
      "cell_type": "markdown",
      "source": [
        "Outliers"
      ],
      "metadata": {
        "id": "3gvTzSU8ylhq"
      }
    },
    {
      "cell_type": "code",
      "source": [
        "import plotly.express as px"
      ],
      "metadata": {
        "id": "w0NVk6DWynsa"
      },
      "execution_count": 13,
      "outputs": []
    },
    {
      "cell_type": "code",
      "source": [
        "boxplot = px.box(df_aux, y=\"nota_integral_ampla\")\n",
        "boxplot.show()"
      ],
      "metadata": {
        "colab": {
          "base_uri": "https://localhost:8080/",
          "height": 542
        },
        "id": "Q02s8Aq3ytp3",
        "outputId": "5c5eba95-36a8-483c-a161-841ed50ecf40"
      },
      "execution_count": 15,
      "outputs": [
        {
          "output_type": "display_data",
          "data": {
            "text/html": [
              "<html>\n",
              "<head><meta charset=\"utf-8\" /></head>\n",
              "<body>\n",
              "    <div>            <script src=\"https://cdnjs.cloudflare.com/ajax/libs/mathjax/2.7.5/MathJax.js?config=TeX-AMS-MML_SVG\"></script><script type=\"text/javascript\">if (window.MathJax) {MathJax.Hub.Config({SVG: {font: \"STIX-Web\"}});}</script>                <script type=\"text/javascript\">window.PlotlyConfig = {MathJaxConfig: 'local'};</script>\n",
              "        <script src=\"https://cdn.plot.ly/plotly-2.8.3.min.js\"></script>                <div id=\"ec284bea-c15e-40af-ad0f-134f765cd7c5\" class=\"plotly-graph-div\" style=\"height:525px; width:100%;\"></div>            <script type=\"text/javascript\">                                    window.PLOTLYENV=window.PLOTLYENV || {};                                    if (document.getElementById(\"ec284bea-c15e-40af-ad0f-134f765cd7c5\")) {                    Plotly.newPlot(                        \"ec284bea-c15e-40af-ad0f-134f765cd7c5\",                        [{\"alignmentgroup\":\"True\",\"hovertemplate\":\"nota_integral_ampla=%{y}<extra></extra>\",\"legendgroup\":\"\",\"marker\":{\"color\":\"#636efa\"},\"name\":\"\",\"notched\":false,\"offsetgroup\":\"\",\"orientation\":\"v\",\"showlegend\":false,\"x0\":\" \",\"xaxis\":\"x\",\"y\":[739.62,758.32,741.06,741.36,756.46,757.84,735.84,770.5,745.46,754.98,744.88,765.76,742.72,781.2,762.74,680.44,697.74,678.94,714.76,702.72,689.36,667.28,650.72,615.08,698.94,626.36,674.88,603.6,697.6,666.24,671.98,688.44,678.32,712.84,710.4,646.82,685.36,714.18,679.32,692.56,659.42,707.42,639.18,657.32,642.44,681.0,699.8,679.18,657.96,648.6,664.9,632.36,590.76,626.2,580.28,588.96,669.0,667.74,655.66,641.98,695.3,664.5,724.82,689.48,706.24,646.22,634.28,683.84,753.66,585.08,601.0,614.86,665.56,571.66,695.12,706.2,605.18,650.24,665.8,643.58,619.34,602.84,648.94,610.94,631.82,622.64,625.66,602.76,704.86,617.58,638.0,559.22,603.84,666.5,645.46,677.58,679.84,650.88,591.76,698.62,626.2,636.6,630.88,634.06,590.66,602.08,614.36,633.46,637.02,616.32,676.08,594.94,570.32,716.04,685.38,721.3,712.34,687.12,691.66,613.6,651.78,676.68,654.7,583.0,653.96,595.68,619.72,611.24,624.54,607.38,688.7,627.14,656.22,669.98,573.48,588.5,692.84,634.04,664.58,652.82,690.46,597.7,685.22,623.06,568.12,731.74,717.6,677.7,646.34,627.66,641.46,667.16,669.62,685.2,667.16,670.44,613.92,623.68,591.8,630.02,649.72,606.24,574.28,632.76,658.38,624.04,705.94,669.7,656.78,663.36,659.56,647.56,617.68,670.86,655.2,714.0,640.02,621.7,634.5,650.76,649.78,690.22,667.02,637.6,656.12,595.1,643.42,629.62,610.34,594.14,614.14,632.54,616.58,637.7,663.44,618.08,598.18,595.46,638.86,611.82,656.88,599.32,597.84,641.1,671.82,684.6,592.74,609.5,657.94,642.68,618.4,594.78,615.3,598.6,635.42,644.8,661.88,631.66,656.64,636.0,688.04,691.52,636.02,653.02,671.38,582.7,635.94,650.1,669.06,650.84,584.26,645.78,616.6,732.1,627.44,698.78,576.36,616.62,601.88,612.96,679.42,675.3,599.32,633.42,640.02,705.9,615.74,625.9,633.62,653.46,672.7,662.94,622.62,630.42,592.9,605.46,591.92,603.24,641.28,606.54,572.4,636.5,662.86,696.72,629.5,634.08,658.0,636.52,648.36,548.14,616.2,599.1,607.56,662.36,637.06,611.3,623.56,677.86,682.86,651.16,648.38,667.34,638.88,605.06,632.58,638.02,658.9,617.84,593.26,617.58,652.82,646.26,619.08,608.5,676.24,660.7,664.54,682.72,676.84,699.1,688.6,625.16,669.32,582.68,670.42,674.92,672.92,565.7,645.42,626.24,654.84,655.3,643.5,667.74,637.46,616.44,609.96,612.62,652.12,643.5,639.24,591.48,620.26,653.14,614.08,630.12,635.02,631.08,639.06,642.12,630.96,604.8,661.6,623.98,659.4,630.64,603.56,671.46,672.96,644.1,589.86,709.66,684.82,659.54,666.44,630.26,590.56,641.68,634.14,682.06,661.28,604.56,646.76,653.1,593.0,646.36,609.66,606.28,615.4,591.68,636.0,624.72,668.84,590.46,639.24,575.24,608.76,646.12,659.48,633.34,695.24,682.92,555.34,647.22,647.0,652.9,636.62,645.78,631.28,664.96,621.0,646.78,640.56,642.04,667.48,640.54,618.22,669.8,654.36,667.94,598.84,583.0,612.12,645.06,629.34,640.18,680.96,649.52,644.24,583.0,553.9,630.34,617.32,615.34,621.0,671.6,635.74,563.44,637.08,603.78,680.48,625.98,612.62,581.68,591.86,684.28,668.18,577.26,577.62,628.12,615.1,632.34,646.84,649.42,617.62,622.18,626.06,608.82,649.28,619.36,618.6,598.88,645.34,601.34,615.12,607.14,621.1,618.4,619.48,633.98,638.26,605.72,660.2,635.72,632.82,586.14,571.76,619.94,587.06,599.28,670.14,702.14,699.18,635.12,629.32,620.76,622.78,627.46,606.34,679.8,650.86,582.36,665.0,576.66,633.52,590.62,603.88,675.2,652.22,617.68,641.96,670.16,667.1,677.42,568.24,685.9,628.08,662.5,664.7,685.2,603.16,645.18,643.08,629.1,656.12,600.26,608.6,601.86,645.68,490.12,636.74,627.82,652.48,661.54,614.8,620.12,514.48,596.8,534.04,453.22,514.3,450.0,450.0,510.32,459.58,498.66,521.56,681.38,597.76,625.64,628.46,677.76,606.9,582.16,594.18,609.84,613.1,554.86,642.12,635.22,683.28,610.84,607.3,664.54,625.86,636.32,634.9,602.36,613.48,669.58,610.34,621.22,621.58,613.46,590.7,630.76,633.42,648.2,632.36,621.9,653.66,600.46,619.96,646.94,617.42,572.84,623.7,628.9,634.7,671.08,662.12,639.5,645.32,693.0,671.44,677.24,661.34,660.02,629.68,604.8,607.76,630.14,643.04,650.92,659.78,616.0,655.8,613.66,653.48,613.62,591.36,583.8,584.92,595.14,600.74,655.68,681.62,651.72,582.98,588.04,596.2,627.04,669.9,633.62,627.26,660.8,689.58,638.12,613.86,601.14,600.74,598.8,618.1,641.26,691.62,642.12,643.34,596.98,611.54,621.02,607.18,636.96,627.36,653.78,639.66,540.34,610.12,619.58,642.16,636.02,609.1,600.08,603.78,695.92,618.42,614.1,612.16,699.66,657.8,676.24,627.66,568.02,567.02,518.88,542.56,566.22,632.46,623.52,683.76,604.56,550.56,623.28,619.54,602.04,594.08,624.92,625.46,638.86,724.34,636.82,612.52,672.86,638.76,657.2,603.38,651.56,562.66,450.0,544.28,543.04,570.24,481.44,554.58,586.48,576.02,571.4,555.36,659.86,583.92,662.58,649.88,596.32,714.96,679.04,627.02,585.12,643.88,584.12,643.74,627.02,611.1,676.74,613.92,622.74,660.84,606.32,595.66,614.14,601.68,588.38,588.14,625.78,640.66,588.16,581.1,558.52,572.48,626.34,638.94,568.74,572.96,627.72,584.42,642.3,590.8,626.22,612.98,645.14,638.42,625.16,560.58,647.02,636.54,610.3,636.64,651.78,577.74,611.08,617.66,663.24,632.74,655.7,626.02,635.86,619.98,580.5,564.78,580.3,665.46,656.12,639.46,627.54,674.06,596.12,638.42,665.88,645.14,649.66,629.12,639.48,616.02,638.1,595.44,541.74,625.96,672.96,610.5,652.4,670.8,600.74,497.82,591.3,641.84,632.84,643.5,644.14,638.12,589.36,679.62,657.24,625.0,620.0,661.26,599.1,646.46,664.72,656.9,637.02,651.28,621.18,660.64,666.24,634.86,622.34,613.48,582.76,602.18,601.98,621.64,639.18,600.8,619.06,629.76,605.02,630.18,580.78,554.02,598.9,577.1,589.28,574.64,571.9,588.72,614.22,612.02,635.38,493.7,469.42,619.92,638.5,672.62,673.5,592.8,616.3,511.66,673.92,626.16,633.96,629.94,555.46,549.4,663.32,637.92,641.78,631.32,542.12,552.68,579.8,624.2,594.92,649.38,595.94,601.06,618.28,636.86,623.1,602.92,589.24,650.0,562.98,610.12,592.6,651.48,662.18,567.26,606.54,656.58,585.16,630.34,565.4,617.28,631.64,636.5,660.76,616.76,646.12,610.8,646.08,600.02,576.58,669.02,612.64,624.32,654.02,580.3,576.36,552.92,625.26,613.36,640.72,614.44,640.18,678.94,615.02,664.46,646.54,661.1,635.14,686.2,654.46,565.32,581.6,576.64,601.04,575.84,584.34,562.68,620.34,646.12,655.38,654.74,644.6,625.96,526.22,541.84,545.46,611.74,602.78,550.8,652.38,619.18,623.96,616.32,613.28,665.86,590.42,703.74,639.96,620.54,603.44,583.4,624.98,667.58,663.76,603.66,564.58,547.04,613.1,596.32,582.16,651.86,654.56,621.92,503.64,478.38,655.86,612.36,559.06,604.16,625.64,611.82,596.74,589.6,674.08,615.8,631.14,560.72,620.86,592.42,600.76,613.32,613.34,587.12,613.78,628.16,655.1,645.4,650.86,568.26,511.16,603.44,639.82,643.2,590.72,564.64,617.44,549.06,621.5,635.4,598.68,639.72,574.38,579.78,605.16,632.2,637.78,662.88,659.62,597.64,584.52,618.56,616.88,696.58,608.0,582.86,587.92,593.44,629.24,569.18,574.48,581.42,609.92,588.92,637.74,606.88,597.24,648.36,564.16,591.8,646.56,638.7,592.86,586.9,595.22,551.38,602.9,569.54,581.42,576.08,617.34,609.64,583.0,655.84,571.02,512.6,598.34,611.92,641.18,655.8,623.8,623.02,607.4,609.8,588.76,620.04,616.14,607.16,612.02,540.24,527.58,669.4,606.26,571.58,616.26,618.92,588.2,595.1,665.5,615.22,603.96,591.24,643.1,618.36,581.76,596.3,555.56,590.7,660.28,624.56,658.3,627.86,652.68,625.92,631.06,656.1,617.54,581.28,589.36,615.4,576.56,628.1,634.6,592.88,625.7,664.06,554.0,550.62,612.9,566.58,593.44,593.88,578.78,581.96,588.02,602.02,631.38,580.42,586.86,590.74,669.64,598.36,525.18,601.02,621.84,594.06,641.9,641.6,656.86,620.02,640.12,577.48,590.52,531.64,602.78,628.08,633.7,641.92,608.46,646.28,601.92,570.5,632.62,625.38,597.82,596.36,616.72,630.36,522.76,518.7,584.16,554.08,656.12,605.7,602.2,567.92,724.6,663.26,636.38,652.18,588.92,643.16,602.6,643.24,599.48,585.58,569.68,595.46,670.28,630.42,605.06,599.86,618.26,585.6,562.28,605.92,621.3,560.78,582.44,570.0,573.28,605.74,573.34,604.66,686.92,617.74,649.08,685.28,645.0,637.14,626.02,630.24,589.56,612.42,540.84,562.96,592.92,643.04,650.0,647.06,602.04,580.34,604.8,593.4,569.52,592.92,594.64,670.62,587.82,595.18,579.06,595.82,600.1,614.74,635.4,646.62,628.74,642.14,619.14,625.06,630.22,651.78,618.68,633.98,586.56,553.02,530.34,539.5,564.22,649.3,623.66,636.5,585.36,593.0,588.26,602.84,614.56,598.82,584.02,563.3,590.88,588.42,636.48,665.58,622.14,617.44,529.82,590.52,553.7,577.18,593.62,576.68,583.02,638.38,633.44,627.42,594.84,627.58,608.94,647.18,621.0,605.66,634.1,609.06,636.36,568.92,600.96,582.62,623.82,596.44,639.58,669.3,604.52,630.56,606.62,667.14,605.44,625.08,596.02,558.54,634.82,581.64,571.86,586.4,573.44,569.98,578.76,614.78,617.46,606.64,564.48,590.88,631.26,625.72,648.4,601.66,583.82,617.68,643.76,621.86,582.42,563.04,610.94,624.52,615.52,663.08,592.06,564.1,617.66,624.7,594.08,581.7,587.46,620.72,600.24,608.86,665.9,633.06,616.94,552.0,619.06,626.82,617.64,525.44,600.16,567.04,615.24,592.22,615.94,519.0,573.26,655.58,593.26,604.06,655.7,591.72,570.1,551.32,637.9,593.14,589.44,596.68,549.46,558.9,544.42,637.68,629.48,570.52,581.18,600.24,595.58,611.52,619.58,574.04,608.02,577.6,682.66,562.84,585.16,583.04,561.26,600.78,580.64,586.68,636.56,592.14,606.18,637.88,613.22,560.5,656.72,597.36,577.2,577.42,607.78,595.7,573.56,572.5,612.84,522.06,589.22,567.46,547.72,606.06,633.0,548.88,573.28,586.86,584.1,640.96,594.3,573.14,590.58,633.1,557.26,607.46,632.46,630.82,575.06,635.84,600.12,629.52,614.74,588.78,568.28,469.12,593.86,553.14,619.76,660.7,625.36,670.7,630.9,614.3,550.12,602.2,624.44,549.78,603.06,640.0,534.96,611.94,627.0,576.4,591.28,596.18,616.76,615.18,613.62,586.12,665.64,601.78,625.84,612.92,603.0,673.74,612.02,678.88,661.68,544.6,639.18,573.26,633.1,550.5,560.02,588.24,574.2,594.84,586.16,671.44,622.04,607.9,600.46,619.5,589.98,567.24,575.5,593.96,611.56,620.44,603.94,637.34,589.3,617.52,530.1,590.18,552.46,660.76,594.18,563.36,621.7,586.7,621.58,623.14,641.52,543.6,602.66,541.06,589.08,589.34,627.16,647.26,634.7,584.6,605.24,600.44,604.66,592.14,610.58,606.52,602.3,588.72,581.1,582.62,603.12,561.34,582.3,671.9,595.2,603.78,593.7,601.56,532.14,649.18,517.08,529.52,601.8,594.8,545.2,602.0,629.08,630.22,560.94,589.48,609.3,560.86,604.48,601.82,670.3,592.02,690.04,606.78,576.54,574.58,596.98,595.32,567.06,580.56,648.32,571.74,618.56,608.08,629.72,578.16,609.1,592.42,584.34,614.22,568.14,606.68,571.1,647.48,572.38,603.68,609.86,609.52,601.14,612.86,631.46,577.58,591.86,642.24,554.12,534.66,596.94,637.66,600.48,544.86,558.62,555.44,556.24,568.02,608.78,601.78,653.24,592.38,619.2,621.42,634.82,597.86,613.52,593.72,593.52,624.78,585.92,538.2,626.12,598.42,680.0,450.0,511.86,530.04,633.12,686.94,580.7,592.28,571.54,619.68,627.36,549.62,585.06,599.5,585.72,584.8,538.14,543.12,602.02,614.82,590.4,609.82,572.6,608.3,513.32,549.74,553.44,563.18,560.18,569.72,611.3,622.46,542.84,576.5,539.16,550.62,566.26,554.7,522.0,641.64,606.5,586.36,600.96,600.68,566.7,570.24,565.32,608.38,616.38,650.96,560.74,587.42,598.06,591.06,574.32,581.14,638.26,653.54,638.54,596.42,586.74,564.0,546.9,567.58,581.1,589.98,539.72,611.2,545.5,562.46,579.86,576.12,599.66,553.34,607.38,569.74,610.52,516.26,557.82,615.54,563.5,617.38,659.38,450.0,576.04,627.7,537.84,564.02,595.7,598.14,559.9,589.04,589.14,574.68,601.54,574.66,618.1,593.1,601.12,588.1,602.56,627.24,622.56,609.22,612.24,608.18,612.4,610.46,586.5,510.86,587.76,576.48,598.72,603.56,603.02,577.24,586.82,544.66,621.72,609.88,607.86,582.56,602.08,574.5,606.08,582.8,604.96,578.92,607.28,593.94,615.14,626.72,681.18,595.96,571.98,610.6,593.08,598.26,586.08,570.3,578.32,580.7,564.06,608.06,569.84,590.84,599.02,566.94,597.02,583.24,612.9,671.76,572.56,556.72,585.94,585.72,557.06,603.0,698.18,602.46,560.18,576.48,533.16,568.72,582.04,544.08,563.74,536.54,589.14,563.44,567.2,509.78,518.48,573.9,577.74,588.68,658.4,587.2,548.8,562.48,574.14,585.7,580.74,585.28,592.66,488.84,450.0,561.82,552.3,638.66,516.84,486.18,549.7,551.38,574.88,450.0,450.0,450.0,514.08,467.26,556.68,450.0,450.0,576.92,517.2,501.52,553.84,450.0,450.0,466.56,450.0,450.0,450.0,537.7,544.88,564.6,450.0,450.0,559.8,450.0,450.0,565.9,552.56,614.4,640.66,616.52,568.22,534.52,575.82,562.84,533.88,580.86,511.26,590.3,619.78,603.22,572.22,548.18,576.8,567.12,565.4,605.9,578.82,638.56,570.18,530.74,589.76,539.26,607.58,582.96,571.36,610.44,638.94,564.62,604.5,552.56,518.8,548.24,573.34,557.18,565.88,628.68,554.48,581.8,630.56,578.32,577.1,535.94,554.38,565.32,582.88,562.52,556.38,559.02,582.4,584.0,571.0,519.04,545.46,562.8,573.1,593.12,545.3,450.0,523.5,578.26,590.54,574.64,582.18,581.3,519.88,498.36,540.9,497.0,491.46,575.82,614.54,594.62,583.48,517.6,493.88,544.32,559.76,623.02,537.3,578.64,558.22,558.88,585.84,564.46,526.66,551.46,587.96,590.02,558.7,503.52,551.84,558.32,511.9,541.5,471.08,514.16,532.98,536.2,543.4,450.0,542.5,528.58,456.64,550.54,561.86,506.08,510.92,556.28,450.0,475.3,563.6,540.5,593.02,533.56,573.06,548.76,467.36,570.06,493.08,575.78,518.46,464.58,491.72,551.44,547.24,487.78,450.0,575.18,481.4,545.04,569.56,518.16,450.0,523.62,530.66,564.68,526.9,469.84,549.68,585.34,567.16,575.24,571.36,546.52,575.5,569.2,623.68,582.2,566.2,550.0,563.7,505.78,512.58,526.88,531.24,560.28,497.78,490.56,563.36,633.82,616.64,553.32,584.78,571.08,550.06,486.22,540.58,596.74,600.12,578.0,577.42,549.82,527.06,486.52,597.28,601.04,589.92,531.56,557.24,570.88,598.62,504.7,537.74,574.9,579.82,539.58,551.38,541.98,593.84,608.86,584.38,554.7,548.7,559.28,556.44,625.38,508.16,536.7,454.42,563.78,561.4,561.46,575.46,540.08,534.1,572.6,549.4,614.22,550.42,555.86,533.18,498.62,469.36,577.04,562.84,562.96,557.86,563.44,546.06,507.14,529.48,485.22,528.92,450.0,551.18,589.06,600.94,516.2,559.6,536.1,540.74,611.8,602.48,586.56,575.38,581.64,571.72,564.04,600.64,557.58,544.34,605.2,497.82,450.0,529.32,551.86,515.6,581.06,559.46,550.16,509.22,543.34,450.0,494.82,538.12,596.26,560.58,611.44,550.34,555.08,546.14,587.88,450.0,529.6,516.82,568.36,590.82,573.94,587.94,578.9,577.56,510.0,551.3,533.04,509.26,575.66,553.4,561.7,546.16,535.9,631.82,606.3,479.56,588.94,572.7,581.74,576.12,540.66,532.04,450.0,557.2,478.1,539.36,601.34,538.78,566.76,557.1,594.8,555.12,553.82,517.6,572.34,585.92,570.56,591.1,549.04,505.7,558.94,618.5,552.92,527.8,533.2,487.5,572.12,506.22,505.68,524.56,518.94,536.0,519.9,450.0,511.28,555.86,542.8,574.9,511.82,557.32,524.34,573.22,549.4,571.74,519.34,548.2,536.7,450.0,463.6,553.1,546.28,531.84,491.18,451.36,574.26,668.08,590.82,565.54,526.22,549.72,550.3,532.88,519.1,516.84,597.12,521.12,534.68,566.58,574.42,450.0,538.34,547.06,545.02,553.42,450.0,571.4,533.92,522.12,565.24,493.84,450.0,545.82,572.12,547.72,565.9,511.7,469.78,542.1,526.68,511.36,649.02,601.9,592.14,609.0,450.0,596.3,558.22,503.22,552.48,473.16,450.0,450.0,553.42,541.42,527.56,547.22,593.3,560.04,608.1,606.96,595.48,450.0,450.0,450.0,546.2,560.56,525.82,528.14,563.4,519.66,502.78,534.32,571.64,504.16,622.56,541.7,578.56,566.08,619.46,450.0,640.28,572.04,591.86,599.4,534.08,607.06,525.76,564.04,556.76,574.32,532.26,566.74,450.0,498.94,522.56,563.46,579.98,492.44,553.96,490.78,450.0,546.12,550.58,496.68,450.0,569.98,459.7,556.22,511.02,584.22,577.88,450.0,580.76,528.22,599.8,563.12,577.78,498.46,609.22,618.46,621.84,558.6,567.06,566.62,638.74,594.96,542.64,505.58,584.34,450.0,497.78,456.66,533.34],\"y0\":\" \",\"yaxis\":\"y\",\"type\":\"box\"}],                        {\"template\":{\"data\":{\"bar\":[{\"error_x\":{\"color\":\"#2a3f5f\"},\"error_y\":{\"color\":\"#2a3f5f\"},\"marker\":{\"line\":{\"color\":\"#E5ECF6\",\"width\":0.5},\"pattern\":{\"fillmode\":\"overlay\",\"size\":10,\"solidity\":0.2}},\"type\":\"bar\"}],\"barpolar\":[{\"marker\":{\"line\":{\"color\":\"#E5ECF6\",\"width\":0.5},\"pattern\":{\"fillmode\":\"overlay\",\"size\":10,\"solidity\":0.2}},\"type\":\"barpolar\"}],\"carpet\":[{\"aaxis\":{\"endlinecolor\":\"#2a3f5f\",\"gridcolor\":\"white\",\"linecolor\":\"white\",\"minorgridcolor\":\"white\",\"startlinecolor\":\"#2a3f5f\"},\"baxis\":{\"endlinecolor\":\"#2a3f5f\",\"gridcolor\":\"white\",\"linecolor\":\"white\",\"minorgridcolor\":\"white\",\"startlinecolor\":\"#2a3f5f\"},\"type\":\"carpet\"}],\"choropleth\":[{\"colorbar\":{\"outlinewidth\":0,\"ticks\":\"\"},\"type\":\"choropleth\"}],\"contour\":[{\"colorbar\":{\"outlinewidth\":0,\"ticks\":\"\"},\"colorscale\":[[0.0,\"#0d0887\"],[0.1111111111111111,\"#46039f\"],[0.2222222222222222,\"#7201a8\"],[0.3333333333333333,\"#9c179e\"],[0.4444444444444444,\"#bd3786\"],[0.5555555555555556,\"#d8576b\"],[0.6666666666666666,\"#ed7953\"],[0.7777777777777778,\"#fb9f3a\"],[0.8888888888888888,\"#fdca26\"],[1.0,\"#f0f921\"]],\"type\":\"contour\"}],\"contourcarpet\":[{\"colorbar\":{\"outlinewidth\":0,\"ticks\":\"\"},\"type\":\"contourcarpet\"}],\"heatmap\":[{\"colorbar\":{\"outlinewidth\":0,\"ticks\":\"\"},\"colorscale\":[[0.0,\"#0d0887\"],[0.1111111111111111,\"#46039f\"],[0.2222222222222222,\"#7201a8\"],[0.3333333333333333,\"#9c179e\"],[0.4444444444444444,\"#bd3786\"],[0.5555555555555556,\"#d8576b\"],[0.6666666666666666,\"#ed7953\"],[0.7777777777777778,\"#fb9f3a\"],[0.8888888888888888,\"#fdca26\"],[1.0,\"#f0f921\"]],\"type\":\"heatmap\"}],\"heatmapgl\":[{\"colorbar\":{\"outlinewidth\":0,\"ticks\":\"\"},\"colorscale\":[[0.0,\"#0d0887\"],[0.1111111111111111,\"#46039f\"],[0.2222222222222222,\"#7201a8\"],[0.3333333333333333,\"#9c179e\"],[0.4444444444444444,\"#bd3786\"],[0.5555555555555556,\"#d8576b\"],[0.6666666666666666,\"#ed7953\"],[0.7777777777777778,\"#fb9f3a\"],[0.8888888888888888,\"#fdca26\"],[1.0,\"#f0f921\"]],\"type\":\"heatmapgl\"}],\"histogram\":[{\"marker\":{\"pattern\":{\"fillmode\":\"overlay\",\"size\":10,\"solidity\":0.2}},\"type\":\"histogram\"}],\"histogram2d\":[{\"colorbar\":{\"outlinewidth\":0,\"ticks\":\"\"},\"colorscale\":[[0.0,\"#0d0887\"],[0.1111111111111111,\"#46039f\"],[0.2222222222222222,\"#7201a8\"],[0.3333333333333333,\"#9c179e\"],[0.4444444444444444,\"#bd3786\"],[0.5555555555555556,\"#d8576b\"],[0.6666666666666666,\"#ed7953\"],[0.7777777777777778,\"#fb9f3a\"],[0.8888888888888888,\"#fdca26\"],[1.0,\"#f0f921\"]],\"type\":\"histogram2d\"}],\"histogram2dcontour\":[{\"colorbar\":{\"outlinewidth\":0,\"ticks\":\"\"},\"colorscale\":[[0.0,\"#0d0887\"],[0.1111111111111111,\"#46039f\"],[0.2222222222222222,\"#7201a8\"],[0.3333333333333333,\"#9c179e\"],[0.4444444444444444,\"#bd3786\"],[0.5555555555555556,\"#d8576b\"],[0.6666666666666666,\"#ed7953\"],[0.7777777777777778,\"#fb9f3a\"],[0.8888888888888888,\"#fdca26\"],[1.0,\"#f0f921\"]],\"type\":\"histogram2dcontour\"}],\"mesh3d\":[{\"colorbar\":{\"outlinewidth\":0,\"ticks\":\"\"},\"type\":\"mesh3d\"}],\"parcoords\":[{\"line\":{\"colorbar\":{\"outlinewidth\":0,\"ticks\":\"\"}},\"type\":\"parcoords\"}],\"pie\":[{\"automargin\":true,\"type\":\"pie\"}],\"scatter\":[{\"marker\":{\"colorbar\":{\"outlinewidth\":0,\"ticks\":\"\"}},\"type\":\"scatter\"}],\"scatter3d\":[{\"line\":{\"colorbar\":{\"outlinewidth\":0,\"ticks\":\"\"}},\"marker\":{\"colorbar\":{\"outlinewidth\":0,\"ticks\":\"\"}},\"type\":\"scatter3d\"}],\"scattercarpet\":[{\"marker\":{\"colorbar\":{\"outlinewidth\":0,\"ticks\":\"\"}},\"type\":\"scattercarpet\"}],\"scattergeo\":[{\"marker\":{\"colorbar\":{\"outlinewidth\":0,\"ticks\":\"\"}},\"type\":\"scattergeo\"}],\"scattergl\":[{\"marker\":{\"colorbar\":{\"outlinewidth\":0,\"ticks\":\"\"}},\"type\":\"scattergl\"}],\"scattermapbox\":[{\"marker\":{\"colorbar\":{\"outlinewidth\":0,\"ticks\":\"\"}},\"type\":\"scattermapbox\"}],\"scatterpolar\":[{\"marker\":{\"colorbar\":{\"outlinewidth\":0,\"ticks\":\"\"}},\"type\":\"scatterpolar\"}],\"scatterpolargl\":[{\"marker\":{\"colorbar\":{\"outlinewidth\":0,\"ticks\":\"\"}},\"type\":\"scatterpolargl\"}],\"scatterternary\":[{\"marker\":{\"colorbar\":{\"outlinewidth\":0,\"ticks\":\"\"}},\"type\":\"scatterternary\"}],\"surface\":[{\"colorbar\":{\"outlinewidth\":0,\"ticks\":\"\"},\"colorscale\":[[0.0,\"#0d0887\"],[0.1111111111111111,\"#46039f\"],[0.2222222222222222,\"#7201a8\"],[0.3333333333333333,\"#9c179e\"],[0.4444444444444444,\"#bd3786\"],[0.5555555555555556,\"#d8576b\"],[0.6666666666666666,\"#ed7953\"],[0.7777777777777778,\"#fb9f3a\"],[0.8888888888888888,\"#fdca26\"],[1.0,\"#f0f921\"]],\"type\":\"surface\"}],\"table\":[{\"cells\":{\"fill\":{\"color\":\"#EBF0F8\"},\"line\":{\"color\":\"white\"}},\"header\":{\"fill\":{\"color\":\"#C8D4E3\"},\"line\":{\"color\":\"white\"}},\"type\":\"table\"}]},\"layout\":{\"annotationdefaults\":{\"arrowcolor\":\"#2a3f5f\",\"arrowhead\":0,\"arrowwidth\":1},\"autotypenumbers\":\"strict\",\"coloraxis\":{\"colorbar\":{\"outlinewidth\":0,\"ticks\":\"\"}},\"colorscale\":{\"diverging\":[[0,\"#8e0152\"],[0.1,\"#c51b7d\"],[0.2,\"#de77ae\"],[0.3,\"#f1b6da\"],[0.4,\"#fde0ef\"],[0.5,\"#f7f7f7\"],[0.6,\"#e6f5d0\"],[0.7,\"#b8e186\"],[0.8,\"#7fbc41\"],[0.9,\"#4d9221\"],[1,\"#276419\"]],\"sequential\":[[0.0,\"#0d0887\"],[0.1111111111111111,\"#46039f\"],[0.2222222222222222,\"#7201a8\"],[0.3333333333333333,\"#9c179e\"],[0.4444444444444444,\"#bd3786\"],[0.5555555555555556,\"#d8576b\"],[0.6666666666666666,\"#ed7953\"],[0.7777777777777778,\"#fb9f3a\"],[0.8888888888888888,\"#fdca26\"],[1.0,\"#f0f921\"]],\"sequentialminus\":[[0.0,\"#0d0887\"],[0.1111111111111111,\"#46039f\"],[0.2222222222222222,\"#7201a8\"],[0.3333333333333333,\"#9c179e\"],[0.4444444444444444,\"#bd3786\"],[0.5555555555555556,\"#d8576b\"],[0.6666666666666666,\"#ed7953\"],[0.7777777777777778,\"#fb9f3a\"],[0.8888888888888888,\"#fdca26\"],[1.0,\"#f0f921\"]]},\"colorway\":[\"#636efa\",\"#EF553B\",\"#00cc96\",\"#ab63fa\",\"#FFA15A\",\"#19d3f3\",\"#FF6692\",\"#B6E880\",\"#FF97FF\",\"#FECB52\"],\"font\":{\"color\":\"#2a3f5f\"},\"geo\":{\"bgcolor\":\"white\",\"lakecolor\":\"white\",\"landcolor\":\"#E5ECF6\",\"showlakes\":true,\"showland\":true,\"subunitcolor\":\"white\"},\"hoverlabel\":{\"align\":\"left\"},\"hovermode\":\"closest\",\"mapbox\":{\"style\":\"light\"},\"paper_bgcolor\":\"white\",\"plot_bgcolor\":\"#E5ECF6\",\"polar\":{\"angularaxis\":{\"gridcolor\":\"white\",\"linecolor\":\"white\",\"ticks\":\"\"},\"bgcolor\":\"#E5ECF6\",\"radialaxis\":{\"gridcolor\":\"white\",\"linecolor\":\"white\",\"ticks\":\"\"}},\"scene\":{\"xaxis\":{\"backgroundcolor\":\"#E5ECF6\",\"gridcolor\":\"white\",\"gridwidth\":2,\"linecolor\":\"white\",\"showbackground\":true,\"ticks\":\"\",\"zerolinecolor\":\"white\"},\"yaxis\":{\"backgroundcolor\":\"#E5ECF6\",\"gridcolor\":\"white\",\"gridwidth\":2,\"linecolor\":\"white\",\"showbackground\":true,\"ticks\":\"\",\"zerolinecolor\":\"white\"},\"zaxis\":{\"backgroundcolor\":\"#E5ECF6\",\"gridcolor\":\"white\",\"gridwidth\":2,\"linecolor\":\"white\",\"showbackground\":true,\"ticks\":\"\",\"zerolinecolor\":\"white\"}},\"shapedefaults\":{\"line\":{\"color\":\"#2a3f5f\"}},\"ternary\":{\"aaxis\":{\"gridcolor\":\"white\",\"linecolor\":\"white\",\"ticks\":\"\"},\"baxis\":{\"gridcolor\":\"white\",\"linecolor\":\"white\",\"ticks\":\"\"},\"bgcolor\":\"#E5ECF6\",\"caxis\":{\"gridcolor\":\"white\",\"linecolor\":\"white\",\"ticks\":\"\"}},\"title\":{\"x\":0.05},\"xaxis\":{\"automargin\":true,\"gridcolor\":\"white\",\"linecolor\":\"white\",\"ticks\":\"\",\"title\":{\"standoff\":15},\"zerolinecolor\":\"white\",\"zerolinewidth\":2},\"yaxis\":{\"automargin\":true,\"gridcolor\":\"white\",\"linecolor\":\"white\",\"ticks\":\"\",\"title\":{\"standoff\":15},\"zerolinecolor\":\"white\",\"zerolinewidth\":2}}},\"xaxis\":{\"anchor\":\"y\",\"domain\":[0.0,1.0]},\"yaxis\":{\"anchor\":\"x\",\"domain\":[0.0,1.0],\"title\":{\"text\":\"nota_integral_ampla\"}},\"legend\":{\"tracegroupgap\":0},\"margin\":{\"t\":60},\"boxmode\":\"group\"},                        {\"responsive\": true}                    ).then(function(){\n",
              "                            \n",
              "var gd = document.getElementById('ec284bea-c15e-40af-ad0f-134f765cd7c5');\n",
              "var x = new MutationObserver(function (mutations, observer) {{\n",
              "        var display = window.getComputedStyle(gd).display;\n",
              "        if (!display || display === 'none') {{\n",
              "            console.log([gd, 'removed!']);\n",
              "            Plotly.purge(gd);\n",
              "            observer.disconnect();\n",
              "        }}\n",
              "}});\n",
              "\n",
              "// Listen for the removal of the full notebook cells\n",
              "var notebookContainer = gd.closest('#notebook-container');\n",
              "if (notebookContainer) {{\n",
              "    x.observe(notebookContainer, {childList: true});\n",
              "}}\n",
              "\n",
              "// Listen for the clearing of the current output cell\n",
              "var outputEl = gd.closest('.output');\n",
              "if (outputEl) {{\n",
              "    x.observe(outputEl, {childList: true});\n",
              "}}\n",
              "\n",
              "                        })                };                            </script>        </div>\n",
              "</body>\n",
              "</html>"
            ]
          },
          "metadata": {}
        }
      ]
    },
    {
      "cell_type": "code",
      "source": [
        "boxplot = px.box(df_aux, y=\"nota_integral_cotas\")\n",
        "boxplot.show()"
      ],
      "metadata": {
        "colab": {
          "base_uri": "https://localhost:8080/",
          "height": 542
        },
        "id": "ibEaLG4uy_uT",
        "outputId": "a960b4f9-59e4-4a6e-a564-20cc5f418ef0"
      },
      "execution_count": 16,
      "outputs": [
        {
          "output_type": "display_data",
          "data": {
            "text/html": [
              "<html>\n",
              "<head><meta charset=\"utf-8\" /></head>\n",
              "<body>\n",
              "    <div>            <script src=\"https://cdnjs.cloudflare.com/ajax/libs/mathjax/2.7.5/MathJax.js?config=TeX-AMS-MML_SVG\"></script><script type=\"text/javascript\">if (window.MathJax) {MathJax.Hub.Config({SVG: {font: \"STIX-Web\"}});}</script>                <script type=\"text/javascript\">window.PlotlyConfig = {MathJaxConfig: 'local'};</script>\n",
              "        <script src=\"https://cdn.plot.ly/plotly-2.8.3.min.js\"></script>                <div id=\"99a9c98b-5250-4781-bddd-5b2862b2dc32\" class=\"plotly-graph-div\" style=\"height:525px; width:100%;\"></div>            <script type=\"text/javascript\">                                    window.PLOTLYENV=window.PLOTLYENV || {};                                    if (document.getElementById(\"99a9c98b-5250-4781-bddd-5b2862b2dc32\")) {                    Plotly.newPlot(                        \"99a9c98b-5250-4781-bddd-5b2862b2dc32\",                        [{\"alignmentgroup\":\"True\",\"hovertemplate\":\"nota_integral_cotas=%{y}<extra></extra>\",\"legendgroup\":\"\",\"marker\":{\"color\":\"#636efa\"},\"name\":\"\",\"notched\":false,\"offsetgroup\":\"\",\"orientation\":\"v\",\"showlegend\":false,\"x0\":\" \",\"xaxis\":\"x\",\"y\":[738.08,723.94,729.02,739.9,737.88,738.9,724.7,792.24,746.1,733.6,730.88,741.1,720.2,731.04,749.0,608.68,658.26,658.3,666.78,676.6,686.54,608.36,633.72,590.08,614.76,619.16,656.3,613.74,609.58,633.4,632.8,677.86,605.32,675.64,671.64,652.88,667.86,691.5,645.52,684.52,652.9,653.94,620.28,646.34,628.9,693.12,679.24,665.94,646.1,623.16,699.24,591.84,545.72,615.88,608.58,587.32,678.16,640.06,652.32,601.86,632.9,638.76,661.12,677.56,685.04,637.6,647.4,653.44,658.94,573.22,599.68,585.38,644.44,543.4,730.1,716.86,575.24,628.18,614.88,623.3,588.92,579.82,631.6,627.68,611.72,596.1,706.66,605.84,688.52,617.36,603.48,532.0,629.46,648.64,663.92,672.16,681.22,636.94,592.12,652.24,607.3,638.2,616.06,581.36,539.82,525.52,611.46,618.52,623.82,614.08,647.6,563.56,567.06,687.26,669.52,690.74,686.84,660.5,657.26,592.4,615.38,567.86,632.32,587.88,552.46,553.52,581.86,578.94,633.74,573.02,693.02,610.7,606.52,617.32,573.62,593.26,564.74,587.34,672.8,664.44,658.22,583.62,605.8,608.0,586.32,615.88,663.18,602.18,616.54,607.76,619.7,636.12,640.28,675.74,646.42,639.26,602.02,583.48,584.18,598.22,632.82,619.26,525.84,636.42,672.76,597.04,670.88,645.78,640.88,635.38,612.22,616.78,629.6,650.74,657.24,680.48,617.9,653.5,641.96,604.06,663.42,654.84,649.32,480.28,590.84,775.34,601.34,623.58,628.86,603.6,608.68,655.04,614.34,591.52,656.1,607.66,553.62,545.22,603.38,614.8,649.86,606.16,548.26,544.54,591.3,692.2,582.58,594.44,625.88,567.7,637.66,616.08,585.72,630.0,620.58,621.68,646.02,636.38,629.48,652.64,654.48,591.7,604.62,630.22,622.84,567.14,626.06,650.78,655.42,639.86,571.96,632.7,624.26,690.1,620.4,674.12,597.76,625.24,598.86,597.82,619.56,575.16,551.08,628.18,674.0,676.98,603.94,649.4,648.98,651.58,655.6,661.56,581.58,632.16,627.98,588.52,592.4,618.72,607.8,612.48,585.04,622.32,623.4,611.66,586.06,628.56,655.78,635.82,605.16,553.38,543.08,586.24,580.8,647.46,626.5,575.94,613.2,642.52,629.08,630.1,621.4,592.2,614.88,609.9,586.96,605.72,616.24,450.0,564.42,594.18,623.34,626.36,590.92,605.6,645.46,639.86,644.46,662.58,659.94,625.1,653.6,582.3,589.98,554.26,651.08,650.88,627.44,553.58,606.66,645.96,641.42,628.98,623.38,667.28,625.16,509.0,621.28,579.54,626.94,639.54,558.2,580.08,602.92,652.38,607.14,693.02,617.2,642.44,632.32,621.98,549.6,616.08,635.48,638.18,616.66,575.46,594.98,625.62,641.54,450.0,573.84,682.32,653.22,627.42,615.32,639.1,579.34,613.26,619.06,651.56,627.34,647.88,674.56,625.54,593.96,572.32,596.92,573.08,609.48,581.02,649.12,671.2,559.76,580.36,654.46,576.88,603.1,630.92,643.84,601.86,615.7,641.18,558.78,604.46,614.98,650.82,679.12,647.3,617.8,654.48,605.88,624.24,622.84,640.58,644.22,617.18,567.46,627.0,617.64,659.18,591.48,584.18,575.52,645.16,585.1,633.44,618.24,632.0,623.08,554.84,548.68,630.92,583.64,611.26,598.28,625.4,617.52,586.2,632.46,663.22,624.5,579.64,523.32,560.2,509.02,592.48,652.08,568.7,689.46,631.82,606.98,654.0,614.0,614.34,561.7,620.54,591.46,602.38,602.32,612.04,617.3,599.4,634.98,595.9,583.54,596.24,597.82,602.56,614.34,567.66,602.28,597.34,628.76,614.92,613.0,575.5,581.66,562.72,552.76,615.7,597.24,635.8,663.92,610.04,623.48,632.78,613.1,523.22,577.3,615.62,664.2,573.0,643.88,559.56,552.96,533.04,578.8,639.02,595.62,601.92,603.08,645.2,656.6,674.94,558.42,627.88,607.62,664.92,622.46,687.42,606.16,620.12,646.72,615.3,664.36,582.88,598.7,590.54,624.22,638.72,601.5,582.74,653.52,638.52,589.18,586.24,555.72,591.02,450.0,450.0,450.0,450.0,450.0,450.0,450.0,475.48,510.76,629.36,580.4,601.02,623.5,626.86,568.06,537.16,450.0,611.24,589.02,567.76,619.94,597.78,588.42,575.06,566.44,609.36,541.92,643.78,450.0,612.08,621.56,653.0,600.48,613.58,646.44,601.16,598.9,620.86,637.2,614.68,607.62,607.9,604.94,562.72,580.78,661.86,601.92,621.04,611.18,633.54,642.38,613.36,628.78,629.04,634.22,646.6,656.56,648.66,639.66,629.38,614.82,612.86,652.4,629.52,647.56,611.5,617.48,603.28,613.68,596.68,581.52,608.78,629.94,609.14,550.08,516.62,571.38,511.3,654.72,649.26,586.44,580.42,571.78,652.54,647.64,635.0,639.76,601.38,653.24,648.16,606.64,557.62,585.68,596.98,591.62,596.5,634.68,636.34,629.82,538.32,604.74,606.52,582.38,631.12,605.02,610.8,611.32,450.0,550.12,597.28,634.5,576.68,604.34,587.66,575.96,608.02,598.4,617.74,603.78,624.12,630.48,629.6,619.38,658.16,481.34,525.38,556.18,550.74,631.64,618.76,669.8,602.38,569.84,592.68,601.52,570.36,555.62,598.58,632.64,641.44,617.66,686.32,627.82,638.1,624.44,619.36,592.04,631.52,491.32,450.0,450.0,498.2,471.3,575.46,584.42,603.68,512.9,567.76,503.3,658.98,519.54,590.1,623.68,590.34,589.36,672.32,679.38,561.02,650.14,594.86,553.12,636.4,585.68,583.36,579.1,630.7,632.1,604.64,586.34,608.78,591.96,600.2,565.94,570.56,620.54,539.34,555.48,450.0,570.2,584.78,612.92,562.68,585.76,653.66,588.96,608.18,594.4,620.84,640.1,623.66,619.14,620.98,548.32,554.26,592.2,561.4,557.34,561.16,560.92,597.52,597.58,674.58,572.92,630.66,626.38,633.76,616.24,590.26,532.78,554.14,621.02,639.14,595.78,626.2,597.16,583.56,610.72,622.3,644.6,629.6,622.58,593.56,636.52,589.56,572.4,604.0,612.64,622.46,606.74,671.98,653.54,555.8,556.84,615.28,612.84,604.74,617.86,624.66,648.42,559.52,655.84,682.84,590.1,591.4,621.4,590.96,562.32,632.64,594.84,621.52,626.7,623.68,647.46,638.34,593.58,603.82,580.28,598.86,618.96,601.84,610.28,603.72,568.9,649.52,603.72,609.02,600.32,565.12,579.3,597.58,580.72,606.56,579.18,588.54,552.28,625.5,688.48,615.2,450.0,521.38,562.22,621.28,638.14,635.68,591.02,585.26,509.38,623.5,634.86,608.36,605.26,529.58,476.06,609.42,604.88,585.18,609.34,561.58,568.8,527.92,628.28,575.58,617.6,555.02,582.82,618.1,626.1,634.44,584.46,579.62,622.06,535.8,565.04,595.76,645.86,671.4,613.5,502.1,649.7,598.86,602.64,573.1,554.94,648.72,613.04,578.76,561.14,620.28,594.4,632.56,607.56,468.6,626.8,602.32,603.86,601.44,580.2,570.14,544.62,585.66,609.82,641.68,591.24,635.84,630.54,670.72,617.72,606.48,633.84,694.42,638.0,622.36,569.62,578.2,565.7,589.08,569.0,589.68,574.8,619.54,617.64,614.1,609.12,612.82,619.28,509.62,524.28,527.1,604.88,590.06,477.48,599.96,528.04,570.5,588.4,602.48,637.8,573.86,624.08,620.88,661.04,607.48,574.84,595.76,604.42,663.88,581.32,580.04,562.04,450.0,584.16,585.04,574.38,601.1,602.76,566.84,450.0,588.66,605.52,536.7,578.82,607.06,567.9,583.1,570.3,657.42,581.62,620.88,579.76,610.32,594.18,598.46,571.74,578.36,575.72,617.44,592.8,601.18,651.84,600.76,532.26,570.0,628.34,588.52,603.22,568.48,614.26,605.2,586.8,604.06,602.12,583.32,546.2,599.56,577.34,586.16,625.24,595.26,622.7,621.7,606.08,588.28,542.42,587.4,667.16,581.06,633.46,600.18,552.76,625.1,594.1,556.0,578.16,600.68,565.4,664.52,570.5,556.66,616.28,529.06,560.78,615.22,575.68,595.5,552.58,558.62,613.36,550.5,523.9,584.62,541.36,585.0,607.26,450.0,626.4,598.58,614.64,592.62,574.28,638.74,683.32,626.12,611.4,594.76,567.42,555.44,600.68,629.94,618.4,546.92,522.44,482.06,632.94,578.0,564.6,574.34,611.34,587.6,585.22,602.88,588.86,577.06,557.72,625.68,573.24,593.52,583.24,450.0,530.5,631.9,600.4,589.58,597.04,605.66,583.18,587.62,599.16,625.64,588.82,542.76,507.0,550.78,638.8,584.24,589.14,594.52,660.54,567.26,563.08,567.56,545.44,572.5,538.38,562.14,577.44,579.44,544.32,578.46,577.82,635.0,608.82,640.48,586.6,450.0,471.42,599.7,591.54,620.14,605.12,644.46,558.6,659.38,575.58,549.8,518.28,587.82,619.22,607.82,634.9,604.36,625.44,553.16,551.28,603.12,591.96,588.0,596.44,565.6,661.3,506.04,485.04,604.68,462.56,617.08,668.52,556.64,500.22,661.04,677.68,633.74,618.84,556.64,599.76,586.5,617.08,583.54,579.16,590.4,574.18,611.48,595.24,620.24,594.18,612.9,578.12,559.42,624.9,670.3,491.08,525.22,485.76,540.78,613.38,568.56,581.72,611.62,558.16,583.64,617.0,638.82,638.72,619.22,591.64,602.8,582.8,497.64,537.68,586.48,591.1,512.32,554.52,601.62,559.82,598.34,603.02,558.88,588.7,588.26,667.74,589.78,567.1,586.82,588.26,584.5,580.3,617.22,620.22,656.96,715.0,621.64,599.22,600.28,603.42,648.48,610.18,578.96,578.96,549.5,517.98,577.26,593.36,608.24,591.36,567.38,567.8,579.0,588.58,584.68,588.44,531.58,574.86,581.28,586.98,632.74,590.34,621.7,565.94,524.46,545.7,555.32,552.28,598.32,519.34,548.6,595.48,592.6,631.66,527.1,592.96,572.96,586.64,588.64,584.26,588.44,585.9,602.86,560.78,552.06,591.56,606.32,559.64,600.28,602.36,600.64,608.18,592.38,594.96,631.66,621.64,620.68,503.0,644.48,595.84,599.56,551.9,567.28,542.1,510.46,607.46,609.64,489.18,592.06,580.14,620.74,604.22,594.26,591.72,574.2,574.32,557.78,593.68,590.54,557.0,633.28,566.1,625.4,607.2,557.56,536.58,599.42,574.04,571.94,577.8,565.2,598.38,564.16,604.64,610.12,617.26,594.8,528.1,450.0,594.86,628.12,539.44,565.52,563.2,603.82,571.0,569.38,490.64,578.6,619.66,598.64,580.08,599.68,573.34,606.86,514.24,662.74,574.42,532.6,592.62,602.78,450.0,522.96,556.22,550.2,524.8,529.42,579.34,513.7,597.38,566.16,552.8,599.06,555.7,652.64,523.26,608.08,583.4,542.52,555.72,527.66,524.22,475.7,462.58,554.98,594.3,560.76,450.0,624.78,566.94,596.42,552.4,610.9,571.9,558.64,568.92,565.28,520.78,583.84,565.16,534.72,544.24,574.16,540.9,574.26,563.0,580.78,663.16,629.54,570.68,553.34,620.42,553.82,625.44,604.36,582.2,554.54,620.02,553.44,590.52,599.18,635.46,556.38,450.0,562.18,574.18,625.66,619.62,575.16,690.86,618.66,602.9,548.28,583.68,632.34,600.42,579.12,606.0,538.54,613.44,549.88,574.92,502.42,541.16,612.94,563.72,585.94,562.12,639.94,588.2,601.84,571.02,603.54,604.06,596.92,618.48,639.58,542.92,567.12,588.54,604.22,550.42,552.48,580.68,545.06,608.88,564.38,595.34,589.94,580.52,562.12,628.92,579.66,584.26,550.54,450.0,594.72,617.46,575.72,621.7,587.94,596.58,450.0,576.52,556.06,641.44,597.34,585.52,607.82,554.62,575.38,591.88,605.74,549.12,571.4,578.84,603.2,553.16,626.64,602.2,617.6,565.16,614.04,576.9,573.9,598.8,597.68,622.48,559.84,592.68,545.3,555.52,583.2,567.78,578.06,620.02,584.06,571.88,588.8,574.42,512.1,640.52,503.96,523.48,589.28,503.88,578.8,593.78,599.12,597.64,543.12,593.48,592.54,514.42,561.22,581.6,560.5,573.18,590.36,578.02,515.58,501.68,563.12,562.34,540.16,560.56,626.16,534.92,612.56,594.9,584.32,590.36,587.02,561.66,573.8,624.72,545.22,587.32,556.08,563.08,565.86,543.64,556.22,572.16,591.78,598.78,589.0,564.58,588.58,571.34,531.2,527.06,606.78,631.78,546.82,557.34,563.9,593.66,554.54,450.0,568.54,547.78,604.48,554.24,570.66,569.34,612.36,596.84,597.7,604.38,590.3,594.38,557.5,557.38,583.14,599.26,571.78,450.0,450.0,499.34,603.12,625.6,617.14,570.72,535.42,581.56,607.42,535.18,612.18,578.96,578.44,532.54,506.88,543.32,593.0,608.6,577.58,579.66,578.18,606.36,522.54,499.38,539.3,556.7,584.62,569.34,595.36,590.76,555.86,523.8,493.16,551.4,556.3,522.42,533.38,606.94,507.4,604.5,578.44,598.34,566.9,503.12,531.62,588.08,619.06,623.16,564.14,546.78,528.62,563.56,534.64,535.72,580.86,600.52,582.36,564.26,596.42,562.36,555.98,554.02,505.04,569.18,568.1,615.3,512.86,536.78,542.22,553.02,566.3,520.86,552.52,579.08,605.6,569.28,450.0,574.42,476.66,599.56,619.28,450.0,562.6,603.2,513.2,538.48,617.92,584.88,577.66,593.62,593.2,566.68,595.24,609.32,576.86,528.52,585.74,450.0,620.38,619.22,565.12,552.16,595.18,607.58,605.44,620.98,635.68,502.84,561.92,511.38,569.3,586.82,512.18,540.92,501.48,450.0,513.2,583.48,594.04,567.76,622.3,597.24,635.5,591.72,568.3,547.02,494.92,612.94,617.12,596.46,564.82,585.42,596.08,559.4,568.3,595.0,522.16,549.9,526.72,556.5,556.28,517.16,564.06,560.98,585.52,545.88,600.26,569.56,563.28,577.56,531.94,554.9,538.18,577.7,494.4,576.24,620.6,450.0,519.76,547.32,555.04,610.12,593.02,547.96,558.74,551.48,593.84,450.0,536.92,523.28,517.38,512.38,450.0,611.12,621.98,581.12,478.54,560.44,508.4,585.8,549.3,566.2,598.22,450.0,450.0,538.98,553.18,587.98,450.0,534.56,543.98,530.16,540.32,450.0,450.0,450.0,535.08,450.0,450.0,450.0,481.68,553.98,450.0,450.0,571.98,450.0,468.86,450.0,450.0,478.28,450.0,470.12,450.0,577.1,450.0,450.0,450.0,450.0,450.0,450.0,600.96,607.28,587.78,597.78,528.42,532.84,564.34,565.0,600.7,538.52,530.52,585.48,582.68,556.52,532.24,535.84,575.04,586.26,552.82,570.04,566.92,552.58,563.76,535.06,569.38,503.96,532.5,576.12,564.78,552.92,580.36,564.9,564.22,496.38,461.5,510.24,532.52,535.7,509.94,539.84,512.54,529.3,616.62,605.42,546.54,576.3,554.22,450.0,575.82,568.0,516.84,519.36,608.3,587.54,517.4,450.0,529.36,561.88,557.16,523.68,541.58,450.0,450.0,553.42,601.68,586.0,587.1,563.66,450.0,450.0,514.52,450.0,450.0,561.54,606.08,595.88,529.62,471.02,521.06,533.56,552.46,558.94,508.5,566.84,542.36,539.08,575.14,533.58,520.94,507.02,540.88,521.18,536.74,450.0,527.38,517.9,513.06,487.46,450.0,478.48,505.28,503.72,504.78,453.86,488.08,500.4,450.0,450.0,450.0,466.4,474.36,461.62,450.0,450.0,490.26,528.4,562.12,500.3,589.3,521.38,466.96,507.26,450.0,552.76,450.0,450.0,450.0,450.0,483.18,450.0,450.0,490.36,450.0,520.42,529.92,484.68,504.14,480.58,500.92,559.9,526.46,458.9,450.0,478.26,554.12,492.28,556.04,493.9,530.02,550.98,566.88,482.82,551.54,553.82,527.82,450.0,543.28,495.96,514.68,535.22,450.0,450.0,450.0,450.0,523.18,502.32,450.0,522.72,494.78,497.46,450.0,582.4,520.66,574.48,450.0,579.8,450.0,450.0,450.0,572.68,517.88,500.24,450.0,450.0,568.06,450.0,450.0,536.78,555.98,528.14,525.3,535.76,510.84,565.3,536.32,573.62,501.5,550.42,540.42,489.46,576.32,475.14,450.0,468.6,538.48,535.82,554.64,547.6,536.02,516.58,529.58,584.82,547.2,556.08,471.86,450.0,457.06,536.36,509.3,512.62,547.74,510.88,504.66,488.24,474.5,450.0,450.0,450.0,458.2,575.02,561.72,450.0,542.04,538.2,450.0,549.66,561.84,557.7,538.68,563.96,515.48,564.16,571.92,570.06,450.0,592.52,450.0,450.0,450.0,465.32,450.0,450.0,529.36,558.28,450.0,478.68,450.0,450.0,450.0,575.24,561.08,582.16,505.02,511.06,450.0,450.0,450.0,506.22,499.02,450.0,544.34,576.88,450.0,520.88,530.98,509.22,545.54,467.28,501.3,516.58,524.62,450.0,501.82,485.48,578.74,526.82,450.0,541.6,484.38,588.94,577.5,528.56,545.76,515.08,514.12,450.0,486.16,501.62,467.4,539.8,547.2,567.42,555.72,534.54,588.46,548.14,553.56,540.54,506.2,611.58,529.74,564.2,551.38,553.3,476.34,481.52,450.0,450.0,450.0,450.0,514.34,450.0,549.24,476.16,450.0,450.0,502.08,450.0,488.32,516.74,450.0,450.0,450.0,518.76,450.0,450.0,502.96,450.0,450.0,450.0,450.0,450.0,450.0,450.0,450.0,552.28,629.14,564.62,450.0,504.98,512.36,545.26,526.58,467.26,523.08,529.44,570.24,519.7,532.52,542.14,450.0,450.0,551.32,508.28,577.82,450.0,577.28,450.0,450.0,540.7,504.54,450.0,489.68,555.32,524.16,550.78,473.68,501.24,450.0,527.06,569.52,553.86,564.66,519.06,580.58,450.0,538.54,450.0,450.0,565.94,452.04,450.0,450.0,450.0,565.44,450.44,554.38,533.22,515.38,567.0,590.58,573.38,492.72,450.0,450.0,522.4,591.5,490.22,542.9,491.2,468.32,450.0,518.48,586.84,516.74,572.64,544.1,584.12,546.46,531.7,450.0,450.0,473.5,609.4,592.9,472.82,557.68,521.46,450.0,461.52,508.1,450.0,503.44,450.0,483.32,518.3,522.74,539.72,450.0,487.16,450.0,450.0,531.36,529.08,450.0,450.0,540.32,450.0,476.56,450.0,503.28,450.0,450.0,565.48,450.0,450.0,450.0,515.34,450.0,518.36,592.36,624.18,553.04,450.0,450.0,575.86,490.1,450.0,509.9,450.0,450.0,506.78,450.0,450.0],\"y0\":\" \",\"yaxis\":\"y\",\"type\":\"box\"}],                        {\"template\":{\"data\":{\"bar\":[{\"error_x\":{\"color\":\"#2a3f5f\"},\"error_y\":{\"color\":\"#2a3f5f\"},\"marker\":{\"line\":{\"color\":\"#E5ECF6\",\"width\":0.5},\"pattern\":{\"fillmode\":\"overlay\",\"size\":10,\"solidity\":0.2}},\"type\":\"bar\"}],\"barpolar\":[{\"marker\":{\"line\":{\"color\":\"#E5ECF6\",\"width\":0.5},\"pattern\":{\"fillmode\":\"overlay\",\"size\":10,\"solidity\":0.2}},\"type\":\"barpolar\"}],\"carpet\":[{\"aaxis\":{\"endlinecolor\":\"#2a3f5f\",\"gridcolor\":\"white\",\"linecolor\":\"white\",\"minorgridcolor\":\"white\",\"startlinecolor\":\"#2a3f5f\"},\"baxis\":{\"endlinecolor\":\"#2a3f5f\",\"gridcolor\":\"white\",\"linecolor\":\"white\",\"minorgridcolor\":\"white\",\"startlinecolor\":\"#2a3f5f\"},\"type\":\"carpet\"}],\"choropleth\":[{\"colorbar\":{\"outlinewidth\":0,\"ticks\":\"\"},\"type\":\"choropleth\"}],\"contour\":[{\"colorbar\":{\"outlinewidth\":0,\"ticks\":\"\"},\"colorscale\":[[0.0,\"#0d0887\"],[0.1111111111111111,\"#46039f\"],[0.2222222222222222,\"#7201a8\"],[0.3333333333333333,\"#9c179e\"],[0.4444444444444444,\"#bd3786\"],[0.5555555555555556,\"#d8576b\"],[0.6666666666666666,\"#ed7953\"],[0.7777777777777778,\"#fb9f3a\"],[0.8888888888888888,\"#fdca26\"],[1.0,\"#f0f921\"]],\"type\":\"contour\"}],\"contourcarpet\":[{\"colorbar\":{\"outlinewidth\":0,\"ticks\":\"\"},\"type\":\"contourcarpet\"}],\"heatmap\":[{\"colorbar\":{\"outlinewidth\":0,\"ticks\":\"\"},\"colorscale\":[[0.0,\"#0d0887\"],[0.1111111111111111,\"#46039f\"],[0.2222222222222222,\"#7201a8\"],[0.3333333333333333,\"#9c179e\"],[0.4444444444444444,\"#bd3786\"],[0.5555555555555556,\"#d8576b\"],[0.6666666666666666,\"#ed7953\"],[0.7777777777777778,\"#fb9f3a\"],[0.8888888888888888,\"#fdca26\"],[1.0,\"#f0f921\"]],\"type\":\"heatmap\"}],\"heatmapgl\":[{\"colorbar\":{\"outlinewidth\":0,\"ticks\":\"\"},\"colorscale\":[[0.0,\"#0d0887\"],[0.1111111111111111,\"#46039f\"],[0.2222222222222222,\"#7201a8\"],[0.3333333333333333,\"#9c179e\"],[0.4444444444444444,\"#bd3786\"],[0.5555555555555556,\"#d8576b\"],[0.6666666666666666,\"#ed7953\"],[0.7777777777777778,\"#fb9f3a\"],[0.8888888888888888,\"#fdca26\"],[1.0,\"#f0f921\"]],\"type\":\"heatmapgl\"}],\"histogram\":[{\"marker\":{\"pattern\":{\"fillmode\":\"overlay\",\"size\":10,\"solidity\":0.2}},\"type\":\"histogram\"}],\"histogram2d\":[{\"colorbar\":{\"outlinewidth\":0,\"ticks\":\"\"},\"colorscale\":[[0.0,\"#0d0887\"],[0.1111111111111111,\"#46039f\"],[0.2222222222222222,\"#7201a8\"],[0.3333333333333333,\"#9c179e\"],[0.4444444444444444,\"#bd3786\"],[0.5555555555555556,\"#d8576b\"],[0.6666666666666666,\"#ed7953\"],[0.7777777777777778,\"#fb9f3a\"],[0.8888888888888888,\"#fdca26\"],[1.0,\"#f0f921\"]],\"type\":\"histogram2d\"}],\"histogram2dcontour\":[{\"colorbar\":{\"outlinewidth\":0,\"ticks\":\"\"},\"colorscale\":[[0.0,\"#0d0887\"],[0.1111111111111111,\"#46039f\"],[0.2222222222222222,\"#7201a8\"],[0.3333333333333333,\"#9c179e\"],[0.4444444444444444,\"#bd3786\"],[0.5555555555555556,\"#d8576b\"],[0.6666666666666666,\"#ed7953\"],[0.7777777777777778,\"#fb9f3a\"],[0.8888888888888888,\"#fdca26\"],[1.0,\"#f0f921\"]],\"type\":\"histogram2dcontour\"}],\"mesh3d\":[{\"colorbar\":{\"outlinewidth\":0,\"ticks\":\"\"},\"type\":\"mesh3d\"}],\"parcoords\":[{\"line\":{\"colorbar\":{\"outlinewidth\":0,\"ticks\":\"\"}},\"type\":\"parcoords\"}],\"pie\":[{\"automargin\":true,\"type\":\"pie\"}],\"scatter\":[{\"marker\":{\"colorbar\":{\"outlinewidth\":0,\"ticks\":\"\"}},\"type\":\"scatter\"}],\"scatter3d\":[{\"line\":{\"colorbar\":{\"outlinewidth\":0,\"ticks\":\"\"}},\"marker\":{\"colorbar\":{\"outlinewidth\":0,\"ticks\":\"\"}},\"type\":\"scatter3d\"}],\"scattercarpet\":[{\"marker\":{\"colorbar\":{\"outlinewidth\":0,\"ticks\":\"\"}},\"type\":\"scattercarpet\"}],\"scattergeo\":[{\"marker\":{\"colorbar\":{\"outlinewidth\":0,\"ticks\":\"\"}},\"type\":\"scattergeo\"}],\"scattergl\":[{\"marker\":{\"colorbar\":{\"outlinewidth\":0,\"ticks\":\"\"}},\"type\":\"scattergl\"}],\"scattermapbox\":[{\"marker\":{\"colorbar\":{\"outlinewidth\":0,\"ticks\":\"\"}},\"type\":\"scattermapbox\"}],\"scatterpolar\":[{\"marker\":{\"colorbar\":{\"outlinewidth\":0,\"ticks\":\"\"}},\"type\":\"scatterpolar\"}],\"scatterpolargl\":[{\"marker\":{\"colorbar\":{\"outlinewidth\":0,\"ticks\":\"\"}},\"type\":\"scatterpolargl\"}],\"scatterternary\":[{\"marker\":{\"colorbar\":{\"outlinewidth\":0,\"ticks\":\"\"}},\"type\":\"scatterternary\"}],\"surface\":[{\"colorbar\":{\"outlinewidth\":0,\"ticks\":\"\"},\"colorscale\":[[0.0,\"#0d0887\"],[0.1111111111111111,\"#46039f\"],[0.2222222222222222,\"#7201a8\"],[0.3333333333333333,\"#9c179e\"],[0.4444444444444444,\"#bd3786\"],[0.5555555555555556,\"#d8576b\"],[0.6666666666666666,\"#ed7953\"],[0.7777777777777778,\"#fb9f3a\"],[0.8888888888888888,\"#fdca26\"],[1.0,\"#f0f921\"]],\"type\":\"surface\"}],\"table\":[{\"cells\":{\"fill\":{\"color\":\"#EBF0F8\"},\"line\":{\"color\":\"white\"}},\"header\":{\"fill\":{\"color\":\"#C8D4E3\"},\"line\":{\"color\":\"white\"}},\"type\":\"table\"}]},\"layout\":{\"annotationdefaults\":{\"arrowcolor\":\"#2a3f5f\",\"arrowhead\":0,\"arrowwidth\":1},\"autotypenumbers\":\"strict\",\"coloraxis\":{\"colorbar\":{\"outlinewidth\":0,\"ticks\":\"\"}},\"colorscale\":{\"diverging\":[[0,\"#8e0152\"],[0.1,\"#c51b7d\"],[0.2,\"#de77ae\"],[0.3,\"#f1b6da\"],[0.4,\"#fde0ef\"],[0.5,\"#f7f7f7\"],[0.6,\"#e6f5d0\"],[0.7,\"#b8e186\"],[0.8,\"#7fbc41\"],[0.9,\"#4d9221\"],[1,\"#276419\"]],\"sequential\":[[0.0,\"#0d0887\"],[0.1111111111111111,\"#46039f\"],[0.2222222222222222,\"#7201a8\"],[0.3333333333333333,\"#9c179e\"],[0.4444444444444444,\"#bd3786\"],[0.5555555555555556,\"#d8576b\"],[0.6666666666666666,\"#ed7953\"],[0.7777777777777778,\"#fb9f3a\"],[0.8888888888888888,\"#fdca26\"],[1.0,\"#f0f921\"]],\"sequentialminus\":[[0.0,\"#0d0887\"],[0.1111111111111111,\"#46039f\"],[0.2222222222222222,\"#7201a8\"],[0.3333333333333333,\"#9c179e\"],[0.4444444444444444,\"#bd3786\"],[0.5555555555555556,\"#d8576b\"],[0.6666666666666666,\"#ed7953\"],[0.7777777777777778,\"#fb9f3a\"],[0.8888888888888888,\"#fdca26\"],[1.0,\"#f0f921\"]]},\"colorway\":[\"#636efa\",\"#EF553B\",\"#00cc96\",\"#ab63fa\",\"#FFA15A\",\"#19d3f3\",\"#FF6692\",\"#B6E880\",\"#FF97FF\",\"#FECB52\"],\"font\":{\"color\":\"#2a3f5f\"},\"geo\":{\"bgcolor\":\"white\",\"lakecolor\":\"white\",\"landcolor\":\"#E5ECF6\",\"showlakes\":true,\"showland\":true,\"subunitcolor\":\"white\"},\"hoverlabel\":{\"align\":\"left\"},\"hovermode\":\"closest\",\"mapbox\":{\"style\":\"light\"},\"paper_bgcolor\":\"white\",\"plot_bgcolor\":\"#E5ECF6\",\"polar\":{\"angularaxis\":{\"gridcolor\":\"white\",\"linecolor\":\"white\",\"ticks\":\"\"},\"bgcolor\":\"#E5ECF6\",\"radialaxis\":{\"gridcolor\":\"white\",\"linecolor\":\"white\",\"ticks\":\"\"}},\"scene\":{\"xaxis\":{\"backgroundcolor\":\"#E5ECF6\",\"gridcolor\":\"white\",\"gridwidth\":2,\"linecolor\":\"white\",\"showbackground\":true,\"ticks\":\"\",\"zerolinecolor\":\"white\"},\"yaxis\":{\"backgroundcolor\":\"#E5ECF6\",\"gridcolor\":\"white\",\"gridwidth\":2,\"linecolor\":\"white\",\"showbackground\":true,\"ticks\":\"\",\"zerolinecolor\":\"white\"},\"zaxis\":{\"backgroundcolor\":\"#E5ECF6\",\"gridcolor\":\"white\",\"gridwidth\":2,\"linecolor\":\"white\",\"showbackground\":true,\"ticks\":\"\",\"zerolinecolor\":\"white\"}},\"shapedefaults\":{\"line\":{\"color\":\"#2a3f5f\"}},\"ternary\":{\"aaxis\":{\"gridcolor\":\"white\",\"linecolor\":\"white\",\"ticks\":\"\"},\"baxis\":{\"gridcolor\":\"white\",\"linecolor\":\"white\",\"ticks\":\"\"},\"bgcolor\":\"#E5ECF6\",\"caxis\":{\"gridcolor\":\"white\",\"linecolor\":\"white\",\"ticks\":\"\"}},\"title\":{\"x\":0.05},\"xaxis\":{\"automargin\":true,\"gridcolor\":\"white\",\"linecolor\":\"white\",\"ticks\":\"\",\"title\":{\"standoff\":15},\"zerolinecolor\":\"white\",\"zerolinewidth\":2},\"yaxis\":{\"automargin\":true,\"gridcolor\":\"white\",\"linecolor\":\"white\",\"ticks\":\"\",\"title\":{\"standoff\":15},\"zerolinecolor\":\"white\",\"zerolinewidth\":2}}},\"xaxis\":{\"anchor\":\"y\",\"domain\":[0.0,1.0]},\"yaxis\":{\"anchor\":\"x\",\"domain\":[0.0,1.0],\"title\":{\"text\":\"nota_integral_cotas\"}},\"legend\":{\"tracegroupgap\":0},\"margin\":{\"t\":60},\"boxmode\":\"group\"},                        {\"responsive\": true}                    ).then(function(){\n",
              "                            \n",
              "var gd = document.getElementById('99a9c98b-5250-4781-bddd-5b2862b2dc32');\n",
              "var x = new MutationObserver(function (mutations, observer) {{\n",
              "        var display = window.getComputedStyle(gd).display;\n",
              "        if (!display || display === 'none') {{\n",
              "            console.log([gd, 'removed!']);\n",
              "            Plotly.purge(gd);\n",
              "            observer.disconnect();\n",
              "        }}\n",
              "}});\n",
              "\n",
              "// Listen for the removal of the full notebook cells\n",
              "var notebookContainer = gd.closest('#notebook-container');\n",
              "if (notebookContainer) {{\n",
              "    x.observe(notebookContainer, {childList: true});\n",
              "}}\n",
              "\n",
              "// Listen for the clearing of the current output cell\n",
              "var outputEl = gd.closest('.output');\n",
              "if (outputEl) {{\n",
              "    x.observe(outputEl, {childList: true});\n",
              "}}\n",
              "\n",
              "                        })                };                            </script>        </div>\n",
              "</body>\n",
              "</html>"
            ]
          },
          "metadata": {}
        }
      ]
    },
    {
      "cell_type": "code",
      "source": [
        "boxplot = px.box(df_aux, y=\"nota_parcial_ampla\")\n",
        "boxplot.show()"
      ],
      "metadata": {
        "colab": {
          "base_uri": "https://localhost:8080/",
          "height": 542
        },
        "id": "nYDSxC7jzJZM",
        "outputId": "f0c187ec-0fb4-4c16-e4c5-0f6f22768313"
      },
      "execution_count": 18,
      "outputs": [
        {
          "output_type": "display_data",
          "data": {
            "text/html": [
              "<html>\n",
              "<head><meta charset=\"utf-8\" /></head>\n",
              "<body>\n",
              "    <div>            <script src=\"https://cdnjs.cloudflare.com/ajax/libs/mathjax/2.7.5/MathJax.js?config=TeX-AMS-MML_SVG\"></script><script type=\"text/javascript\">if (window.MathJax) {MathJax.Hub.Config({SVG: {font: \"STIX-Web\"}});}</script>                <script type=\"text/javascript\">window.PlotlyConfig = {MathJaxConfig: 'local'};</script>\n",
              "        <script src=\"https://cdn.plot.ly/plotly-2.8.3.min.js\"></script>                <div id=\"f9201dbd-cb3b-4acb-8145-a1b0f7310e69\" class=\"plotly-graph-div\" style=\"height:525px; width:100%;\"></div>            <script type=\"text/javascript\">                                    window.PLOTLYENV=window.PLOTLYENV || {};                                    if (document.getElementById(\"f9201dbd-cb3b-4acb-8145-a1b0f7310e69\")) {                    Plotly.newPlot(                        \"f9201dbd-cb3b-4acb-8145-a1b0f7310e69\",                        [{\"alignmentgroup\":\"True\",\"hovertemplate\":\"nota_parcial_ampla=%{y}<extra></extra>\",\"legendgroup\":\"\",\"marker\":{\"color\":\"#636efa\"},\"name\":\"\",\"notched\":false,\"offsetgroup\":\"\",\"orientation\":\"v\",\"showlegend\":false,\"x0\":\" \",\"xaxis\":\"x\",\"y\":[738.96,734.92,730.98,760.8,747.14,735.76,738.42,750.44,743.14,748.78,741.36,774.96,729.72,745.06,776.36,602.64,603.48,647.12,561.78,683.16,608.86,565.78,571.48,635.34,593.08,621.52,619.64,589.42,615.3,622.36,594.2,638.4,566.82,660.2,642.62,598.42,649.8,654.58,529.4,666.82,587.92,602.06,566.8,637.98,611.82,595.24,670.38,638.96,597.96,639.56,599.84,532.68,571.86,531.44,528.9,561.04,639.06,618.22,613.82,615.9,610.88,636.74,636.7,602.44,671.06,624.7,580.04,621.16,642.7,586.78,531.98,597.34,649.96,529.22,644.3,664.76,554.64,646.06,632.2,450.0,450.0,522.36,624.72,591.98,624.74,588.96,581.16,553.12,616.42,605.86,627.6,560.44,574.06,641.14,620.32,649.92,615.12,624.48,450.0,637.44,525.8,622.4,686.06,587.54,572.0,555.38,585.16,532.76,569.28,622.66,606.82,524.54,465.5,649.72,635.82,685.92,682.38,649.68,632.66,554.92,581.08,541.28,571.26,467.26,604.62,578.16,595.24,587.44,597.7,588.46,450.0,651.88,606.86,641.44,590.7,552.7,587.22,580.22,657.1,604.04,660.3,576.52,584.38,543.88,450.0,592.96,677.24,553.56,568.5,593.12,578.08,633.5,633.14,609.98,610.88,596.94,506.0,541.54,450.0,549.44,616.42,585.6,472.2,584.92,554.46,591.38,671.38,533.14,635.6,538.96,600.94,575.18,523.46,616.94,557.36,678.56,513.56,450.0,489.08,471.4,565.82,542.98,544.1,546.54,584.62,450.0,495.68,510.82,532.46,595.26,577.38,616.88,583.8,569.84,624.34,566.34,536.42,548.46,558.76,627.74,610.06,564.18,554.9,581.88,583.4,503.6,600.72,591.36,593.74,493.44,560.96,612.58,541.96,514.94,598.9,617.04,614.6,591.68,597.3,604.4,610.38,594.02,604.6,648.86,628.86,507.16,502.28,535.78,450.0,573.64,565.82,605.58,576.26,620.12,604.58,656.9,570.52,603.24,520.34,568.88,607.4,617.16,517.48,520.08,563.28,610.46,621.48,573.38,576.48,613.48,631.7,617.2,578.42,596.32,589.56,517.86,515.86,499.48,509.12,450.0,476.04,556.3,568.1,589.44,576.86,566.58,602.56,608.18,617.18,515.72,538.32,513.08,558.08,585.34,627.86,595.82,590.44,578.08,513.58,627.34,597.94,552.58,528.84,578.06,580.14,588.68,553.22,572.5,580.58,583.68,623.14,631.04,565.7,576.58,572.76,567.16,630.98,660.96,610.98,595.5,645.96,605.52,594.12,450.0,565.78,578.44,587.82,519.52,593.08,590.02,601.66,598.96,605.16,614.64,569.1,450.0,604.04,552.4,584.44,606.6,718.8,553.12,583.62,595.72,592.28,527.58,504.98,526.04,596.94,623.94,526.18,516.86,562.9,561.32,639.14,609.78,571.92,648.64,612.4,626.74,569.96,635.36,652.66,570.64,568.62,574.48,572.08,597.9,560.98,618.58,583.2,589.32,623.88,630.24,583.56,555.54,557.52,560.96,538.22,534.02,597.94,599.48,601.4,509.84,570.56,450.0,614.16,593.96,627.24,556.78,625.84,594.38,521.36,585.78,609.58,548.26,565.16,524.0,606.78,695.7,582.82,610.8,607.0,616.94,610.48,574.66,572.46,576.54,611.76,619.2,522.24,535.56,520.38,605.46,577.22,610.06,616.58,642.78,599.86,554.82,498.26,603.22,546.9,601.48,606.32,603.84,592.86,552.84,600.38,582.62,528.96,450.0,535.34,542.14,548.32,613.14,648.26,512.14,508.6,602.82,567.64,516.84,536.24,571.6,450.0,587.8,602.7,538.48,634.18,573.04,564.38,657.18,605.26,540.66,575.68,564.58,598.88,561.8,590.54,450.0,564.98,616.5,622.74,630.74,587.8,578.54,585.98,544.08,557.7,562.86,547.56,627.6,654.86,569.1,522.18,574.86,551.56,572.56,604.06,597.14,648.54,551.44,590.54,450.0,564.06,599.54,600.36,595.4,623.02,610.84,572.44,601.24,604.72,681.6,528.36,590.98,549.34,612.14,621.88,535.58,537.04,562.18,606.04,595.84,581.12,596.14,582.16,552.4,587.34,607.28,564.02,577.06,562.74,591.6,601.76,591.74,508.58,580.08,450.0,450.0,450.0,450.0,450.0,450.0,450.0,450.0,450.0,570.0,566.14,601.22,578.62,601.7,589.04,560.06,575.66,450.0,450.0,522.78,609.6,574.88,625.6,587.22,580.28,588.16,512.52,621.94,450.0,450.0,591.08,615.2,582.96,597.6,609.06,621.7,612.16,595.04,573.7,576.56,574.38,559.22,547.2,450.0,450.0,595.72,534.8,612.66,599.32,586.72,591.84,568.34,623.7,590.3,608.86,622.9,619.72,605.0,625.1,596.04,604.38,575.8,588.12,641.26,593.02,603.04,605.76,613.04,636.4,584.02,586.26,562.98,555.06,584.42,551.18,565.76,551.72,550.9,614.74,625.06,578.32,525.78,550.6,573.76,584.92,586.56,587.48,587.9,562.5,602.86,577.44,537.7,547.52,548.96,558.52,590.2,621.78,573.76,537.42,581.3,590.62,450.0,450.0,450.0,450.0,548.76,623.62,450.0,600.66,576.78,599.44,578.9,570.66,584.88,605.4,561.36,573.36,570.8,579.64,608.28,584.24,623.96,587.28,450.0,500.02,450.0,450.0,450.0,625.48,583.18,615.16,536.14,471.32,558.54,564.5,506.74,502.64,580.8,620.44,605.9,603.28,634.52,591.26,592.06,598.74,585.52,601.16,594.14,450.0,450.0,553.92,471.96,493.28,450.0,450.0,636.64,450.0,502.54,534.96,655.4,580.26,576.06,629.64,541.98,532.74,566.4,583.48,557.92,647.72,552.38,690.12,630.34,548.54,623.52,571.54,567.66,568.68,571.38,546.5,450.0,450.0,450.0,643.72,523.76,602.16,450.0,450.0,450.0,450.0,450.0,608.26,509.3,529.0,601.42,559.76,598.72,450.0,591.16,579.98,579.16,596.76,593.6,497.84,610.46,595.88,581.34,562.04,572.22,564.28,594.76,572.64,604.74,596.36,623.42,610.44,605.0,581.38,450.0,490.4,548.94,563.5,615.6,583.26,598.56,605.98,579.92,590.14,584.88,562.96,574.88,537.58,639.96,571.56,588.86,565.02,569.16,601.24,584.44,580.14,625.32,609.16,450.0,450.0,524.16,581.94,460.82,602.64,586.5,574.44,585.98,607.86,600.28,450.0,450.0,617.38,540.88,450.0,616.88,577.3,571.7,592.96,581.32,588.9,585.3,585.84,570.38,584.96,581.42,537.34,554.28,602.22,581.46,587.48,580.4,570.5,578.22,577.34,536.12,545.54,582.24,584.94,550.52,546.3,559.96,529.78,584.4,584.22,589.66,450.0,450.0,597.2,596.82,603.66,635.6,553.2,570.22,450.0,629.72,567.04,573.82,545.76,521.58,457.88,600.18,586.08,590.44,618.58,450.0,450.0,450.0,632.9,569.38,586.2,613.58,582.46,575.08,594.8,610.1,450.0,450.0,591.42,450.0,575.98,570.34,601.3,619.04,509.64,585.0,647.2,483.26,602.0,591.0,536.32,627.62,586.74,584.8,574.06,640.0,559.86,599.48,552.62,553.8,601.18,569.82,560.16,580.46,542.96,548.04,499.72,594.82,575.32,588.88,593.24,549.08,579.48,592.24,623.62,589.32,578.52,596.06,600.54,613.1,450.0,450.0,450.0,450.0,450.0,582.66,511.42,551.88,587.22,629.28,576.58,574.28,583.2,450.0,450.0,450.0,548.22,504.26,450.0,606.9,578.36,565.1,544.6,573.36,628.3,552.7,596.12,634.94,608.32,583.1,525.76,627.14,579.94,627.54,561.36,505.92,529.94,527.34,555.24,539.44,589.42,560.52,583.22,596.06,452.94,550.72,554.74,450.0,579.66,604.06,566.0,567.32,557.96,609.3,523.04,573.36,557.58,590.24,597.2,548.2,571.36,559.18,552.34,552.58,608.76,582.4,585.18,587.22,562.76,601.34,538.36,601.94,600.64,502.84,544.86,562.16,454.8,576.64,560.02,574.62,592.76,545.6,515.96,544.7,582.14,619.7,600.5,631.56,550.12,552.84,574.52,588.7,621.22,578.48,564.12,544.44,565.98,593.82,516.2,548.0,544.94,593.94,515.24,591.42,510.06,528.1,586.22,526.16,552.64,654.56,640.92,567.9,450.0,450.0,450.0,450.0,450.0,450.0,450.0,450.0,605.4,468.38,617.32,541.96,580.76,603.82,578.56,573.48,596.64,611.94,609.64,603.5,571.54,450.0,585.76,568.24,604.38,572.94,450.0,450.0,615.56,572.84,548.66,548.98,570.32,573.2,583.18,576.36,572.66,450.0,450.0,562.14,549.3,542.54,475.62,450.0,463.78,624.14,564.44,576.82,609.2,536.28,496.52,607.52,573.8,578.0,556.98,607.14,575.32,530.44,599.5,588.8,540.32,525.12,623.84,462.7,538.36,582.56,507.6,550.64,535.64,556.04,560.32,597.1,450.0,587.36,552.6,584.82,450.0,593.66,508.9,450.0,450.0,450.0,450.0,473.34,562.82,602.36,525.22,558.28,551.4,550.36,463.98,562.82,609.22,544.2,632.4,603.88,599.08,590.0,514.88,601.22,624.48,576.0,512.98,553.06,560.08,450.0,450.0,552.38,478.7,573.78,591.34,597.52,450.0,639.78,605.36,589.14,571.5,450.0,603.88,587.02,571.8,604.0,604.26,533.56,562.94,533.96,571.4,547.46,564.06,514.02,540.32,504.74,544.86,545.14,524.06,519.38,486.92,487.24,583.6,553.68,459.54,542.82,544.24,561.88,574.34,450.0,475.2,593.02,625.36,536.62,584.44,453.44,506.0,450.0,618.64,490.58,568.64,577.64,507.14,497.3,516.16,450.0,557.94,565.26,617.66,584.32,578.02,543.52,534.72,566.6,575.48,567.02,614.58,578.44,576.16,559.2,534.72,580.26,541.46,597.1,606.3,532.36,519.46,490.66,515.36,539.16,559.46,564.42,589.12,550.2,543.56,543.76,587.42,558.9,588.48,552.56,532.9,545.78,537.84,583.76,549.1,610.28,529.24,450.78,563.06,450.0,450.0,450.0,450.0,450.0,569.42,558.92,625.6,535.28,610.02,521.6,546.02,547.78,600.98,602.88,570.18,594.44,450.0,477.4,556.6,553.12,450.0,582.72,628.56,572.88,581.54,532.7,556.5,572.32,580.62,570.36,490.42,591.66,540.04,556.98,487.74,534.34,541.38,527.3,544.94,546.34,450.0,536.94,554.56,625.2,595.0,599.02,594.34,552.24,559.78,540.14,573.24,555.76,450.0,565.24,554.78,619.26,650.04,552.7,554.4,570.78,506.4,503.56,450.0,450.0,552.26,547.58,587.7,635.9,600.72,599.56,450.0,488.5,577.62,559.9,537.84,464.24,549.86,581.12,571.0,566.98,450.0,536.7,572.22,592.1,558.64,598.54,590.68,577.04,450.0,611.54,581.32,587.88,562.9,538.6,556.22,450.0,581.22,572.98,465.54,581.06,577.92,557.0,584.0,591.62,529.5,563.64,538.38,635.84,474.16,540.92,553.7,482.5,593.34,543.82,579.52,590.68,566.38,615.74,590.76,586.42,574.28,610.0,564.86,513.44,541.6,574.68,542.82,528.74,520.26,539.28,450.0,450.0,450.0,450.0,535.76,574.5,516.34,529.5,563.3,558.44,644.18,567.36,580.84,560.76,565.92,531.94,573.44,577.36,613.24,598.44,619.9,575.08,555.48,578.12,556.64,458.26,450.0,598.8,536.54,582.28,551.92,593.32,607.56,546.86,561.72,522.08,543.34,597.6,450.0,577.68,586.16,504.86,454.06,450.0,452.98,521.78,542.1,549.3,552.32,562.16,550.78,582.76,544.92,551.62,556.24,578.96,570.44,576.48,562.36,577.6,481.74,595.2,522.24,463.76,503.5,546.24,569.76,512.28,557.46,494.96,623.04,563.02,565.6,551.18,591.9,534.82,541.94,516.16,532.08,578.7,577.12,533.88,591.8,556.7,589.04,450.0,539.18,520.78,614.54,553.16,595.94,598.32,560.26,532.6,534.42,589.56,501.74,539.38,534.78,572.38,550.36,630.3,617.26,585.2,510.2,566.86,533.42,563.5,554.06,577.18,545.9,500.62,481.64,520.92,552.4,551.02,539.46,592.04,553.88,553.14,541.28,544.78,554.08,484.22,604.32,450.0,530.76,568.66,450.0,562.44,566.06,594.14,599.88,516.86,575.14,568.74,554.38,544.26,562.58,560.98,544.2,610.0,533.66,523.44,483.84,563.82,590.84,450.0,573.42,551.56,550.26,569.74,591.76,548.3,549.36,562.24,567.1,534.82,569.54,532.72,567.92,558.62,575.72,548.42,563.68,581.44,587.4,548.98,582.16,575.74,567.5,572.38,605.44,493.9,478.2,619.78,627.48,450.0,450.0,450.0,495.68,465.2,450.0,555.18,557.82,561.22,563.14,559.62,537.06,606.18,613.24,573.7,568.74,567.64,561.22,541.26,550.58,591.16,577.42,572.7,450.0,450.0,455.96,556.38,567.58,550.34,557.8,532.88,560.04,580.28,536.84,597.64,587.34,541.82,554.04,451.54,493.98,569.06,574.24,543.34,535.96,544.4,509.8,514.9,532.44,535.06,545.62,542.1,545.2,565.32,569.58,519.46,539.42,528.74,508.3,517.66,542.82,525.8,562.34,511.94,524.0,560.86,627.46,548.96,593.46,541.84,557.12,577.54,591.72,522.98,581.74,574.24,564.3,547.44,557.02,596.22,567.36,609.4,565.24,523.28,530.3,571.32,526.24,541.06,547.84,501.22,587.86,530.0,549.62,535.58,528.6,544.1,450.0,571.2,529.1,574.26,536.92,472.22,582.66,511.32,512.0,594.38,450.0,544.22,596.36,503.96,539.0,535.24,549.9,549.5,529.72,547.72,497.5,525.8,514.64,543.88,528.92,617.56,547.78,590.06,634.56,471.68,558.48,569.04,585.72,564.6,564.76,560.86,450.0,523.4,533.32,566.76,586.28,502.66,551.7,502.36,475.72,496.74,528.82,589.44,542.52,573.4,568.64,548.82,572.92,507.36,560.06,450.0,550.56,574.76,557.62,570.96,607.9,543.62,515.38,581.8,565.14,495.22,473.62,502.76,498.2,552.88,575.32,450.0,450.0,450.0,497.8,518.5,533.58,548.84,527.12,559.78,540.74,607.28,500.14,553.94,551.9,586.34,541.78,557.4,565.24,499.6,497.78,484.12,450.0,570.1,495.1,556.16,581.96,554.6,450.0,450.0,450.0,450.0,575.64,554.28,570.22,450.0,450.0,543.62,537.8,519.26,536.66,628.6,530.08,450.0,512.74,539.82,572.68,472.64,539.56,523.3,493.3,516.56,450.0,450.0,450.0,477.6,450.0,450.0,450.0,450.0,450.0,450.0,450.0,450.0,450.0,450.0,450.0,450.0,450.0,450.0,453.2,511.12,450.0,450.0,450.0,450.0,450.0,450.0,450.0,543.6,570.22,546.66,578.68,508.02,538.48,529.48,527.94,478.94,568.52,489.32,563.18,525.24,540.44,450.0,450.0,450.0,450.0,523.74,608.44,524.12,531.34,529.14,450.0,538.2,515.62,544.76,564.98,514.66,532.66,559.44,561.96,547.76,450.0,450.0,450.0,450.0,548.52,535.16,541.08,538.64,509.04,555.24,529.9,450.0,450.0,450.0,524.4,585.98,558.78,520.8,538.38,554.7,522.76,512.0,450.0,482.78,551.58,540.34,588.46,490.72,450.0,450.0,518.66,560.02,543.6,556.4,542.44,513.98,450.0,510.62,450.0,450.0,547.92,563.08,554.84,504.9,450.0,450.0,529.82,516.14,560.08,531.76,586.6,481.18,504.88,540.26,496.84,450.0,501.96,540.56,530.54,518.38,450.0,450.0,516.72,450.0,498.36,450.0,450.0,452.68,501.84,488.68,450.0,521.88,496.22,450.0,450.0,450.0,450.0,480.66,554.34,450.0,452.62,506.56,450.0,572.64,478.38,520.26,469.02,450.0,510.56,450.0,450.0,450.0,450.0,450.0,499.92,501.24,450.0,450.0,450.0,450.0,456.58,530.16,450.0,450.0,450.0,475.2,533.4,450.46,450.0,450.0,450.0,500.4,593.18,515.34,497.2,478.9,517.52,632.04,504.78,514.5,469.66,487.82,483.54,495.02,450.0,488.42,471.14,450.0,450.0,495.94,556.22,468.78,514.46,542.12,567.26,506.58,450.0,450.0,549.0,546.16,554.18,463.98,450.0,450.0,450.0,500.26,573.98,538.78,461.84,518.1,538.72,531.28,450.0,450.0,526.04,555.4,501.8,578.96,450.0,534.56,603.78,591.84,551.02,480.58,506.26,547.44,450.0,450.0,465.94,450.0,472.62,474.32,474.3,487.58,479.54,478.12,450.0,494.44,553.04,519.0,527.2,450.0,450.0,450.0,551.48,527.76,521.72,535.1,501.86,467.66,450.0,450.0,450.0,450.0,450.0,450.0,571.22,539.38,450.0,568.04,497.56,535.14,506.88,506.02,534.16,540.02,499.3,593.5,514.3,485.0,598.56,492.76,558.3,450.0,615.92,450.0,450.0,450.0,450.0,466.52,532.36,450.0,483.3,450.0,450.0,450.0,607.58,531.36,552.82,503.98,519.48,469.2,506.94,450.0,450.0,450.0,450.0,555.5,511.64,484.5,506.26,562.74,505.3,507.6,483.18,450.0,505.44,513.18,450.0,528.84,450.0,569.78,523.98,450.0,526.4,508.68,536.32,563.34,477.0,450.0,450.0,489.84,450.0,450.0,540.5,465.34,530.1,523.16,450.0,598.24,564.78,591.14,529.62,559.86,568.68,633.9,485.22,450.0,532.28,553.34,458.5,456.54,455.9,503.46,470.58,472.4,485.86,485.3,454.7,469.22,475.52,549.78,450.0,472.76,450.0,522.76,495.0,450.0,467.22,450.0,552.82,498.5,450.0,539.3,450.0,450.0,450.0,504.14,450.0,494.04,450.0,450.0,520.2,640.12,540.72,504.52,503.76,500.08,544.18,465.78,482.86,537.16,526.98,530.18,496.72,539.96,511.18,450.0,477.7,570.02,464.48,507.42,450.0,520.4,463.92,502.18,450.0,473.56,450.0,486.7,525.9,505.56,534.18,478.08,484.56,499.72,490.58,555.58,561.08,713.2,581.52,532.94,499.64,536.98,491.78,450.0,498.48,512.46,450.0,475.92,450.0,513.58,580.74,510.36,620.22,531.12,630.88,535.42,556.84,500.18,475.02,476.28,493.96,502.6,507.14,525.16,450.0,460.36,491.76,475.58,530.18,536.72,577.42,497.44,450.0,450.0,589.16,478.44,536.54,530.54,597.32,590.96,521.02,522.82,538.8,537.12,475.14,535.42,450.0,450.0,450.0,504.62,575.32,536.14,537.88,450.0,474.42,478.22,450.0,486.74,511.12,522.2,450.0,450.0,450.0,450.0,450.0,479.22,514.32,450.0,597.58,450.0,533.02,450.0,450.0,450.0,513.02,610.46,631.76,450.0,516.22,500.92,555.9,548.68,515.62,579.9,489.28,450.0,508.48,450.0,450.0],\"y0\":\" \",\"yaxis\":\"y\",\"type\":\"box\"}],                        {\"template\":{\"data\":{\"bar\":[{\"error_x\":{\"color\":\"#2a3f5f\"},\"error_y\":{\"color\":\"#2a3f5f\"},\"marker\":{\"line\":{\"color\":\"#E5ECF6\",\"width\":0.5},\"pattern\":{\"fillmode\":\"overlay\",\"size\":10,\"solidity\":0.2}},\"type\":\"bar\"}],\"barpolar\":[{\"marker\":{\"line\":{\"color\":\"#E5ECF6\",\"width\":0.5},\"pattern\":{\"fillmode\":\"overlay\",\"size\":10,\"solidity\":0.2}},\"type\":\"barpolar\"}],\"carpet\":[{\"aaxis\":{\"endlinecolor\":\"#2a3f5f\",\"gridcolor\":\"white\",\"linecolor\":\"white\",\"minorgridcolor\":\"white\",\"startlinecolor\":\"#2a3f5f\"},\"baxis\":{\"endlinecolor\":\"#2a3f5f\",\"gridcolor\":\"white\",\"linecolor\":\"white\",\"minorgridcolor\":\"white\",\"startlinecolor\":\"#2a3f5f\"},\"type\":\"carpet\"}],\"choropleth\":[{\"colorbar\":{\"outlinewidth\":0,\"ticks\":\"\"},\"type\":\"choropleth\"}],\"contour\":[{\"colorbar\":{\"outlinewidth\":0,\"ticks\":\"\"},\"colorscale\":[[0.0,\"#0d0887\"],[0.1111111111111111,\"#46039f\"],[0.2222222222222222,\"#7201a8\"],[0.3333333333333333,\"#9c179e\"],[0.4444444444444444,\"#bd3786\"],[0.5555555555555556,\"#d8576b\"],[0.6666666666666666,\"#ed7953\"],[0.7777777777777778,\"#fb9f3a\"],[0.8888888888888888,\"#fdca26\"],[1.0,\"#f0f921\"]],\"type\":\"contour\"}],\"contourcarpet\":[{\"colorbar\":{\"outlinewidth\":0,\"ticks\":\"\"},\"type\":\"contourcarpet\"}],\"heatmap\":[{\"colorbar\":{\"outlinewidth\":0,\"ticks\":\"\"},\"colorscale\":[[0.0,\"#0d0887\"],[0.1111111111111111,\"#46039f\"],[0.2222222222222222,\"#7201a8\"],[0.3333333333333333,\"#9c179e\"],[0.4444444444444444,\"#bd3786\"],[0.5555555555555556,\"#d8576b\"],[0.6666666666666666,\"#ed7953\"],[0.7777777777777778,\"#fb9f3a\"],[0.8888888888888888,\"#fdca26\"],[1.0,\"#f0f921\"]],\"type\":\"heatmap\"}],\"heatmapgl\":[{\"colorbar\":{\"outlinewidth\":0,\"ticks\":\"\"},\"colorscale\":[[0.0,\"#0d0887\"],[0.1111111111111111,\"#46039f\"],[0.2222222222222222,\"#7201a8\"],[0.3333333333333333,\"#9c179e\"],[0.4444444444444444,\"#bd3786\"],[0.5555555555555556,\"#d8576b\"],[0.6666666666666666,\"#ed7953\"],[0.7777777777777778,\"#fb9f3a\"],[0.8888888888888888,\"#fdca26\"],[1.0,\"#f0f921\"]],\"type\":\"heatmapgl\"}],\"histogram\":[{\"marker\":{\"pattern\":{\"fillmode\":\"overlay\",\"size\":10,\"solidity\":0.2}},\"type\":\"histogram\"}],\"histogram2d\":[{\"colorbar\":{\"outlinewidth\":0,\"ticks\":\"\"},\"colorscale\":[[0.0,\"#0d0887\"],[0.1111111111111111,\"#46039f\"],[0.2222222222222222,\"#7201a8\"],[0.3333333333333333,\"#9c179e\"],[0.4444444444444444,\"#bd3786\"],[0.5555555555555556,\"#d8576b\"],[0.6666666666666666,\"#ed7953\"],[0.7777777777777778,\"#fb9f3a\"],[0.8888888888888888,\"#fdca26\"],[1.0,\"#f0f921\"]],\"type\":\"histogram2d\"}],\"histogram2dcontour\":[{\"colorbar\":{\"outlinewidth\":0,\"ticks\":\"\"},\"colorscale\":[[0.0,\"#0d0887\"],[0.1111111111111111,\"#46039f\"],[0.2222222222222222,\"#7201a8\"],[0.3333333333333333,\"#9c179e\"],[0.4444444444444444,\"#bd3786\"],[0.5555555555555556,\"#d8576b\"],[0.6666666666666666,\"#ed7953\"],[0.7777777777777778,\"#fb9f3a\"],[0.8888888888888888,\"#fdca26\"],[1.0,\"#f0f921\"]],\"type\":\"histogram2dcontour\"}],\"mesh3d\":[{\"colorbar\":{\"outlinewidth\":0,\"ticks\":\"\"},\"type\":\"mesh3d\"}],\"parcoords\":[{\"line\":{\"colorbar\":{\"outlinewidth\":0,\"ticks\":\"\"}},\"type\":\"parcoords\"}],\"pie\":[{\"automargin\":true,\"type\":\"pie\"}],\"scatter\":[{\"marker\":{\"colorbar\":{\"outlinewidth\":0,\"ticks\":\"\"}},\"type\":\"scatter\"}],\"scatter3d\":[{\"line\":{\"colorbar\":{\"outlinewidth\":0,\"ticks\":\"\"}},\"marker\":{\"colorbar\":{\"outlinewidth\":0,\"ticks\":\"\"}},\"type\":\"scatter3d\"}],\"scattercarpet\":[{\"marker\":{\"colorbar\":{\"outlinewidth\":0,\"ticks\":\"\"}},\"type\":\"scattercarpet\"}],\"scattergeo\":[{\"marker\":{\"colorbar\":{\"outlinewidth\":0,\"ticks\":\"\"}},\"type\":\"scattergeo\"}],\"scattergl\":[{\"marker\":{\"colorbar\":{\"outlinewidth\":0,\"ticks\":\"\"}},\"type\":\"scattergl\"}],\"scattermapbox\":[{\"marker\":{\"colorbar\":{\"outlinewidth\":0,\"ticks\":\"\"}},\"type\":\"scattermapbox\"}],\"scatterpolar\":[{\"marker\":{\"colorbar\":{\"outlinewidth\":0,\"ticks\":\"\"}},\"type\":\"scatterpolar\"}],\"scatterpolargl\":[{\"marker\":{\"colorbar\":{\"outlinewidth\":0,\"ticks\":\"\"}},\"type\":\"scatterpolargl\"}],\"scatterternary\":[{\"marker\":{\"colorbar\":{\"outlinewidth\":0,\"ticks\":\"\"}},\"type\":\"scatterternary\"}],\"surface\":[{\"colorbar\":{\"outlinewidth\":0,\"ticks\":\"\"},\"colorscale\":[[0.0,\"#0d0887\"],[0.1111111111111111,\"#46039f\"],[0.2222222222222222,\"#7201a8\"],[0.3333333333333333,\"#9c179e\"],[0.4444444444444444,\"#bd3786\"],[0.5555555555555556,\"#d8576b\"],[0.6666666666666666,\"#ed7953\"],[0.7777777777777778,\"#fb9f3a\"],[0.8888888888888888,\"#fdca26\"],[1.0,\"#f0f921\"]],\"type\":\"surface\"}],\"table\":[{\"cells\":{\"fill\":{\"color\":\"#EBF0F8\"},\"line\":{\"color\":\"white\"}},\"header\":{\"fill\":{\"color\":\"#C8D4E3\"},\"line\":{\"color\":\"white\"}},\"type\":\"table\"}]},\"layout\":{\"annotationdefaults\":{\"arrowcolor\":\"#2a3f5f\",\"arrowhead\":0,\"arrowwidth\":1},\"autotypenumbers\":\"strict\",\"coloraxis\":{\"colorbar\":{\"outlinewidth\":0,\"ticks\":\"\"}},\"colorscale\":{\"diverging\":[[0,\"#8e0152\"],[0.1,\"#c51b7d\"],[0.2,\"#de77ae\"],[0.3,\"#f1b6da\"],[0.4,\"#fde0ef\"],[0.5,\"#f7f7f7\"],[0.6,\"#e6f5d0\"],[0.7,\"#b8e186\"],[0.8,\"#7fbc41\"],[0.9,\"#4d9221\"],[1,\"#276419\"]],\"sequential\":[[0.0,\"#0d0887\"],[0.1111111111111111,\"#46039f\"],[0.2222222222222222,\"#7201a8\"],[0.3333333333333333,\"#9c179e\"],[0.4444444444444444,\"#bd3786\"],[0.5555555555555556,\"#d8576b\"],[0.6666666666666666,\"#ed7953\"],[0.7777777777777778,\"#fb9f3a\"],[0.8888888888888888,\"#fdca26\"],[1.0,\"#f0f921\"]],\"sequentialminus\":[[0.0,\"#0d0887\"],[0.1111111111111111,\"#46039f\"],[0.2222222222222222,\"#7201a8\"],[0.3333333333333333,\"#9c179e\"],[0.4444444444444444,\"#bd3786\"],[0.5555555555555556,\"#d8576b\"],[0.6666666666666666,\"#ed7953\"],[0.7777777777777778,\"#fb9f3a\"],[0.8888888888888888,\"#fdca26\"],[1.0,\"#f0f921\"]]},\"colorway\":[\"#636efa\",\"#EF553B\",\"#00cc96\",\"#ab63fa\",\"#FFA15A\",\"#19d3f3\",\"#FF6692\",\"#B6E880\",\"#FF97FF\",\"#FECB52\"],\"font\":{\"color\":\"#2a3f5f\"},\"geo\":{\"bgcolor\":\"white\",\"lakecolor\":\"white\",\"landcolor\":\"#E5ECF6\",\"showlakes\":true,\"showland\":true,\"subunitcolor\":\"white\"},\"hoverlabel\":{\"align\":\"left\"},\"hovermode\":\"closest\",\"mapbox\":{\"style\":\"light\"},\"paper_bgcolor\":\"white\",\"plot_bgcolor\":\"#E5ECF6\",\"polar\":{\"angularaxis\":{\"gridcolor\":\"white\",\"linecolor\":\"white\",\"ticks\":\"\"},\"bgcolor\":\"#E5ECF6\",\"radialaxis\":{\"gridcolor\":\"white\",\"linecolor\":\"white\",\"ticks\":\"\"}},\"scene\":{\"xaxis\":{\"backgroundcolor\":\"#E5ECF6\",\"gridcolor\":\"white\",\"gridwidth\":2,\"linecolor\":\"white\",\"showbackground\":true,\"ticks\":\"\",\"zerolinecolor\":\"white\"},\"yaxis\":{\"backgroundcolor\":\"#E5ECF6\",\"gridcolor\":\"white\",\"gridwidth\":2,\"linecolor\":\"white\",\"showbackground\":true,\"ticks\":\"\",\"zerolinecolor\":\"white\"},\"zaxis\":{\"backgroundcolor\":\"#E5ECF6\",\"gridcolor\":\"white\",\"gridwidth\":2,\"linecolor\":\"white\",\"showbackground\":true,\"ticks\":\"\",\"zerolinecolor\":\"white\"}},\"shapedefaults\":{\"line\":{\"color\":\"#2a3f5f\"}},\"ternary\":{\"aaxis\":{\"gridcolor\":\"white\",\"linecolor\":\"white\",\"ticks\":\"\"},\"baxis\":{\"gridcolor\":\"white\",\"linecolor\":\"white\",\"ticks\":\"\"},\"bgcolor\":\"#E5ECF6\",\"caxis\":{\"gridcolor\":\"white\",\"linecolor\":\"white\",\"ticks\":\"\"}},\"title\":{\"x\":0.05},\"xaxis\":{\"automargin\":true,\"gridcolor\":\"white\",\"linecolor\":\"white\",\"ticks\":\"\",\"title\":{\"standoff\":15},\"zerolinecolor\":\"white\",\"zerolinewidth\":2},\"yaxis\":{\"automargin\":true,\"gridcolor\":\"white\",\"linecolor\":\"white\",\"ticks\":\"\",\"title\":{\"standoff\":15},\"zerolinecolor\":\"white\",\"zerolinewidth\":2}}},\"xaxis\":{\"anchor\":\"y\",\"domain\":[0.0,1.0]},\"yaxis\":{\"anchor\":\"x\",\"domain\":[0.0,1.0],\"title\":{\"text\":\"nota_parcial_ampla\"}},\"legend\":{\"tracegroupgap\":0},\"margin\":{\"t\":60},\"boxmode\":\"group\"},                        {\"responsive\": true}                    ).then(function(){\n",
              "                            \n",
              "var gd = document.getElementById('f9201dbd-cb3b-4acb-8145-a1b0f7310e69');\n",
              "var x = new MutationObserver(function (mutations, observer) {{\n",
              "        var display = window.getComputedStyle(gd).display;\n",
              "        if (!display || display === 'none') {{\n",
              "            console.log([gd, 'removed!']);\n",
              "            Plotly.purge(gd);\n",
              "            observer.disconnect();\n",
              "        }}\n",
              "}});\n",
              "\n",
              "// Listen for the removal of the full notebook cells\n",
              "var notebookContainer = gd.closest('#notebook-container');\n",
              "if (notebookContainer) {{\n",
              "    x.observe(notebookContainer, {childList: true});\n",
              "}}\n",
              "\n",
              "// Listen for the clearing of the current output cell\n",
              "var outputEl = gd.closest('.output');\n",
              "if (outputEl) {{\n",
              "    x.observe(outputEl, {childList: true});\n",
              "}}\n",
              "\n",
              "                        })                };                            </script>        </div>\n",
              "</body>\n",
              "</html>"
            ]
          },
          "metadata": {}
        }
      ]
    },
    {
      "cell_type": "code",
      "source": [
        "boxplot = px.box(df_aux, y=\"nota_parcial_cotas\")\n",
        "boxplot.show()"
      ],
      "metadata": {
        "colab": {
          "base_uri": "https://localhost:8080/",
          "height": 542
        },
        "id": "ePqxgxMRzQhW",
        "outputId": "6f1219b1-9f6d-4ebe-9245-e59f0406445e"
      },
      "execution_count": 19,
      "outputs": [
        {
          "output_type": "display_data",
          "data": {
            "text/html": [
              "<html>\n",
              "<head><meta charset=\"utf-8\" /></head>\n",
              "<body>\n",
              "    <div>            <script src=\"https://cdnjs.cloudflare.com/ajax/libs/mathjax/2.7.5/MathJax.js?config=TeX-AMS-MML_SVG\"></script><script type=\"text/javascript\">if (window.MathJax) {MathJax.Hub.Config({SVG: {font: \"STIX-Web\"}});}</script>                <script type=\"text/javascript\">window.PlotlyConfig = {MathJaxConfig: 'local'};</script>\n",
              "        <script src=\"https://cdn.plot.ly/plotly-2.8.3.min.js\"></script>                <div id=\"6d531027-c199-49c1-aa00-6ef7ff788e2e\" class=\"plotly-graph-div\" style=\"height:525px; width:100%;\"></div>            <script type=\"text/javascript\">                                    window.PLOTLYENV=window.PLOTLYENV || {};                                    if (document.getElementById(\"6d531027-c199-49c1-aa00-6ef7ff788e2e\")) {                    Plotly.newPlot(                        \"6d531027-c199-49c1-aa00-6ef7ff788e2e\",                        [{\"alignmentgroup\":\"True\",\"hovertemplate\":\"nota_parcial_cotas=%{y}<extra></extra>\",\"legendgroup\":\"\",\"marker\":{\"color\":\"#636efa\"},\"name\":\"\",\"notched\":false,\"offsetgroup\":\"\",\"orientation\":\"v\",\"showlegend\":false,\"x0\":\" \",\"xaxis\":\"x\",\"y\":[718.64,711.26,722.82,715.1,717.6,718.48,723.28,732.46,690.18,727.58,721.08,750.64,711.68,741.0,768.34,548.4,530.94,628.7,557.84,591.96,608.36,521.86,547.78,600.96,568.5,597.26,586.1,564.4,560.06,563.02,501.66,639.66,570.14,607.16,596.6,604.32,632.0,609.26,502.48,615.44,606.26,601.22,538.08,595.16,582.24,540.84,610.44,581.82,592.26,541.16,605.32,516.0,523.44,552.68,524.44,542.66,622.44,586.3,592.14,595.76,450.0,601.12,593.08,592.0,654.74,582.78,561.46,618.24,647.18,561.62,508.7,544.86,605.86,465.04,656.1,668.14,493.12,579.22,576.88,517.18,450.0,490.96,573.82,568.06,551.5,543.84,590.88,571.1,564.78,539.28,574.94,569.3,530.6,577.54,639.52,662.08,618.12,595.88,450.0,615.12,450.0,573.9,599.32,450.0,450.0,493.5,595.44,450.0,552.76,584.64,579.02,505.52,450.0,647.88,624.18,648.7,641.36,606.72,586.18,615.98,517.52,540.3,525.24,450.0,567.5,523.72,540.76,583.68,572.82,546.7,450.0,582.08,597.38,633.44,589.36,535.66,541.8,549.9,613.5,634.06,583.54,518.06,576.86,450.0,548.7,588.36,598.46,533.72,545.46,544.5,551.42,596.84,595.26,573.48,583.82,583.56,545.28,486.56,469.3,519.62,595.12,617.42,450.0,558.88,558.14,638.7,543.82,527.12,565.56,529.9,606.26,471.92,476.8,580.88,551.7,508.98,493.02,550.98,525.64,450.0,570.5,581.94,577.7,514.98,577.88,450.0,571.02,510.66,516.76,574.18,516.92,573.26,576.84,546.54,577.12,544.38,484.36,520.6,556.8,596.78,611.04,521.22,496.56,498.78,576.38,519.78,450.0,580.02,553.68,491.18,450.0,516.44,553.32,497.56,579.42,594.42,630.9,582.64,593.18,585.08,583.26,591.54,558.86,612.5,586.14,547.74,450.0,450.0,527.52,617.96,459.52,569.62,517.56,602.64,563.02,626.22,486.98,583.92,494.52,566.2,556.1,517.62,526.04,532.14,540.26,598.44,450.0,564.46,575.28,655.52,606.76,607.24,450.0,542.56,592.82,477.46,476.62,500.26,488.62,478.66,464.92,599.3,547.0,450.0,573.46,563.5,576.76,582.88,602.98,472.38,463.48,507.78,532.04,590.56,585.54,533.16,578.04,558.76,520.94,567.58,560.92,535.9,501.6,450.0,554.04,524.7,531.7,450.0,621.56,542.06,572.48,583.2,539.56,526.02,565.96,556.24,619.08,640.9,606.44,580.98,624.78,503.34,575.64,450.0,557.0,557.12,558.54,494.76,513.44,572.58,592.1,572.84,591.58,602.86,546.54,450.0,540.18,516.68,536.44,591.64,540.84,524.34,568.38,627.38,577.32,572.8,548.28,550.36,573.72,574.82,450.0,450.0,520.0,564.6,617.26,619.8,514.02,530.7,606.78,595.68,519.16,623.6,613.12,580.92,567.48,542.04,542.22,611.1,547.12,588.96,631.72,588.18,608.86,602.18,513.1,450.0,539.2,570.72,459.3,509.54,595.2,559.36,549.52,457.82,527.8,450.0,589.5,572.8,594.32,518.08,587.64,574.12,520.5,557.56,608.96,574.8,532.6,494.62,581.2,626.34,515.38,582.42,575.96,603.74,608.96,558.04,550.02,596.2,521.7,601.38,450.0,523.7,450.0,573.98,548.44,450.0,572.48,583.34,573.16,450.0,450.0,578.16,555.26,616.3,578.28,582.66,594.98,528.38,568.22,562.02,557.5,543.0,517.6,546.42,503.46,516.54,581.48,493.98,450.0,450.0,527.9,491.82,556.8,553.54,450.0,562.0,512.9,486.32,567.98,540.3,517.24,554.18,562.54,530.72,544.32,478.82,549.24,508.98,562.16,450.0,533.5,597.12,613.82,579.42,567.96,543.58,482.82,516.0,450.0,544.5,535.72,594.72,603.5,524.02,538.26,542.08,556.7,450.0,596.98,591.08,622.78,450.0,573.44,450.0,568.98,532.02,580.34,571.96,610.28,560.62,496.1,568.98,620.98,619.06,506.64,556.0,534.02,582.7,603.52,637.08,519.62,549.04,585.86,592.92,560.98,561.96,522.5,543.72,548.44,567.1,540.82,559.88,577.74,587.56,525.06,544.46,450.0,546.02,450.0,450.0,450.0,450.0,450.0,450.0,450.0,450.0,450.0,568.7,549.52,558.78,551.22,564.14,533.04,450.0,495.02,450.0,500.98,561.42,619.28,589.32,551.78,551.18,518.64,544.24,488.44,579.44,450.0,450.0,568.28,586.52,549.32,601.76,605.82,648.82,556.1,555.22,558.06,558.62,562.26,579.3,539.84,450.0,450.0,594.36,536.18,577.62,575.44,564.64,558.12,574.0,588.56,594.86,599.7,625.54,609.76,578.38,618.68,580.82,585.96,536.18,561.72,583.34,563.92,537.76,559.58,573.42,572.54,520.8,548.04,559.52,549.86,548.12,450.0,450.0,450.0,579.7,609.86,605.68,513.14,498.4,518.78,583.86,584.7,581.84,572.14,566.56,556.94,560.7,629.66,514.48,494.44,560.94,509.24,538.22,573.46,585.26,587.22,528.92,544.92,450.0,450.0,450.0,450.0,537.2,607.82,450.0,563.72,565.6,552.92,530.44,561.54,564.08,569.56,545.98,530.1,571.48,559.78,598.28,547.44,581.36,561.96,450.0,514.34,450.0,450.0,450.0,596.08,553.78,553.16,534.12,450.0,538.38,553.24,499.34,476.82,568.88,678.54,590.94,591.84,595.34,589.5,571.32,563.92,509.1,555.9,593.52,450.0,450.0,450.0,450.0,450.0,450.0,450.0,534.56,450.0,504.38,450.0,631.38,503.38,563.98,575.42,517.2,534.78,592.06,558.82,479.78,622.68,541.98,587.12,582.98,535.26,585.0,529.64,508.1,546.58,559.98,540.9,450.0,450.0,499.3,450.0,529.0,577.5,548.88,450.0,450.0,450.0,450.0,579.5,450.0,453.24,559.86,532.74,573.54,450.0,589.34,565.36,570.42,568.1,580.8,484.84,537.16,545.5,485.7,516.26,541.22,527.1,538.04,546.12,565.82,535.98,598.12,538.88,582.9,565.08,450.0,450.0,498.5,503.16,634.14,566.46,599.76,622.18,513.18,581.26,553.64,557.2,546.96,539.44,583.84,543.58,581.76,498.62,636.44,561.6,570.4,546.3,617.24,582.78,489.06,450.0,450.0,569.08,450.0,582.74,565.9,557.62,571.96,602.42,575.78,450.0,507.56,586.54,527.28,450.0,587.72,568.5,566.98,582.6,568.18,582.8,560.58,563.66,555.32,538.58,565.92,515.76,549.18,576.48,557.52,546.5,584.24,547.98,572.6,521.38,484.4,496.32,534.44,532.76,522.14,528.9,530.24,450.0,525.44,559.88,553.9,450.0,450.0,519.44,544.7,546.66,607.68,538.92,569.22,450.0,594.34,536.02,556.16,545.52,484.46,450.0,596.12,537.78,541.94,557.68,450.0,450.0,450.0,594.1,524.54,526.46,520.92,529.04,552.18,565.96,586.78,450.0,450.0,567.0,450.0,544.28,532.28,596.54,591.2,479.96,572.1,596.06,450.0,593.8,544.96,517.7,597.56,579.4,523.86,529.14,599.72,491.3,599.04,552.98,450.0,521.58,477.74,548.64,546.52,532.2,539.82,476.54,599.4,572.08,566.5,560.42,516.68,554.7,599.36,589.42,601.24,559.68,560.92,570.1,595.52,503.42,450.0,450.0,510.14,460.2,535.16,491.06,536.74,576.98,572.84,563.22,551.76,575.96,450.0,450.0,450.0,564.12,514.08,450.0,531.16,553.26,497.36,533.34,535.36,579.48,535.94,582.72,590.76,543.18,542.6,514.7,588.74,575.8,611.98,551.9,472.44,450.0,450.0,540.48,544.48,532.12,526.54,575.04,501.7,450.0,589.88,535.16,450.0,564.32,578.72,545.68,543.98,526.84,598.46,520.34,569.38,553.76,563.44,562.14,558.78,528.6,534.9,539.58,564.88,570.68,553.5,615.8,520.84,450.0,591.92,519.94,550.5,549.42,531.2,524.62,542.7,450.0,562.36,553.78,553.56,552.74,518.54,488.78,503.76,573.68,562.42,583.14,602.26,512.44,549.38,497.42,565.9,607.2,566.22,544.16,528.38,536.16,566.04,472.44,466.48,492.14,562.68,490.46,562.66,543.02,467.34,535.76,458.2,537.2,634.02,568.36,574.96,501.74,470.8,496.32,450.0,450.0,450.0,450.0,450.0,566.46,450.0,585.12,498.74,584.5,587.88,530.82,543.5,623.4,576.3,540.52,556.24,478.06,450.0,564.3,534.66,585.04,558.88,450.0,450.0,584.58,551.02,463.42,474.1,536.5,501.52,546.92,544.54,548.96,450.0,450.0,545.9,484.96,536.7,450.0,450.0,450.0,590.48,588.38,538.56,545.24,543.18,516.06,537.82,513.12,567.9,545.02,531.86,553.48,450.0,555.72,571.32,501.1,484.32,604.34,450.0,452.94,532.92,474.0,450.0,520.02,515.62,559.24,554.8,450.0,641.18,566.68,565.52,450.0,564.64,450.0,450.0,450.0,521.02,500.64,518.46,555.64,576.32,450.0,552.4,531.36,511.9,450.0,525.88,566.38,546.46,507.64,561.78,525.86,476.48,509.7,571.3,589.76,551.82,509.86,488.48,539.44,450.0,450.0,536.76,450.0,557.3,574.22,537.5,450.0,603.66,565.74,584.32,580.16,450.0,573.26,468.16,507.36,571.26,522.66,500.0,553.46,460.8,575.06,546.4,561.48,536.26,525.54,450.0,477.44,524.12,483.92,450.0,450.0,514.52,569.9,531.74,450.0,535.36,512.28,575.86,584.38,522.6,549.22,575.7,567.68,527.4,494.48,475.32,450.0,511.4,615.42,450.0,622.06,550.92,511.98,463.3,494.86,450.0,450.0,526.36,609.48,584.5,536.72,535.32,521.7,549.18,556.64,572.56,580.08,580.16,568.54,551.16,519.04,506.08,550.78,571.78,572.98,532.14,464.8,467.48,496.22,498.66,522.86,520.56,566.34,531.8,524.22,534.76,553.92,571.46,570.92,505.72,516.98,519.74,475.16,584.22,528.14,571.32,534.9,450.0,459.66,450.0,471.0,450.0,450.0,450.0,551.08,561.92,551.64,534.86,603.6,518.8,524.34,544.14,557.7,627.68,566.72,586.2,504.56,527.16,545.46,566.12,450.0,523.14,578.98,563.58,567.58,545.3,544.26,555.02,568.24,450.0,450.0,552.76,509.86,548.4,473.2,518.34,486.44,495.86,517.92,522.64,450.0,510.02,520.9,585.14,560.92,580.52,550.74,535.3,472.78,496.42,557.44,535.1,499.66,558.68,562.28,606.2,599.68,502.36,515.58,544.22,509.54,499.14,504.72,514.46,547.58,504.3,566.34,570.64,586.1,562.28,450.0,450.0,546.44,566.14,463.28,473.4,450.0,579.06,553.18,542.3,450.0,520.12,551.72,605.34,542.1,562.5,548.72,450.0,450.0,587.38,580.22,588.46,554.52,516.54,450.0,450.0,531.44,450.0,484.92,553.1,559.22,450.0,561.6,512.16,450.0,528.28,475.92,602.54,450.0,511.0,525.7,452.7,579.86,572.54,495.68,519.16,450.0,554.5,528.84,536.62,498.98,596.32,515.04,450.0,568.5,565.7,515.98,450.0,450.0,553.32,450.0,450.0,450.0,450.0,557.8,525.84,486.78,552.7,540.72,528.54,630.48,541.96,518.32,488.52,557.72,512.28,541.5,571.0,631.6,523.48,567.02,585.42,544.62,554.66,539.68,486.64,450.0,557.08,522.72,588.78,541.48,535.92,621.02,547.96,509.44,473.7,536.98,573.06,487.94,552.4,573.76,475.46,514.34,450.0,450.0,464.9,540.9,565.72,513.6,534.7,520.58,578.14,510.96,548.92,509.68,568.16,573.7,551.66,545.44,557.72,450.0,500.2,450.0,486.96,495.5,518.06,563.62,450.0,563.84,481.08,557.28,589.58,531.7,555.3,545.72,541.48,516.6,508.74,514.46,517.08,545.9,517.52,528.82,510.42,534.94,450.0,477.26,492.4,610.82,530.86,536.54,579.32,529.1,499.4,510.2,571.42,458.46,544.3,531.26,550.58,513.24,585.86,572.1,568.52,482.1,553.08,511.98,534.02,544.06,548.74,469.26,485.58,450.0,503.3,521.28,503.98,510.26,546.08,583.9,557.92,491.48,542.68,545.46,471.98,599.14,453.36,461.78,514.98,450.0,506.84,560.58,585.04,539.94,493.22,553.02,563.74,534.28,554.46,578.24,505.44,515.2,575.66,552.18,480.6,450.0,549.76,543.82,489.24,504.24,540.02,450.0,494.28,590.2,542.52,504.72,532.24,558.78,516.48,583.3,506.6,560.0,511.96,539.22,509.9,518.84,571.62,521.12,472.5,571.8,531.04,539.1,530.84,531.06,450.0,450.88,595.64,598.68,450.0,450.0,450.0,510.26,455.62,465.1,530.16,518.36,503.86,523.26,535.72,508.7,552.24,565.66,567.06,563.56,547.1,530.84,493.42,496.6,549.8,531.86,520.66,450.0,450.0,450.0,499.78,556.02,542.16,498.98,570.6,553.04,552.5,489.18,501.84,541.18,532.08,474.14,498.84,450.0,562.8,567.88,497.92,619.4,502.26,533.62,519.36,487.22,488.94,525.24,450.0,514.3,555.76,465.94,495.62,512.7,450.0,477.24,450.0,503.94,490.3,565.42,467.58,499.66,508.12,504.12,561.6,540.7,471.84,531.16,541.24,555.58,485.0,529.54,508.22,557.68,496.62,522.36,595.34,490.46,559.12,526.6,450.0,504.6,542.76,533.46,514.96,483.06,484.06,642.84,546.74,523.58,513.06,495.44,450.0,450.0,470.38,510.56,566.74,450.0,450.0,623.22,519.04,468.58,576.66,450.0,515.5,582.58,471.92,450.0,546.42,510.0,521.5,511.22,510.8,490.24,505.22,476.2,497.42,506.66,568.78,450.0,572.92,569.42,450.0,554.12,555.28,565.58,554.88,501.26,466.08,529.22,547.92,450.0,583.12,576.76,510.02,517.12,512.16,450.0,450.0,496.9,577.62,450.0,450.0,606.68,450.0,544.32,450.0,494.2,494.16,529.7,540.52,560.74,536.16,544.42,490.14,470.48,531.58,537.74,450.0,450.0,481.16,450.0,486.18,527.08,450.0,450.0,450.0,473.06,521.48,522.54,528.28,564.12,458.52,514.14,511.98,516.0,477.86,525.38,582.58,450.0,636.72,510.86,527.42,450.0,538.5,450.0,450.0,450.0,450.0,450.0,450.0,450.0,450.0,450.0,450.0,565.42,562.84,572.58,450.0,450.0,450.0,535.52,522.06,532.62,540.82,450.0,450.0,458.02,535.96,560.2,450.0,450.0,487.66,450.0,503.18,450.0,450.0,450.0,450.0,450.0,450.0,450.0,450.0,450.0,450.0,450.0,450.0,450.0,450.0,450.0,450.0,450.0,450.0,450.0,450.0,480.7,450.0,450.0,450.0,450.0,450.0,450.0,505.48,549.02,540.64,554.48,522.86,459.72,530.58,544.1,489.96,499.72,450.0,548.46,510.0,500.76,450.0,450.0,469.54,453.34,511.68,536.22,563.4,542.06,511.58,450.0,504.16,484.98,535.76,499.36,514.74,494.76,531.04,577.76,533.12,450.0,450.0,474.52,450.0,500.38,538.22,483.18,450.0,450.0,563.12,548.12,450.0,480.46,450.0,450.0,541.3,523.46,503.68,485.1,564.7,492.6,508.74,450.0,451.24,529.66,536.62,551.68,493.82,450.68,450.0,491.28,538.54,550.2,547.78,501.6,450.0,450.0,450.0,450.0,450.0,528.44,557.52,546.04,496.88,450.0,450.0,450.0,502.36,521.38,450.0,506.8,468.34,450.0,530.64,450.0,450.0,450.0,450.0,529.16,450.0,450.0,450.0,450.0,450.0,450.0,450.0,450.0,450.0,450.0,450.0,450.0,450.0,457.96,450.0,450.0,450.0,450.0,450.0,540.26,450.0,450.0,472.82,450.0,528.92,450.0,451.36,450.0,450.0,477.72,450.0,450.0,552.62,450.0,450.0,450.0,450.0,450.0,450.0,450.0,450.0,450.0,453.5,450.0,450.0,450.0,450.0,529.58,450.0,450.0,466.22,450.0,450.0,503.56,494.76,450.0,469.98,450.0,566.66,539.34,490.32,478.78,450.0,450.0,450.0,450.0,481.9,450.0,450.0,450.0,528.32,502.38,450.0,450.0,450.0,470.04,450.0,450.0,450.0,497.42,450.0,501.72,450.0,450.0,450.0,450.0,450.0,523.86,450.0,450.0,504.48,450.0,450.0,450.0,450.0,450.0,515.6,584.46,520.96,450.0,450.0,545.18,544.58,538.26,554.92,465.12,459.7,450.0,450.0,450.0,450.0,450.0,450.0,450.0,471.08,488.6,479.86,450.0,450.0,544.98,487.84,504.78,450.0,450.0,450.0,450.06,483.48,465.58,450.0,450.0,450.0,450.0,450.0,450.0,450.0,450.0,450.0,536.78,505.04,450.0,554.48,450.0,616.28,550.56,566.42,496.1,488.84,472.58,450.0,552.78,450.0,522.48,450.0,557.46,450.0,450.0,450.0,450.0,450.0,450.0,450.0,450.0,450.0,450.0,450.0,450.0,450.0,450.0,450.0,532.26,450.0,496.24,450.0,450.0,450.0,450.0,450.0,517.44,475.26,450.0,450.0,496.34,530.7,492.24,508.58,450.0,450.0,450.0,450.0,450.0,519.3,450.0,489.3,450.0,450.0,450.0,481.0,475.98,504.02,489.54,450.0,450.0,450.0,450.0,450.0,467.74,450.0,510.46,477.9,450.0,606.5,533.1,498.36,497.18,511.7,516.0,450.0,450.0,450.0,532.96,530.92,450.0,450.0,450.0,512.48,450.0,450.0,450.0,450.0,450.0,473.82,450.0,450.0,450.0,489.18,450.0,450.0,450.0,450.0,450.0,450.0,466.08,450.0,450.0,455.92,450.0,450.0,450.0,450.0,450.0,450.0,450.0,450.0,489.62,548.02,450.0,450.0,450.0,450.0,460.2,450.0,487.72,535.32,497.6,450.0,450.0,461.28,467.46,450.0,450.0,516.84,450.0,450.0,450.0,450.0,450.0,450.0,450.0,450.0,450.0,450.0,497.24,474.2,450.0,450.0,450.0,450.0,450.0,450.0,532.44,535.42,450.0,528.56,512.36,604.44,450.0,450.0,490.48,450.0,450.0,450.0,450.0,614.34,529.38,450.0,518.3,450.0,527.06,486.58,522.52,450.0,450.0,543.62,450.0,450.0,450.0,450.0,450.0,465.56,450.0,450.0,520.52,500.94,487.46,450.0,450.0,450.0,584.24,450.0,566.6,462.26,507.04,525.42,450.0,487.6,477.58,473.62,450.0,514.18,450.0,450.0,450.0,464.98,494.46,614.82,498.3,450.0,450.0,450.0,450.0,450.0,498.46,450.0,450.0,450.0,450.0,450.0,450.0,455.3,529.86,450.0,486.4,450.0,450.0,450.0,450.0,450.0,450.0,538.62,541.12,450.0,450.0,450.0,524.68,450.0,450.0,450.0,450.0,450.0,451.78,450.0,450.0],\"y0\":\" \",\"yaxis\":\"y\",\"type\":\"box\"}],                        {\"template\":{\"data\":{\"bar\":[{\"error_x\":{\"color\":\"#2a3f5f\"},\"error_y\":{\"color\":\"#2a3f5f\"},\"marker\":{\"line\":{\"color\":\"#E5ECF6\",\"width\":0.5},\"pattern\":{\"fillmode\":\"overlay\",\"size\":10,\"solidity\":0.2}},\"type\":\"bar\"}],\"barpolar\":[{\"marker\":{\"line\":{\"color\":\"#E5ECF6\",\"width\":0.5},\"pattern\":{\"fillmode\":\"overlay\",\"size\":10,\"solidity\":0.2}},\"type\":\"barpolar\"}],\"carpet\":[{\"aaxis\":{\"endlinecolor\":\"#2a3f5f\",\"gridcolor\":\"white\",\"linecolor\":\"white\",\"minorgridcolor\":\"white\",\"startlinecolor\":\"#2a3f5f\"},\"baxis\":{\"endlinecolor\":\"#2a3f5f\",\"gridcolor\":\"white\",\"linecolor\":\"white\",\"minorgridcolor\":\"white\",\"startlinecolor\":\"#2a3f5f\"},\"type\":\"carpet\"}],\"choropleth\":[{\"colorbar\":{\"outlinewidth\":0,\"ticks\":\"\"},\"type\":\"choropleth\"}],\"contour\":[{\"colorbar\":{\"outlinewidth\":0,\"ticks\":\"\"},\"colorscale\":[[0.0,\"#0d0887\"],[0.1111111111111111,\"#46039f\"],[0.2222222222222222,\"#7201a8\"],[0.3333333333333333,\"#9c179e\"],[0.4444444444444444,\"#bd3786\"],[0.5555555555555556,\"#d8576b\"],[0.6666666666666666,\"#ed7953\"],[0.7777777777777778,\"#fb9f3a\"],[0.8888888888888888,\"#fdca26\"],[1.0,\"#f0f921\"]],\"type\":\"contour\"}],\"contourcarpet\":[{\"colorbar\":{\"outlinewidth\":0,\"ticks\":\"\"},\"type\":\"contourcarpet\"}],\"heatmap\":[{\"colorbar\":{\"outlinewidth\":0,\"ticks\":\"\"},\"colorscale\":[[0.0,\"#0d0887\"],[0.1111111111111111,\"#46039f\"],[0.2222222222222222,\"#7201a8\"],[0.3333333333333333,\"#9c179e\"],[0.4444444444444444,\"#bd3786\"],[0.5555555555555556,\"#d8576b\"],[0.6666666666666666,\"#ed7953\"],[0.7777777777777778,\"#fb9f3a\"],[0.8888888888888888,\"#fdca26\"],[1.0,\"#f0f921\"]],\"type\":\"heatmap\"}],\"heatmapgl\":[{\"colorbar\":{\"outlinewidth\":0,\"ticks\":\"\"},\"colorscale\":[[0.0,\"#0d0887\"],[0.1111111111111111,\"#46039f\"],[0.2222222222222222,\"#7201a8\"],[0.3333333333333333,\"#9c179e\"],[0.4444444444444444,\"#bd3786\"],[0.5555555555555556,\"#d8576b\"],[0.6666666666666666,\"#ed7953\"],[0.7777777777777778,\"#fb9f3a\"],[0.8888888888888888,\"#fdca26\"],[1.0,\"#f0f921\"]],\"type\":\"heatmapgl\"}],\"histogram\":[{\"marker\":{\"pattern\":{\"fillmode\":\"overlay\",\"size\":10,\"solidity\":0.2}},\"type\":\"histogram\"}],\"histogram2d\":[{\"colorbar\":{\"outlinewidth\":0,\"ticks\":\"\"},\"colorscale\":[[0.0,\"#0d0887\"],[0.1111111111111111,\"#46039f\"],[0.2222222222222222,\"#7201a8\"],[0.3333333333333333,\"#9c179e\"],[0.4444444444444444,\"#bd3786\"],[0.5555555555555556,\"#d8576b\"],[0.6666666666666666,\"#ed7953\"],[0.7777777777777778,\"#fb9f3a\"],[0.8888888888888888,\"#fdca26\"],[1.0,\"#f0f921\"]],\"type\":\"histogram2d\"}],\"histogram2dcontour\":[{\"colorbar\":{\"outlinewidth\":0,\"ticks\":\"\"},\"colorscale\":[[0.0,\"#0d0887\"],[0.1111111111111111,\"#46039f\"],[0.2222222222222222,\"#7201a8\"],[0.3333333333333333,\"#9c179e\"],[0.4444444444444444,\"#bd3786\"],[0.5555555555555556,\"#d8576b\"],[0.6666666666666666,\"#ed7953\"],[0.7777777777777778,\"#fb9f3a\"],[0.8888888888888888,\"#fdca26\"],[1.0,\"#f0f921\"]],\"type\":\"histogram2dcontour\"}],\"mesh3d\":[{\"colorbar\":{\"outlinewidth\":0,\"ticks\":\"\"},\"type\":\"mesh3d\"}],\"parcoords\":[{\"line\":{\"colorbar\":{\"outlinewidth\":0,\"ticks\":\"\"}},\"type\":\"parcoords\"}],\"pie\":[{\"automargin\":true,\"type\":\"pie\"}],\"scatter\":[{\"marker\":{\"colorbar\":{\"outlinewidth\":0,\"ticks\":\"\"}},\"type\":\"scatter\"}],\"scatter3d\":[{\"line\":{\"colorbar\":{\"outlinewidth\":0,\"ticks\":\"\"}},\"marker\":{\"colorbar\":{\"outlinewidth\":0,\"ticks\":\"\"}},\"type\":\"scatter3d\"}],\"scattercarpet\":[{\"marker\":{\"colorbar\":{\"outlinewidth\":0,\"ticks\":\"\"}},\"type\":\"scattercarpet\"}],\"scattergeo\":[{\"marker\":{\"colorbar\":{\"outlinewidth\":0,\"ticks\":\"\"}},\"type\":\"scattergeo\"}],\"scattergl\":[{\"marker\":{\"colorbar\":{\"outlinewidth\":0,\"ticks\":\"\"}},\"type\":\"scattergl\"}],\"scattermapbox\":[{\"marker\":{\"colorbar\":{\"outlinewidth\":0,\"ticks\":\"\"}},\"type\":\"scattermapbox\"}],\"scatterpolar\":[{\"marker\":{\"colorbar\":{\"outlinewidth\":0,\"ticks\":\"\"}},\"type\":\"scatterpolar\"}],\"scatterpolargl\":[{\"marker\":{\"colorbar\":{\"outlinewidth\":0,\"ticks\":\"\"}},\"type\":\"scatterpolargl\"}],\"scatterternary\":[{\"marker\":{\"colorbar\":{\"outlinewidth\":0,\"ticks\":\"\"}},\"type\":\"scatterternary\"}],\"surface\":[{\"colorbar\":{\"outlinewidth\":0,\"ticks\":\"\"},\"colorscale\":[[0.0,\"#0d0887\"],[0.1111111111111111,\"#46039f\"],[0.2222222222222222,\"#7201a8\"],[0.3333333333333333,\"#9c179e\"],[0.4444444444444444,\"#bd3786\"],[0.5555555555555556,\"#d8576b\"],[0.6666666666666666,\"#ed7953\"],[0.7777777777777778,\"#fb9f3a\"],[0.8888888888888888,\"#fdca26\"],[1.0,\"#f0f921\"]],\"type\":\"surface\"}],\"table\":[{\"cells\":{\"fill\":{\"color\":\"#EBF0F8\"},\"line\":{\"color\":\"white\"}},\"header\":{\"fill\":{\"color\":\"#C8D4E3\"},\"line\":{\"color\":\"white\"}},\"type\":\"table\"}]},\"layout\":{\"annotationdefaults\":{\"arrowcolor\":\"#2a3f5f\",\"arrowhead\":0,\"arrowwidth\":1},\"autotypenumbers\":\"strict\",\"coloraxis\":{\"colorbar\":{\"outlinewidth\":0,\"ticks\":\"\"}},\"colorscale\":{\"diverging\":[[0,\"#8e0152\"],[0.1,\"#c51b7d\"],[0.2,\"#de77ae\"],[0.3,\"#f1b6da\"],[0.4,\"#fde0ef\"],[0.5,\"#f7f7f7\"],[0.6,\"#e6f5d0\"],[0.7,\"#b8e186\"],[0.8,\"#7fbc41\"],[0.9,\"#4d9221\"],[1,\"#276419\"]],\"sequential\":[[0.0,\"#0d0887\"],[0.1111111111111111,\"#46039f\"],[0.2222222222222222,\"#7201a8\"],[0.3333333333333333,\"#9c179e\"],[0.4444444444444444,\"#bd3786\"],[0.5555555555555556,\"#d8576b\"],[0.6666666666666666,\"#ed7953\"],[0.7777777777777778,\"#fb9f3a\"],[0.8888888888888888,\"#fdca26\"],[1.0,\"#f0f921\"]],\"sequentialminus\":[[0.0,\"#0d0887\"],[0.1111111111111111,\"#46039f\"],[0.2222222222222222,\"#7201a8\"],[0.3333333333333333,\"#9c179e\"],[0.4444444444444444,\"#bd3786\"],[0.5555555555555556,\"#d8576b\"],[0.6666666666666666,\"#ed7953\"],[0.7777777777777778,\"#fb9f3a\"],[0.8888888888888888,\"#fdca26\"],[1.0,\"#f0f921\"]]},\"colorway\":[\"#636efa\",\"#EF553B\",\"#00cc96\",\"#ab63fa\",\"#FFA15A\",\"#19d3f3\",\"#FF6692\",\"#B6E880\",\"#FF97FF\",\"#FECB52\"],\"font\":{\"color\":\"#2a3f5f\"},\"geo\":{\"bgcolor\":\"white\",\"lakecolor\":\"white\",\"landcolor\":\"#E5ECF6\",\"showlakes\":true,\"showland\":true,\"subunitcolor\":\"white\"},\"hoverlabel\":{\"align\":\"left\"},\"hovermode\":\"closest\",\"mapbox\":{\"style\":\"light\"},\"paper_bgcolor\":\"white\",\"plot_bgcolor\":\"#E5ECF6\",\"polar\":{\"angularaxis\":{\"gridcolor\":\"white\",\"linecolor\":\"white\",\"ticks\":\"\"},\"bgcolor\":\"#E5ECF6\",\"radialaxis\":{\"gridcolor\":\"white\",\"linecolor\":\"white\",\"ticks\":\"\"}},\"scene\":{\"xaxis\":{\"backgroundcolor\":\"#E5ECF6\",\"gridcolor\":\"white\",\"gridwidth\":2,\"linecolor\":\"white\",\"showbackground\":true,\"ticks\":\"\",\"zerolinecolor\":\"white\"},\"yaxis\":{\"backgroundcolor\":\"#E5ECF6\",\"gridcolor\":\"white\",\"gridwidth\":2,\"linecolor\":\"white\",\"showbackground\":true,\"ticks\":\"\",\"zerolinecolor\":\"white\"},\"zaxis\":{\"backgroundcolor\":\"#E5ECF6\",\"gridcolor\":\"white\",\"gridwidth\":2,\"linecolor\":\"white\",\"showbackground\":true,\"ticks\":\"\",\"zerolinecolor\":\"white\"}},\"shapedefaults\":{\"line\":{\"color\":\"#2a3f5f\"}},\"ternary\":{\"aaxis\":{\"gridcolor\":\"white\",\"linecolor\":\"white\",\"ticks\":\"\"},\"baxis\":{\"gridcolor\":\"white\",\"linecolor\":\"white\",\"ticks\":\"\"},\"bgcolor\":\"#E5ECF6\",\"caxis\":{\"gridcolor\":\"white\",\"linecolor\":\"white\",\"ticks\":\"\"}},\"title\":{\"x\":0.05},\"xaxis\":{\"automargin\":true,\"gridcolor\":\"white\",\"linecolor\":\"white\",\"ticks\":\"\",\"title\":{\"standoff\":15},\"zerolinecolor\":\"white\",\"zerolinewidth\":2},\"yaxis\":{\"automargin\":true,\"gridcolor\":\"white\",\"linecolor\":\"white\",\"ticks\":\"\",\"title\":{\"standoff\":15},\"zerolinecolor\":\"white\",\"zerolinewidth\":2}}},\"xaxis\":{\"anchor\":\"y\",\"domain\":[0.0,1.0]},\"yaxis\":{\"anchor\":\"x\",\"domain\":[0.0,1.0],\"title\":{\"text\":\"nota_parcial_cotas\"}},\"legend\":{\"tracegroupgap\":0},\"margin\":{\"t\":60},\"boxmode\":\"group\"},                        {\"responsive\": true}                    ).then(function(){\n",
              "                            \n",
              "var gd = document.getElementById('6d531027-c199-49c1-aa00-6ef7ff788e2e');\n",
              "var x = new MutationObserver(function (mutations, observer) {{\n",
              "        var display = window.getComputedStyle(gd).display;\n",
              "        if (!display || display === 'none') {{\n",
              "            console.log([gd, 'removed!']);\n",
              "            Plotly.purge(gd);\n",
              "            observer.disconnect();\n",
              "        }}\n",
              "}});\n",
              "\n",
              "// Listen for the removal of the full notebook cells\n",
              "var notebookContainer = gd.closest('#notebook-container');\n",
              "if (notebookContainer) {{\n",
              "    x.observe(notebookContainer, {childList: true});\n",
              "}}\n",
              "\n",
              "// Listen for the clearing of the current output cell\n",
              "var outputEl = gd.closest('.output');\n",
              "if (outputEl) {{\n",
              "    x.observe(outputEl, {childList: true});\n",
              "}}\n",
              "\n",
              "                        })                };                            </script>        </div>\n",
              "</body>\n",
              "</html>"
            ]
          },
          "metadata": {}
        }
      ]
    },
    {
      "cell_type": "markdown",
      "source": [
        "Pré-processamento"
      ],
      "metadata": {
        "id": "jEVJtSCgzedL"
      }
    },
    {
      "cell_type": "code",
      "source": [
        "df_aux.head(2)"
      ],
      "metadata": {
        "colab": {
          "base_uri": "https://localhost:8080/",
          "height": 112
        },
        "id": "7p3xf-Z6zhfR",
        "outputId": "95eccc87-bbd3-455c-d746-0766aad2786b"
      },
      "execution_count": 20,
      "outputs": [
        {
          "output_type": "execute_result",
          "data": {
            "text/plain": [
              "  nome_do_curso  nota_integral_ampla  nota_integral_cotas  nota_parcial_ampla  \\\n",
              "0      Medicina               739.62               738.08              738.96   \n",
              "1      Medicina               758.32               723.94              734.92   \n",
              "\n",
              "   nota_parcial_cotas  \n",
              "0              718.64  \n",
              "1              711.26  "
            ],
            "text/html": [
              "\n",
              "  <div id=\"df-45c82e2b-9db2-4e50-a25a-d2b0662ba863\">\n",
              "    <div class=\"colab-df-container\">\n",
              "      <div>\n",
              "<style scoped>\n",
              "    .dataframe tbody tr th:only-of-type {\n",
              "        vertical-align: middle;\n",
              "    }\n",
              "\n",
              "    .dataframe tbody tr th {\n",
              "        vertical-align: top;\n",
              "    }\n",
              "\n",
              "    .dataframe thead th {\n",
              "        text-align: right;\n",
              "    }\n",
              "</style>\n",
              "<table border=\"1\" class=\"dataframe\">\n",
              "  <thead>\n",
              "    <tr style=\"text-align: right;\">\n",
              "      <th></th>\n",
              "      <th>nome_do_curso</th>\n",
              "      <th>nota_integral_ampla</th>\n",
              "      <th>nota_integral_cotas</th>\n",
              "      <th>nota_parcial_ampla</th>\n",
              "      <th>nota_parcial_cotas</th>\n",
              "    </tr>\n",
              "  </thead>\n",
              "  <tbody>\n",
              "    <tr>\n",
              "      <th>0</th>\n",
              "      <td>Medicina</td>\n",
              "      <td>739.62</td>\n",
              "      <td>738.08</td>\n",
              "      <td>738.96</td>\n",
              "      <td>718.64</td>\n",
              "    </tr>\n",
              "    <tr>\n",
              "      <th>1</th>\n",
              "      <td>Medicina</td>\n",
              "      <td>758.32</td>\n",
              "      <td>723.94</td>\n",
              "      <td>734.92</td>\n",
              "      <td>711.26</td>\n",
              "    </tr>\n",
              "  </tbody>\n",
              "</table>\n",
              "</div>\n",
              "      <button class=\"colab-df-convert\" onclick=\"convertToInteractive('df-45c82e2b-9db2-4e50-a25a-d2b0662ba863')\"\n",
              "              title=\"Convert this dataframe to an interactive table.\"\n",
              "              style=\"display:none;\">\n",
              "        \n",
              "  <svg xmlns=\"http://www.w3.org/2000/svg\" height=\"24px\"viewBox=\"0 0 24 24\"\n",
              "       width=\"24px\">\n",
              "    <path d=\"M0 0h24v24H0V0z\" fill=\"none\"/>\n",
              "    <path d=\"M18.56 5.44l.94 2.06.94-2.06 2.06-.94-2.06-.94-.94-2.06-.94 2.06-2.06.94zm-11 1L8.5 8.5l.94-2.06 2.06-.94-2.06-.94L8.5 2.5l-.94 2.06-2.06.94zm10 10l.94 2.06.94-2.06 2.06-.94-2.06-.94-.94-2.06-.94 2.06-2.06.94z\"/><path d=\"M17.41 7.96l-1.37-1.37c-.4-.4-.92-.59-1.43-.59-.52 0-1.04.2-1.43.59L10.3 9.45l-7.72 7.72c-.78.78-.78 2.05 0 2.83L4 21.41c.39.39.9.59 1.41.59.51 0 1.02-.2 1.41-.59l7.78-7.78 2.81-2.81c.8-.78.8-2.07 0-2.86zM5.41 20L4 18.59l7.72-7.72 1.47 1.35L5.41 20z\"/>\n",
              "  </svg>\n",
              "      </button>\n",
              "      \n",
              "  <style>\n",
              "    .colab-df-container {\n",
              "      display:flex;\n",
              "      flex-wrap:wrap;\n",
              "      gap: 12px;\n",
              "    }\n",
              "\n",
              "    .colab-df-convert {\n",
              "      background-color: #E8F0FE;\n",
              "      border: none;\n",
              "      border-radius: 50%;\n",
              "      cursor: pointer;\n",
              "      display: none;\n",
              "      fill: #1967D2;\n",
              "      height: 32px;\n",
              "      padding: 0 0 0 0;\n",
              "      width: 32px;\n",
              "    }\n",
              "\n",
              "    .colab-df-convert:hover {\n",
              "      background-color: #E2EBFA;\n",
              "      box-shadow: 0px 1px 2px rgba(60, 64, 67, 0.3), 0px 1px 3px 1px rgba(60, 64, 67, 0.15);\n",
              "      fill: #174EA6;\n",
              "    }\n",
              "\n",
              "    [theme=dark] .colab-df-convert {\n",
              "      background-color: #3B4455;\n",
              "      fill: #D2E3FC;\n",
              "    }\n",
              "\n",
              "    [theme=dark] .colab-df-convert:hover {\n",
              "      background-color: #434B5C;\n",
              "      box-shadow: 0px 1px 3px 1px rgba(0, 0, 0, 0.15);\n",
              "      filter: drop-shadow(0px 1px 2px rgba(0, 0, 0, 0.3));\n",
              "      fill: #FFFFFF;\n",
              "    }\n",
              "  </style>\n",
              "\n",
              "      <script>\n",
              "        const buttonEl =\n",
              "          document.querySelector('#df-45c82e2b-9db2-4e50-a25a-d2b0662ba863 button.colab-df-convert');\n",
              "        buttonEl.style.display =\n",
              "          google.colab.kernel.accessAllowed ? 'block' : 'none';\n",
              "\n",
              "        async function convertToInteractive(key) {\n",
              "          const element = document.querySelector('#df-45c82e2b-9db2-4e50-a25a-d2b0662ba863');\n",
              "          const dataTable =\n",
              "            await google.colab.kernel.invokeFunction('convertToInteractive',\n",
              "                                                     [key], {});\n",
              "          if (!dataTable) return;\n",
              "\n",
              "          const docLinkHtml = 'Like what you see? Visit the ' +\n",
              "            '<a target=\"_blank\" href=https://colab.research.google.com/notebooks/data_table.ipynb>data table notebook</a>'\n",
              "            + ' to learn more about interactive tables.';\n",
              "          element.innerHTML = '';\n",
              "          dataTable['output_type'] = 'display_data';\n",
              "          await google.colab.output.renderOutput(dataTable, element);\n",
              "          const docLink = document.createElement('div');\n",
              "          docLink.innerHTML = docLinkHtml;\n",
              "          element.appendChild(docLink);\n",
              "        }\n",
              "      </script>\n",
              "    </div>\n",
              "  </div>\n",
              "  "
            ]
          },
          "metadata": {},
          "execution_count": 20
        }
      ]
    },
    {
      "cell_type": "code",
      "source": [
        "#excluir nome do curso\n",
        "df2 = df_aux.drop(labels = 'nome_do_curso', axis = 1)"
      ],
      "metadata": {
        "id": "18QGDkPFy4f8"
      },
      "execution_count": 21,
      "outputs": []
    },
    {
      "cell_type": "code",
      "source": [
        "df2.head(2)"
      ],
      "metadata": {
        "colab": {
          "base_uri": "https://localhost:8080/",
          "height": 112
        },
        "id": "7XA0_TWuz3Ne",
        "outputId": "22803faf-a3f9-415e-e3f7-6b8aa560ba09"
      },
      "execution_count": 22,
      "outputs": [
        {
          "output_type": "execute_result",
          "data": {
            "text/plain": [
              "   nota_integral_ampla  nota_integral_cotas  nota_parcial_ampla  \\\n",
              "0               739.62               738.08              738.96   \n",
              "1               758.32               723.94              734.92   \n",
              "\n",
              "   nota_parcial_cotas  \n",
              "0              718.64  \n",
              "1              711.26  "
            ],
            "text/html": [
              "\n",
              "  <div id=\"df-09b75dd0-cbb0-4b34-a0c3-2adc43b6e63a\">\n",
              "    <div class=\"colab-df-container\">\n",
              "      <div>\n",
              "<style scoped>\n",
              "    .dataframe tbody tr th:only-of-type {\n",
              "        vertical-align: middle;\n",
              "    }\n",
              "\n",
              "    .dataframe tbody tr th {\n",
              "        vertical-align: top;\n",
              "    }\n",
              "\n",
              "    .dataframe thead th {\n",
              "        text-align: right;\n",
              "    }\n",
              "</style>\n",
              "<table border=\"1\" class=\"dataframe\">\n",
              "  <thead>\n",
              "    <tr style=\"text-align: right;\">\n",
              "      <th></th>\n",
              "      <th>nota_integral_ampla</th>\n",
              "      <th>nota_integral_cotas</th>\n",
              "      <th>nota_parcial_ampla</th>\n",
              "      <th>nota_parcial_cotas</th>\n",
              "    </tr>\n",
              "  </thead>\n",
              "  <tbody>\n",
              "    <tr>\n",
              "      <th>0</th>\n",
              "      <td>739.62</td>\n",
              "      <td>738.08</td>\n",
              "      <td>738.96</td>\n",
              "      <td>718.64</td>\n",
              "    </tr>\n",
              "    <tr>\n",
              "      <th>1</th>\n",
              "      <td>758.32</td>\n",
              "      <td>723.94</td>\n",
              "      <td>734.92</td>\n",
              "      <td>711.26</td>\n",
              "    </tr>\n",
              "  </tbody>\n",
              "</table>\n",
              "</div>\n",
              "      <button class=\"colab-df-convert\" onclick=\"convertToInteractive('df-09b75dd0-cbb0-4b34-a0c3-2adc43b6e63a')\"\n",
              "              title=\"Convert this dataframe to an interactive table.\"\n",
              "              style=\"display:none;\">\n",
              "        \n",
              "  <svg xmlns=\"http://www.w3.org/2000/svg\" height=\"24px\"viewBox=\"0 0 24 24\"\n",
              "       width=\"24px\">\n",
              "    <path d=\"M0 0h24v24H0V0z\" fill=\"none\"/>\n",
              "    <path d=\"M18.56 5.44l.94 2.06.94-2.06 2.06-.94-2.06-.94-.94-2.06-.94 2.06-2.06.94zm-11 1L8.5 8.5l.94-2.06 2.06-.94-2.06-.94L8.5 2.5l-.94 2.06-2.06.94zm10 10l.94 2.06.94-2.06 2.06-.94-2.06-.94-.94-2.06-.94 2.06-2.06.94z\"/><path d=\"M17.41 7.96l-1.37-1.37c-.4-.4-.92-.59-1.43-.59-.52 0-1.04.2-1.43.59L10.3 9.45l-7.72 7.72c-.78.78-.78 2.05 0 2.83L4 21.41c.39.39.9.59 1.41.59.51 0 1.02-.2 1.41-.59l7.78-7.78 2.81-2.81c.8-.78.8-2.07 0-2.86zM5.41 20L4 18.59l7.72-7.72 1.47 1.35L5.41 20z\"/>\n",
              "  </svg>\n",
              "      </button>\n",
              "      \n",
              "  <style>\n",
              "    .colab-df-container {\n",
              "      display:flex;\n",
              "      flex-wrap:wrap;\n",
              "      gap: 12px;\n",
              "    }\n",
              "\n",
              "    .colab-df-convert {\n",
              "      background-color: #E8F0FE;\n",
              "      border: none;\n",
              "      border-radius: 50%;\n",
              "      cursor: pointer;\n",
              "      display: none;\n",
              "      fill: #1967D2;\n",
              "      height: 32px;\n",
              "      padding: 0 0 0 0;\n",
              "      width: 32px;\n",
              "    }\n",
              "\n",
              "    .colab-df-convert:hover {\n",
              "      background-color: #E2EBFA;\n",
              "      box-shadow: 0px 1px 2px rgba(60, 64, 67, 0.3), 0px 1px 3px 1px rgba(60, 64, 67, 0.15);\n",
              "      fill: #174EA6;\n",
              "    }\n",
              "\n",
              "    [theme=dark] .colab-df-convert {\n",
              "      background-color: #3B4455;\n",
              "      fill: #D2E3FC;\n",
              "    }\n",
              "\n",
              "    [theme=dark] .colab-df-convert:hover {\n",
              "      background-color: #434B5C;\n",
              "      box-shadow: 0px 1px 3px 1px rgba(0, 0, 0, 0.15);\n",
              "      filter: drop-shadow(0px 1px 2px rgba(0, 0, 0, 0.3));\n",
              "      fill: #FFFFFF;\n",
              "    }\n",
              "  </style>\n",
              "\n",
              "      <script>\n",
              "        const buttonEl =\n",
              "          document.querySelector('#df-09b75dd0-cbb0-4b34-a0c3-2adc43b6e63a button.colab-df-convert');\n",
              "        buttonEl.style.display =\n",
              "          google.colab.kernel.accessAllowed ? 'block' : 'none';\n",
              "\n",
              "        async function convertToInteractive(key) {\n",
              "          const element = document.querySelector('#df-09b75dd0-cbb0-4b34-a0c3-2adc43b6e63a');\n",
              "          const dataTable =\n",
              "            await google.colab.kernel.invokeFunction('convertToInteractive',\n",
              "                                                     [key], {});\n",
              "          if (!dataTable) return;\n",
              "\n",
              "          const docLinkHtml = 'Like what you see? Visit the ' +\n",
              "            '<a target=\"_blank\" href=https://colab.research.google.com/notebooks/data_table.ipynb>data table notebook</a>'\n",
              "            + ' to learn more about interactive tables.';\n",
              "          element.innerHTML = '';\n",
              "          dataTable['output_type'] = 'display_data';\n",
              "          await google.colab.output.renderOutput(dataTable, element);\n",
              "          const docLink = document.createElement('div');\n",
              "          docLink.innerHTML = docLinkHtml;\n",
              "          element.appendChild(docLink);\n",
              "        }\n",
              "      </script>\n",
              "    </div>\n",
              "  </div>\n",
              "  "
            ]
          },
          "metadata": {},
          "execution_count": 22
        }
      ]
    },
    {
      "cell_type": "code",
      "source": [
        "#escalonamento\n",
        "from sklearn.preprocessing import StandardScaler"
      ],
      "metadata": {
        "id": "MWzwFH1x0BPm"
      },
      "execution_count": 23,
      "outputs": []
    },
    {
      "cell_type": "code",
      "source": [
        "escala = StandardScaler()\n",
        "df2_esc = escala.fit_transform(df2)"
      ],
      "metadata": {
        "id": "bEobcAer0LdC"
      },
      "execution_count": 24,
      "outputs": []
    },
    {
      "cell_type": "code",
      "source": [
        "df2_esc"
      ],
      "metadata": {
        "colab": {
          "base_uri": "https://localhost:8080/"
        },
        "id": "R94utRSu0OOi",
        "outputId": "83c582de-3f4b-445b-8e10-9915473fd7b1"
      },
      "execution_count": 25,
      "outputs": [
        {
          "output_type": "execute_result",
          "data": {
            "text/plain": [
              "array([[ 2.63697298,  2.73967981,  3.25085185,  3.49879504],\n",
              "       [ 2.98859543,  2.50344014,  3.18232816,  3.36784775],\n",
              "       [ 2.66404979,  2.58831267,  3.11550061,  3.57296301],\n",
              "       ...,\n",
              "       [-1.91042663, -1.12469332, -0.65839058, -1.23624466],\n",
              "       [-2.68361995, -2.07332759, -1.65028791, -1.26782816],\n",
              "       [-1.24177988, -2.07332759, -1.65028791, -1.26782816]])"
            ]
          },
          "metadata": {},
          "execution_count": 25
        }
      ]
    },
    {
      "cell_type": "markdown",
      "source": [
        "K Means com PCA"
      ],
      "metadata": {
        "id": "RYZXsmta0Vdl"
      }
    },
    {
      "cell_type": "code",
      "source": [
        "df2_esc"
      ],
      "metadata": {
        "colab": {
          "base_uri": "https://localhost:8080/"
        },
        "id": "ixJSPMxR0URe",
        "outputId": "fdb403ab-b1c1-4459-f744-73db180b2354"
      },
      "execution_count": 26,
      "outputs": [
        {
          "output_type": "execute_result",
          "data": {
            "text/plain": [
              "array([[ 2.63697298,  2.73967981,  3.25085185,  3.49879504],\n",
              "       [ 2.98859543,  2.50344014,  3.18232816,  3.36784775],\n",
              "       [ 2.66404979,  2.58831267,  3.11550061,  3.57296301],\n",
              "       ...,\n",
              "       [-1.91042663, -1.12469332, -0.65839058, -1.23624466],\n",
              "       [-2.68361995, -2.07332759, -1.65028791, -1.26782816],\n",
              "       [-1.24177988, -2.07332759, -1.65028791, -1.26782816]])"
            ]
          },
          "metadata": {},
          "execution_count": 26
        }
      ]
    },
    {
      "cell_type": "code",
      "source": [
        "df2_esc.shape"
      ],
      "metadata": {
        "colab": {
          "base_uri": "https://localhost:8080/"
        },
        "id": "MQ847L_A0hl-",
        "outputId": "046df672-9a81-4dde-b95f-360e0cab67bc"
      },
      "execution_count": 27,
      "outputs": [
        {
          "output_type": "execute_result",
          "data": {
            "text/plain": [
              "(2203, 4)"
            ]
          },
          "metadata": {},
          "execution_count": 27
        }
      ]
    },
    {
      "cell_type": "code",
      "source": [
        "#componentes principais\n",
        "from sklearn.decomposition import PCA"
      ],
      "metadata": {
        "id": "bawTjvAe0kqE"
      },
      "execution_count": 28,
      "outputs": []
    },
    {
      "cell_type": "code",
      "source": [
        "pca = PCA(n_components = 2)"
      ],
      "metadata": {
        "id": "0g8Kyewn0rHO"
      },
      "execution_count": 29,
      "outputs": []
    },
    {
      "cell_type": "code",
      "source": [
        "df2_pca = pca.fit_transform(df2_esc)"
      ],
      "metadata": {
        "id": "JQ3BJb9a0uBi"
      },
      "execution_count": 30,
      "outputs": []
    },
    {
      "cell_type": "code",
      "source": [
        "df2_pca"
      ],
      "metadata": {
        "colab": {
          "base_uri": "https://localhost:8080/"
        },
        "id": "Det0CQmj0xo-",
        "outputId": "500ee44a-1cc8-4104-a067-375a169a9b5e"
      },
      "execution_count": 31,
      "outputs": [
        {
          "output_type": "execute_result",
          "data": {
            "text/plain": [
              "array([[ 6.0642945 , -0.66716556],\n",
              "       [ 6.02300941, -0.53037405],\n",
              "       [ 5.97211217, -0.7011158 ],\n",
              "       ...,\n",
              "       [-2.4658188 , -0.5579454 ],\n",
              "       [-3.83675733, -0.89844091],\n",
              "       [-3.11441902, -0.22451096]])"
            ]
          },
          "metadata": {},
          "execution_count": 31
        }
      ]
    },
    {
      "cell_type": "code",
      "source": [
        "# razão das variáveis explicativas\n",
        "pca.explained_variance_ratio_"
      ],
      "metadata": {
        "colab": {
          "base_uri": "https://localhost:8080/"
        },
        "id": "xt8ECzBP030G",
        "outputId": "b8a47438-a1dd-47b2-c13a-67d7f70aa499"
      },
      "execution_count": 32,
      "outputs": [
        {
          "output_type": "execute_result",
          "data": {
            "text/plain": [
              "array([0.8102535 , 0.09414325])"
            ]
          },
          "metadata": {},
          "execution_count": 32
        }
      ]
    },
    {
      "cell_type": "code",
      "source": [
        "# Soma das variáveis explicativas\n",
        "pca.explained_variance_ratio_.sum()"
      ],
      "metadata": {
        "colab": {
          "base_uri": "https://localhost:8080/"
        },
        "id": "C68S_D9308im",
        "outputId": "70cd561a-4e39-41d6-c23e-9b6a93f7da2b"
      },
      "execution_count": 33,
      "outputs": [
        {
          "output_type": "execute_result",
          "data": {
            "text/plain": [
              "0.9043967496213998"
            ]
          },
          "metadata": {},
          "execution_count": 33
        }
      ]
    },
    {
      "cell_type": "code",
      "source": [
        "#elbow method\n",
        "from sklearn.cluster import KMeans\n",
        "wcss = []\n",
        "for i in range(1, 11):\n",
        "    kmeans = KMeans(n_clusters = i, init = 'k-means++', random_state = 5, max_iter = 300)\n",
        "    kmeans.fit(df2_pca)\n",
        "# Método inertia para gerar o wcss\n",
        "    wcss.append(kmeans.inertia_)"
      ],
      "metadata": {
        "id": "yKDxwitw1EHS"
      },
      "execution_count": 34,
      "outputs": []
    },
    {
      "cell_type": "code",
      "source": [
        "import matplotlib.pyplot as plt\n",
        "import seaborn as sns"
      ],
      "metadata": {
        "id": "Hd-ZfDi71Me-"
      },
      "execution_count": 35,
      "outputs": []
    },
    {
      "cell_type": "code",
      "source": [
        "plt.figure(figsize=(10,5))\n",
        "sns.lineplot(range(1, 11), wcss,marker='o',color='red')\n",
        "plt.title('The Elbow Method')\n",
        "plt.xlabel('Número de clusters')\n",
        "plt.ylabel('WCSS');"
      ],
      "metadata": {
        "colab": {
          "base_uri": "https://localhost:8080/",
          "height": 350
        },
        "id": "m7dF1Y371S-k",
        "outputId": "64c7d7d7-08fe-407a-8f4f-75cb155e4dbd"
      },
      "execution_count": 36,
      "outputs": [
        {
          "output_type": "display_data",
          "data": {
            "text/plain": [
              "<Figure size 720x360 with 1 Axes>"
            ],
            "image/png": "[encoded data removed]"
          },
          "metadata": {
            "needs_background": "light"
          }
        }
      ]
    },
    {
      "cell_type": "markdown",
      "source": [
        "Agrupamento"
      ],
      "metadata": {
        "id": "0sJ6svAY1bup"
      }
    },
    {
      "cell_type": "code",
      "source": [
        "kmeans = KMeans(n_clusters = 4, init = 'k-means++', random_state = 5, max_iter = 300)"
      ],
      "metadata": {
        "id": "Wr8yO_4N1c45"
      },
      "execution_count": 37,
      "outputs": []
    },
    {
      "cell_type": "code",
      "source": [
        "kmeans_fit = kmeans.fit(df2_pca)"
      ],
      "metadata": {
        "id": "Z3WPv8L01i8U"
      },
      "execution_count": 38,
      "outputs": []
    },
    {
      "cell_type": "code",
      "source": [
        "#coordenadas dos centróides\n",
        "centroides = kmeans_fit.cluster_centers_\n",
        "centroides"
      ],
      "metadata": {
        "colab": {
          "base_uri": "https://localhost:8080/"
        },
        "id": "6zS6vhWJ1mG_",
        "outputId": "2a791883-f276-4d04-8dbb-ec5df26fd9e3"
      },
      "execution_count": 39,
      "outputs": [
        {
          "output_type": "execute_result",
          "data": {
            "text/plain": [
              "array([[ 2.18629771, -0.05448534],\n",
              "       [-2.93673239, -0.38893765],\n",
              "       [ 0.45506005, -0.08585784],\n",
              "       [-1.25822545,  0.4280256 ]])"
            ]
          },
          "metadata": {},
          "execution_count": 39
        }
      ]
    },
    {
      "cell_type": "code",
      "source": [
        "#classificação dos dados\n",
        "classificacao = kmeans_fit.labels_\n",
        "classificacao"
      ],
      "metadata": {
        "colab": {
          "base_uri": "https://localhost:8080/"
        },
        "id": "cMQm6zli1qU9",
        "outputId": "7f76b358-faf2-40ea-bc22-b674a473b44c"
      },
      "execution_count": 40,
      "outputs": [
        {
          "output_type": "execute_result",
          "data": {
            "text/plain": [
              "array([0, 0, 0, ..., 1, 1, 1], dtype=int32)"
            ]
          },
          "metadata": {},
          "execution_count": 40
        }
      ]
    },
    {
      "cell_type": "code",
      "source": [
        "classificacao[2]"
      ],
      "metadata": {
        "colab": {
          "base_uri": "https://localhost:8080/"
        },
        "id": "qH989THX1xU1",
        "outputId": "92d61919-c860-4dde-af89-cef6e7d321e0"
      },
      "execution_count": 41,
      "outputs": [
        {
          "output_type": "execute_result",
          "data": {
            "text/plain": [
              "0"
            ]
          },
          "metadata": {},
          "execution_count": 41
        }
      ]
    },
    {
      "cell_type": "code",
      "source": [
        "import plotly.express as px\n",
        "import plotly.graph_objects as go"
      ],
      "metadata": {
        "id": "dEYAIEgM10SK"
      },
      "execution_count": 42,
      "outputs": []
    },
    {
      "cell_type": "code",
      "source": [
        "graf1 = px.scatter(x = df2_pca[:,0], y = df2_pca[:,1], color=classificacao)\n",
        "graf2 = px.scatter(x = centroides[:,0], y = centroides[:,1], size = [15, 15, 15, 15])\n",
        "graf3 = go.Figure(data = graf1.data + graf2.data)\n",
        "graf3.update_layout(width=800,height=500,title_text='Agrupamento K-Means com PCA')\n",
        "graf3.update_xaxes(title = 'Componente 1')\n",
        "graf3.update_yaxes(title = 'Componente 2')\n",
        "graf3.show()"
      ],
      "metadata": {
        "colab": {
          "base_uri": "https://localhost:8080/",
          "height": 517
        },
        "id": "pygaFuor14r6",
        "outputId": "45cfd9c4-acc2-4851-d819-18e6806e8ecd"
      },
      "execution_count": 43,
      "outputs": [
        {
          "output_type": "display_data",
          "data": {
            "text/html": [
              "<html>\n",
              "<head><meta charset=\"utf-8\" /></head>\n",
              "<body>\n",
              "    <div>            <script src=\"https://cdnjs.cloudflare.com/ajax/libs/mathjax/2.7.5/MathJax.js?config=TeX-AMS-MML_SVG\"></script><script type=\"text/javascript\">if (window.MathJax) {MathJax.Hub.Config({SVG: {font: \"STIX-Web\"}});}</script>                <script type=\"text/javascript\">window.PlotlyConfig = {MathJaxConfig: 'local'};</script>\n",
              "        <script src=\"https://cdn.plot.ly/plotly-2.8.3.min.js\"></script>                <div id=\"38183007-3660-4e83-bca7-9a39c45013a2\" class=\"plotly-graph-div\" style=\"height:500px; width:800px;\"></div>            <script type=\"text/javascript\">                                    window.PLOTLYENV=window.PLOTLYENV || {};                                    if (document.getElementById(\"38183007-3660-4e83-bca7-9a39c45013a2\")) {                    Plotly.newPlot(                        \"38183007-3660-4e83-bca7-9a39c45013a2\",                        [{\"hovertemplate\":\"x=%{x}<br>y=%{y}<br>color=%{marker.color}<extra></extra>\",\"legendgroup\":\"\",\"marker\":{\"color\":[0,0,0,0,0,0,0,0,0,0,0,0,0,0,0,0,0,0,0,0,0,2,0,0,0,0,0,2,0,0,0,0,0,0,0,0,0,0,2,0,0,0,2,0,0,0,0,0,0,0,0,2,2,2,2,2,0,0,0,0,0,0,0,0,0,0,0,0,0,2,2,2,0,3,0,0,2,0,0,3,3,3,0,0,0,2,0,2,0,2,0,2,2,0,0,0,0,0,3,0,3,0,0,2,3,3,0,3,2,0,0,3,3,0,0,0,0,0,0,2,2,2,2,3,2,2,2,2,0,2,3,0,0,0,2,2,0,2,0,0,0,2,0,3,3,0,0,2,2,2,2,0,0,0,0,0,2,2,3,2,0,0,3,0,0,0,0,2,0,2,0,2,2,0,0,0,2,2,2,3,0,0,0,2,0,3,2,2,2,2,2,0,2,2,0,2,3,2,2,0,0,2,2,2,0,0,2,2,0,3,2,2,2,2,0,0,0,0,0,0,0,0,0,0,0,2,3,2,2,0,3,0,2,0,0,0,2,0,2,2,0,2,2,2,0,0,2,0,0,0,0,0,2,0,0,3,3,3,2,3,3,0,0,2,2,0,0,0,0,3,3,3,2,0,0,2,0,0,2,0,0,2,2,2,2,2,2,3,2,2,0,0,2,2,0,0,0,0,0,0,0,2,0,3,0,0,0,3,2,0,0,0,0,0,2,3,2,2,0,0,0,2,2,0,2,0,2,2,0,0,3,3,2,2,0,0,2,0,0,2,2,0,0,0,0,2,2,0,2,0,0,0,0,0,2,2,2,2,3,2,0,0,2,3,2,3,0,0,0,2,0,0,3,0,0,0,0,2,0,0,2,0,0,0,0,2,2,0,0,0,3,2,3,0,2,2,0,0,0,3,3,0,2,0,0,0,0,2,0,0,0,3,2,2,3,0,0,3,3,2,2,2,2,2,3,2,2,2,0,2,2,0,0,2,2,2,2,2,2,3,2,0,0,0,0,2,2,2,3,2,2,0,0,2,2,2,2,3,2,0,0,3,0,3,2,2,2,0,0,2,2,0,0,0,3,0,2,0,0,0,2,2,0,0,0,2,2,2,0,2,2,2,0,0,2,2,3,2,1,1,1,1,1,1,1,1,1,0,2,2,2,0,2,3,3,3,3,2,0,0,0,2,2,0,3,0,3,3,2,0,2,0,0,0,2,0,0,0,2,2,2,3,3,0,2,2,0,0,0,0,0,0,0,0,0,0,0,0,0,2,0,0,0,0,0,0,0,2,2,2,2,2,3,3,3,2,0,0,2,3,2,0,0,0,0,0,0,0,0,2,2,2,2,2,0,0,0,2,2,3,3,3,3,2,0,1,2,2,0,2,2,2,2,0,2,2,2,0,0,0,0,3,3,1,3,3,0,2,0,2,3,2,2,3,3,2,0,0,0,0,0,0,0,2,2,0,1,1,1,1,1,1,3,2,3,3,3,0,2,0,0,2,2,0,0,3,0,2,0,0,2,0,2,2,0,2,2,3,3,3,2,2,0,3,3,1,3,3,0,3,3,0,2,0,3,0,0,0,0,0,3,2,2,2,2,2,2,2,2,0,2,0,0,0,2,3,3,3,2,0,2,0,0,2,0,0,0,0,2,0,2,0,2,2,0,0,2,0,0,3,1,3,0,3,0,0,0,2,0,0,3,3,0,2,3,0,0,0,0,0,0,0,2,2,2,2,2,2,0,2,2,0,2,2,2,3,3,2,2,2,2,2,3,2,0,0,1,1,2,0,0,0,2,2,1,0,2,2,2,3,1,0,2,2,0,3,3,3,0,2,2,2,2,2,0,0,3,3,0,3,2,2,0,0,3,2,0,3,0,2,2,0,0,2,2,0,2,0,2,3,0,2,2,2,2,2,3,0,2,0,2,2,0,0,0,0,0,0,0,0,3,3,3,3,3,2,3,2,0,0,0,2,0,1,1,3,2,2,1,2,2,2,2,2,0,2,0,0,0,2,2,0,0,0,2,3,3,3,2,2,2,2,2,2,1,2,2,3,2,0,2,2,2,0,2,0,2,2,2,2,2,2,2,2,0,0,0,2,3,2,2,2,0,3,2,2,3,2,2,2,2,2,3,2,0,0,0,0,2,2,2,2,0,2,2,2,2,0,3,3,3,2,3,0,2,3,2,3,2,0,0,2,3,3,3,3,3,3,3,3,2,1,0,2,2,2,2,0,0,0,2,2,2,3,2,2,0,2,1,1,0,2,3,2,2,2,2,0,2,3,3,2,2,2,3,1,3,0,2,2,2,2,2,2,2,2,2,2,2,3,0,2,2,2,0,3,3,2,3,3,2,2,2,2,3,0,2,2,3,0,3,1,3,3,3,2,2,0,3,0,2,2,1,2,0,2,0,2,0,2,3,0,0,2,2,2,2,1,1,2,1,0,0,2,1,0,0,0,0,3,0,2,2,2,2,3,2,2,2,2,2,2,2,3,2,2,3,3,1,3,2,2,3,2,2,2,0,2,2,0,0,2,2,1,3,3,0,3,0,2,3,3,3,3,3,2,0,2,2,2,2,2,2,0,0,0,0,2,2,2,2,0,0,2,3,3,3,3,2,2,2,2,2,2,2,2,2,3,2,2,3,0,2,0,2,1,3,3,3,3,3,3,2,2,0,2,0,2,2,2,2,0,2,0,3,3,2,2,3,2,0,2,2,2,2,2,0,2,3,0,2,2,3,2,3,3,2,2,3,2,2,0,2,0,2,2,2,2,2,2,3,2,2,0,0,2,2,2,2,3,3,3,2,2,2,0,0,2,3,3,2,2,3,3,3,2,2,2,1,2,0,2,2,0,2,3,1,0,2,2,2,2,1,1,2,3,3,2,2,3,2,2,3,2,3,0,3,2,2,3,2,2,2,2,3,2,2,2,1,0,2,3,2,2,2,3,3,2,1,3,3,3,2,2,3,2,2,2,0,2,2,2,2,3,2,2,0,2,0,2,2,2,2,3,1,2,2,0,2,2,0,2,2,3,2,0,3,2,0,3,3,3,3,3,2,2,2,2,2,0,2,2,2,2,0,2,0,0,3,2,3,3,3,2,2,3,2,3,0,2,2,2,2,2,2,3,3,2,2,2,2,2,2,1,3,3,0,2,2,0,2,2,2,0,3,2,2,2,2,0,0,0,3,2,2,2,2,2,2,3,3,3,2,2,3,2,0,2,2,2,2,1,0,1,3,2,3,2,2,0,2,3,2,2,2,2,2,2,2,0,2,3,3,2,2,3,2,2,3,2,2,2,2,2,2,2,2,3,2,2,2,2,2,2,2,2,2,2,2,2,2,3,1,0,0,3,3,3,3,3,1,2,2,2,2,2,2,0,2,2,2,2,2,3,3,2,2,2,1,1,1,2,0,2,2,2,2,2,3,2,2,2,3,1,3,2,2,2,2,2,2,3,3,3,2,3,2,2,2,3,3,1,3,3,3,3,2,3,2,2,2,2,2,3,2,2,0,3,2,2,2,3,2,0,2,2,2,3,3,2,2,3,3,3,0,3,2,3,3,3,3,2,3,2,3,1,0,3,3,0,1,2,0,3,3,2,2,2,2,2,3,2,3,2,3,2,3,2,0,3,2,2,2,2,2,2,1,2,3,2,2,3,2,3,1,3,2,2,3,2,2,2,2,3,3,3,2,2,2,2,2,3,3,2,2,3,3,3,3,3,2,3,3,3,3,2,2,2,2,3,3,2,3,3,2,0,3,2,2,3,3,3,3,3,3,3,1,3,1,1,3,1,2,0,2,1,3,3,2,3,2,2,1,1,3,2,2,1,1,3,3,3,1,1,1,1,1,1,1,1,3,1,1,3,1,1,1,1,1,1,1,1,3,1,1,1,1,1,1,2,2,2,2,3,3,2,2,3,2,1,2,2,2,3,3,3,3,3,2,2,2,3,1,2,3,2,2,3,3,2,2,2,1,1,1,3,3,3,3,3,3,2,2,3,3,3,1,2,2,3,3,2,3,3,1,3,2,2,2,3,1,1,3,2,2,2,3,1,1,3,1,1,2,2,2,3,1,1,3,3,2,3,2,3,3,2,3,1,3,3,3,3,1,3,3,1,1,1,1,1,1,1,1,1,1,1,1,1,1,1,3,1,1,3,1,2,1,3,3,1,3,1,3,1,1,1,1,1,1,1,1,1,1,3,1,1,1,1,2,1,1,1,1,3,2,3,1,3,3,2,3,3,3,3,1,1,1,1,3,1,1,1,3,3,3,1,3,1,1,1,2,3,2,1,3,1,1,1,2,3,1,1,1,3,1,1,3,2,2,2,3,3,2,2,2,3,3,3,3,3,1,1,1,3,3,3,3,3,3,3,2,3,3,1,1,1,3,3,3,3,3,1,1,1,1,1,1,1,2,2,1,2,3,2,2,2,3,3,3,3,2,3,2,1,2,1,1,1,1,1,1,3,3,1,1,1,1,1,2,3,2,3,3,1,1,1,1,1,1,3,3,1,3,2,1,3,1,1,3,3,1,3,1,2,3,1,3,3,3,2,3,3,1,3,1,1,3,1,3,3,3,2,2,2,3,2,2,2,3,1,2,2,3,1,1,1,1,1,1,1,1,3,1,1,1,3,1,3,1,1,1,1,3,1,1,3,1,1,1,1,1,1,1,1,3,0,3,1,1,3,3,1,1,3,3,3,1,3,3,1,1,2,1,3,1,3,1,1,3,1,1,1,3,3,3,1,1,1,1,3,2,0,3,2,1,2,1,1,3,1,1,1,1,2,1,3,2,3,2,2,2,1,1,1,3,3,1,3,1,1,1,1,2,1,2,3,3,3,2,1,2,3,2,2,1,3,3,1,1,3,1,1,1,1,3,2,3,1,1,1,1,3,3,1,1,3,1,1,1,3,3,1,2,1,3,1,3,1,3,2,0,3,1,1,2,3,1,1,1,1,1,1,1],\"coloraxis\":\"coloraxis\",\"symbol\":\"circle\"},\"mode\":\"markers\",\"name\":\"\",\"showlegend\":false,\"x\":[6.064294502224029,6.0230094065997175,5.97211216996785,6.2495187664199845,6.281384342603284,6.21418015637518,5.954237067472459,7.025573827428164,5.9680603427943835,6.334625623314134,6.0960945567055465,6.925787466957711,5.804617868100067,6.648260164476714,7.132406943342127,1.7601539393949879,2.1867796663021313,3.2503221757232916,2.3036984868652803,3.6049972062124174,3.077588558134177,1.084676857430595,1.4184570419919225,1.7350913676918944,2.0827864252017316,1.932830802612423,2.583203285957577,1.1086569531803367,2.1404404497717406,2.129163641254611,1.3932368557593837,3.5259410701276384,1.6019979565196847,3.632933848676883,3.3336204973577934,2.2726773107398404,3.442335547154848,3.7483654973432565,1.0258081123125653,3.6455225503017847,2.3197572352053517,2.855622637404528,1.072043234844061,2.5712153169137943,1.9492711443836632,2.3369738599368794,3.6555386342378604,2.8295594017226655,2.2100315765527707,1.829195065087361,2.8491356933189214,0.2855835823309593,-0.09099160597220098,0.743288027993552,-0.022858362482133496,0.3170221222055149,3.197620382733143,2.370745300435946,2.373484546129098,1.8752163402645832,1.2953588309474302,2.6184074172208787,3.3005105700874253,2.8040310207916987,4.164496239502961,2.171206586005346,1.5716222080877824,2.9428277073295654,4.08652766985379,0.5503860730365784,-0.015608636068409194,0.8723239695981397,2.8298968479180036,-1.1716612387860394,4.219297932122814,4.494356251151815,-0.12580808286562678,2.280268694612264,2.1779647929897914,-0.03802079702612106,-1.1500216249009259,-0.4027863547152595,2.0673892076567584,1.3479163794524143,1.5424259781537788,0.9545344109240994,2.2541806012993986,0.7868882987711465,2.9162435049257347,1.1862503157909803,1.765082705759863,-0.19073260084728044,0.810398050953311,2.5467590390514165,2.8506568991328582,3.673547471321013,3.083673817684811,2.3243637187720187,-1.3832415296848084,3.182383227835018,-0.2898330754314702,1.9870191619331437,2.5153447928794797,0.0922871267473671,-0.7934897093287009,-0.5584674075632001,1.431245797684937,-0.06919071407929149,1.232814548499863,1.6933755615564179,2.350473745554516,-0.4642141272979354,-1.661975783497184,4.033213899202095,3.2681448568385827,4.425985337060763,4.213817402533939,3.1717160765391865,2.8603831738346983,1.1920940826386235,1.0881173689219656,0.7930798136800892,1.2418128281306424,-1.3546118403677467,1.2303948379816618,0.07608638517340667,0.8345531788872456,1.0463071375792636,1.617263558346045,0.640232471608522,0.36831063341417686,1.9922412136625713,1.9858319333739078,2.819442957251393,0.7246064600846879,0.2290028350077864,1.3223493945438478,0.9689588147999878,3.184863958366203,2.7376395407468075,3.0679668831989964,0.2809202669383835,1.8797270306529843,-0.16026210493258278,-0.7755539758419756,2.576838524809797,3.641317303924719,1.133421181238625,1.188526642316746,1.139860001328414,1.3031114148570015,2.555953586774566,2.596574563644993,2.6476818329109224,2.3338006525093777,2.18466986520656,0.23082404972142398,-0.05256301483786827,-1.277039190089397,0.49091330257936483,2.20408304071755,1.6189480475425917,-1.9103402205364695,1.4844935056843331,1.7628668356416384,1.84044664991799,3.0593839600001886,1.188396190033845,2.2370952915270665,1.1163651133417116,2.0934936257093666,0.6040541335474916,0.03390728820118405,2.4297732760277406,1.5712268999785681,2.965841984724883,0.20756109386465765,0.3076612050228866,0.4382254109402387,-0.5467536863778993,1.8106132956943968,2.028404366873668,1.7357482546969065,-0.4835228284456869,1.4924149295588536,0.17056628646618419,0.6446692707056718,0.2905692538918389,0.3906438445503902,1.0718749092912996,0.6411530707936257,2.0361827307732163,1.2989873575686843,0.9202273100622027,2.433700031552904,0.8205980919130572,-0.6038842106033581,-0.27460364483097516,1.0270581505991752,1.8081133942587178,2.5008864484621087,0.4069366508886762,-0.3862984679117044,0.23888406525176226,1.6204347849741,1.3985913208922964,-0.17503949529080132,1.1593687257136154,1.6626319826092109,-0.37149842170858205,0.18713316118390314,0.814517922010382,0.48492946183710944,-0.029969179572016454,1.6793372187979174,2.0642025557110526,2.731366974492408,1.7426277077535473,2.0620960916150524,2.0482090080239805,2.5882376739172113,2.034348145316281,1.417707811721797,2.643392921868468,2.350768806474111,-0.32135030106498724,-0.24167697936085455,0.3812160346738541,0.5609255811658267,2.113624993018458,-0.5544029837545301,1.8470513505686383,0.7899766480702708,3.5543642716633226,1.5048565279403638,3.629531350592312,-0.13016093784047977,1.6178206884252802,-0.23907177615065825,0.906378612270603,1.9498554530367032,1.2823782758832192,-0.40386555658197415,0.6343221584739999,1.5158591737282876,3.079232819934351,0.3951638354579657,1.4795206008717035,1.671358776419621,2.9079010173937028,2.843034039002538,2.6819139592577437,-0.09099714954138897,1.378465193445671,1.3803450351163309,-0.46415193401118715,-0.5839016465993709,-0.187063611989241,0.058689919317394666,-0.8197285409698466,-1.2707912656781797,1.519643859868144,1.411462238519725,0.9504260174083151,1.0967780143538362,1.3172061839013762,2.1918776648716034,1.9258274456485782,2.0378600115627687,-1.3594565850467737,-0.6914562129875638,-0.3136554114280362,0.3184270138904663,2.1406193180587767,2.04405731881445,0.643315096951049,1.4222627336467242,1.900949551116597,0.9527113994073123,2.042513655403189,1.6354176529937818,0.9639999802724702,0.37769140408076574,-0.024162210165862556,0.9882214821039164,1.0065994537264424,1.0522798715374913,-1.279508588852716,1.0352958444226705,0.8302918727908937,2.009980792787342,2.1356994150316364,0.6425957194586495,0.636650480561233,1.9290889536205367,1.6021553096137722,2.777164519559155,3.5474649245542196,2.7395218024238934,2.3018205845362316,3.2575380319476115,0.6435464492911871,1.6702445628363043,-1.7833490687866105,1.7820059227122007,1.9311708727994115,1.8097620705257367,-0.9609353198934364,1.0212046629674465,1.6675423684167197,2.1717103039818837,1.878341733438281,1.9400485642064311,2.7139579784906123,1.1911997842314148,-1.8413820739773714,1.139615388889819,0.17072656616746046,1.3842811845895295,2.0870658496327623,1.8704560769672902,0.05036223964839491,1.1619340042152355,2.5104270571231777,1.2918037978596892,1.5675191817889769,0.5737714538900507,0.9434930354184575,1.7438116518224098,1.9254990555220115,-0.7211900456234847,-0.49429203212518963,1.2155243099433675,1.2671756946281538,2.5507625778837992,1.7111260069957281,0.3555369976135769,2.048877076739014,2.565158345130155,0.7246281487105773,0.07996285417948848,3.594155518418805,3.1718035525226433,1.7370668365056992,1.564762471776435,1.2447703512409727,0.35550205712690935,1.9510033466366736,1.0455391269531393,2.6279245851309336,2.3115057622696638,1.6121918924569816,2.7085830379484426,2.3554846220926984,0.3381130306588733,-0.13834448967740487,0.5311327358082988,0.6109573652857246,-0.18534188507616894,-0.2336692363182779,2.0542580110568864,1.8254907375636227,1.243865213199463,-0.9160952268913004,1.2969856998579854,-1.6654892897086098,1.50210170036958,1.765223347327563,2.472229056332852,0.600973775595167,2.5039488176985687,2.2124459359111186,-0.7705946012688669,1.3507024406285932,2.0954173012763846,1.62466502065749,1.4741308884801612,0.6088835157600653,1.6999129735745973,3.4778817365322636,0.7149383925882276,1.9443872718889283,1.7844309109265397,2.2773531254087045,2.5389253677631887,1.3034295219647458,0.5900088139491974,2.016279060001316,1.428600407297496,2.674039100565834,-0.7092064486033315,-0.1500755223347389,-0.7324900448559617,1.9815894425446063,0.8676335492515027,0.7736517516620846,2.177054707652161,2.314082576242244,1.735613823488361,-0.8865508265355522,-1.69153800261532,1.7428176611386619,0.5458400963007566,1.762907479019961,1.410991854755064,2.1309435303125364,1.7442085024883434,-0.12934199884870642,1.7065392635379777,1.4426183415913143,1.348109125791912,-0.3367443641780026,-0.4328903521409365,-0.10371127666946478,-0.7630539073300522,1.4671737186877503,2.6866227390843815,-0.7959405719792874,-0.2106819160752194,0.585182752385192,0.6512054931942503,0.45229863706680196,0.9994817195222923,1.297475596852426,-1.3923907561963396,1.3050812521483133,0.7893151690009652,-0.06359752868564418,1.8555540668155965,0.8895525658874899,0.6473863189468556,1.428736115552475,1.7961145892451649,0.22581034106412146,0.6709825671363594,0.024150277981789182,1.0865165094798492,0.42762359707500497,1.2527938471262496,-1.188756196998851,0.8576139329149484,1.5132796736092515,2.4891284151192816,1.9051661333127323,1.3957157566287945,0.34885136621862206,-0.21318165152913005,0.023313797947039902,-0.8411624249880807,0.6818567450613778,0.9880767455841627,2.8139039932488874,3.329007769789123,0.8430667477762843,0.6289345603855822,1.1063457366359548,0.8943913475161082,-0.5800049577459079,1.2458629459108046,2.1450567494905526,2.994172384491179,-0.7703566538778749,2.0274509046497053,-1.7960216494679484,0.7111911505238704,0.11345831190465346,1.0556535169778334,2.1111985653437837,2.109464320137117,1.2910952658395962,0.6294692736328716,2.1380715217945325,2.6963544916517392,3.580873046905134,-0.7160734325840943,1.939881612610585,0.6780737737532667,2.444332387567755,2.380195196109679,2.6798835535174494,0.1986970147350779,1.1856129156860888,2.0865672307760685,1.670149027124949,1.923163093600155,0.8560549396181464,0.5962517475904722,0.401457517679382,1.4324270140173276,0.42271338896089744,0.8938312515435433,0.934181512929501,1.7921155963795763,2.0849997486689866,0.7645693794230051,0.8779661996113745,-1.916864183810952,0.6130034643850745,-3.1078249058110785,-3.8691627028989912,-3.293778978002559,-3.8994956366607214,-3.8994956366607214,-3.3312712377453195,-3.8092504486366905,-3.229401294561082,-2.7205438548635756,1.8447191178043314,0.44673871953547856,1.2606372395275496,1.2150222093846406,2.0180990368722393,0.4778242977046409,-0.9969241885385075,-1.0748476201921717,-1.0540600373291997,-0.7541774857643475,-0.3242134557774148,2.1826911193851535,1.3724255087541848,1.8433778378817884,0.7191384110645176,0.26565899798493486,1.4561903662989717,-0.6067222878672005,2.07615754917557,-2.1577069868023337,-1.117543457159893,1.3153190733642242,2.4719408018200206,0.8729537064727302,1.675241930376883,2.0849920339062367,2.122236140459282,0.9828067829876073,1.3896148705911295,1.3947371817913454,1.3760923903609588,1.1821295253106099,1.1090315243231852,0.9304312253503499,-1.545565790608688,-1.2118150263116774,2.2368644295118174,0.4262097208033612,1.1943194824225527,1.4589641004733394,1.4907400474686234,1.6042117969204355,1.647849431867814,2.2906727287573325,1.852566890839588,2.1509198765272166,3.0520211827287866,2.764244603329881,2.349076402531147,2.6537095066867473,1.9723977533236943,1.6820971240524665,0.7459414867606983,1.4341833717302284,2.0980229362500773,1.787451477244268,1.414182649237989,1.7646293883523763,1.4191656635474288,2.0707799618371885,0.627775921455702,1.138397207414423,0.8941620332024137,0.7071277285032109,0.6965973526346811,-0.9388845178016035,-0.9969729236682902,-0.6082996740363971,0.5576111589526282,2.803509054118786,2.5267944401499274,0.13715684717149432,-0.44198826998209284,-0.045001656197543066,1.692259870808074,2.157418591555469,1.6990818473775922,1.6001781326438758,1.5511294298656189,1.9520920433564688,1.8008786940456383,1.6256218919348835,-0.26379849102155856,-0.12952329101400809,0.5502491975278251,0.3083960326898366,1.09375165071602,2.4668948191205984,1.7121748760262325,1.3787459227342003,0.0349557156427195,0.945450682420069,-0.9879602779089782,-1.3189106112814617,-0.6334055330495698,-0.9406996771188624,0.9699817795144049,2.1047867174713875,-3.0484778614946486,0.7307404408446249,1.0259113427376458,1.6271797735280324,0.7146219319176755,0.8978056318137042,0.8174519905692961,0.9779005367878977,1.5288625424463749,0.6792843762184991,1.1459124013388988,0.9824700706806155,2.561333526695894,1.5634205934753078,2.3686134159954837,1.3422994046346841,-1.0581609046934473,-1.539817698006062,-2.624314754249933,-2.1453331590580333,-1.9676520909720014,2.1170686036919997,1.1905631519405935,2.447816091044844,0.3019158631945707,-1.7756610457306519,0.6255572502663778,0.8465972006658846,-0.5468012076083457,-0.9794897809630765,1.1503063064411183,2.7507049212372148,2.04697545227765,2.6404185767957222,2.6825475316677427,1.5487039911038047,2.0474882313876743,1.6035435081247942,1.134948810067505,0.9501860441461601,2.0074186118499937,-2.4948987639754634,-3.8994956366607214,-2.130030524474571,-2.4363177637520983,-2.2227847519885113,-2.5608993819017565,-1.7974613102814494,0.9986446931414223,-2.1897407237710462,-0.8477944765977852,-1.7435915376838687,3.1703128555189326,-0.48027426150705205,1.3507944984053772,2.066406370982648,0.023171358144242385,1.2107611446172006,2.3570297780857175,1.7746227016201177,-0.5238560955754905,2.8037529735454276,0.2545798254504418,2.039364984113077,2.0299811898766813,0.3400766362087643,2.017792677121237,0.4570033042382207,0.7441823188451381,1.4659006563242891,0.8663302099671469,0.23301622064001892,-1.0339930547991036,-1.2911228986509122,-0.9091056342475696,0.008046111445406725,0.08685620463382157,1.7389234135891798,-0.9755205907686059,-1.7880961539002656,-2.87721924789581,-1.7469919545840356,-1.1184790349823668,1.7289435846576218,-1.3417902831768926,-0.9143555476854653,1.7289178986458351,0.18872332210013146,1.5872514380746883,-1.3733407485802613,1.617492288410167,1.344524932520315,1.548967183921213,1.5767197072311607,1.553345225390101,-1.325038490032941,0.9594335629159925,1.126534256566301,-0.032180530505675764,0.29055981842000833,0.7734359012557045,-0.11905363399133626,0.8549965616327696,0.8018065492119147,2.318552011349751,0.8498724861439574,2.328538934351043,1.3759839979977113,1.875702805306635,1.221598141902052,-1.5047670263877708,-1.787816679393265,-0.5359494313684512,0.9869287959982276,2.657263559615379,1.2633322506760813,1.8299736226213708,2.2894094009317434,0.2509338324165276,1.5677588458691518,1.6321859203079936,1.4678871282805972,1.3957750507425566,0.7606816481627424,1.8806472214963814,1.078134471540845,1.3825246820872827,-0.10416828104548642,0.9144343437048321,1.3854719975381926,1.845666553863537,0.8756758505668781,2.827082448066235,2.403404364613057,-1.2527352711578699,-2.5613075452932943,-0.5662009945820627,1.4396279531544776,-0.7996406418621278,1.7941233403646022,1.569870948124158,1.534596284128211,0.5621294938686744,2.669399572066579,2.381495585867549,-1.0868990632170266,-0.6108318846432106,2.1496722086412317,0.13490839176318647,-1.1155616988162778,2.2819205274065615,1.3874225849855735,1.3608063212992947,1.8575213070679937,1.3218056539490486,2.0855334002776535,1.8341887831130852,1.1986766816879413,0.9604664722581898,0.6560549311257675,0.7343884860572427,0.2640030468337983,0.5610236167480929,1.4659326194252085,1.2318223606480678,0.5339238489660801,1.6516897845494882,0.9652143997632406,1.06082192073372,0.7621518416780192,-0.674431713656414,-0.6227012176948986,0.6025318341370091,0.2650292258001513,0.20802237142165955,-0.1330002893345036,0.046735726184326,-1.0662990462847903,0.9170371764829335,1.7246419620617126,1.3287310726255088,-3.487834392751519,-3.123471486714448,0.5000956595920425,1.387469527533419,1.924428467713676,2.7263229167899565,0.2841568691564067,0.8717297118947538,-2.8252696860765933,2.460465161100301,1.0542339231954454,1.1443022951731008,0.7479914125003264,-1.3310239972775582,-2.6797737142672986,2.0089427173374887,1.0930585110581053,1.039742884278092,1.5207095802698907,-2.1046103314295954,-1.9451436035344896,-2.0293338189434817,2.0566435617626744,0.1850570725563936,1.2069554467893282,0.366467236348078,0.45403905978217646,1.0527803222005767,1.5841821584284739,1.8389414904479464,-1.341758143887391,-1.5108407653855043,1.6549876040498914,-2.122307399611696,0.47235652299882264,0.4079132776504846,2.2134190203556856,2.6293393562750715,-0.6639067640739088,0.23980967500830488,2.67836697510928,-1.1073393906432332,1.636715614709131,0.25149153155492304,-0.11706567159355617,2.282582123960107,1.5235570006287762,0.9564248985373669,0.3514509989455076,2.3069031535843263,0.11440002310895053,2.0588610435749004,0.6098338250054074,-1.6722325725892497,1.5520131879304098,0.16130510101215156,0.8333146977152953,1.2462768408425275,-0.07015851151631158,-0.07994909078294715,-1.4858775099301575,1.436732571723986,1.1168099049645988,1.7045956542477576,1.0207920103277799,0.86997717283401,1.7873169010188434,2.024782747717981,2.2277969823044814,1.7799174710781094,1.6828677999330401,2.1014616425976245,2.2333803775032814,2.1372283178027964,-1.3437448764540283,-1.594609375308241,-1.7451938154743483,-0.7857490221614168,-1.6345161739733103,0.40970543360077016,-0.9147011167899884,0.7499562916956866,1.6349289765530874,2.0125998466373436,1.4326193729540309,1.2463251473889136,1.41547236669514,-2.6861179525201853,-2.417167465078446,-2.3596355547159473,0.759816642955565,-0.26597168801900417,-2.7216161847235334,1.3060388444442688,0.3503957299751409,0.13817072606357683,0.361344552737312,0.7115863058918291,2.3590368047071255,0.0883905860165651,2.357801776864902,2.1311901905206128,1.6326423796688947,0.807486083910589,-0.3871373777348215,1.697226538822182,1.6549985393021795,2.8387999677254956,0.49060868373965827,-1.0656539884721887,-1.3764804019902346,-1.70715620880746,0.29150446415639436,0.06703469839891221,0.9489001889358308,0.9015795580777367,1.2321332669810827,-0.7244740293204306,-3.6072175780424396,1.2911681822610221,0.5684845435636305,-2.1517564993144487,0.7403023883396713,1.5124028488674992,0.43995700516246633,0.42025748318885914,0.014692926153611794,2.607302584147662,0.001546006738548664,1.3355397762695878,0.057643968336366445,1.2412417399654103,0.8866826368492207,0.5553372388416636,0.37941414324464573,0.3873890744715789,0.1021065751042241,0.9271344066025978,1.3859502580786591,1.3328752158577624,2.2405612448015257,1.039600965775375,-1.1456794307975466,0.22048786672277276,0.3996677923805788,1.22275712655952,1.3560984605646011,-0.41853380141099755,0.013961342728199374,0.7437250154338597,-1.788977431561878,1.0703039848883544,0.9677988118063533,0.5875466251145585,0.8122701149578648,-0.06427096827613063,-0.7143039698527393,-0.02485260614302447,1.4944898586038573,1.5162668450900865,2.002312421006338,2.396905043965173,0.19305046273353074,0.2734475767746886,-0.06558634204578878,1.0221480068084206,3.0790748379870805,0.8019929106477851,0.6824019122731194,0.14618185275335666,0.05610735393516199,1.4964925251540353,-0.8183156967310186,-0.8683162897394547,-0.4163572600134288,1.082702097042284,-0.7185629429170629,1.853657217281779,-0.08307326013424261,-0.8095435426633872,1.2693321683821674,-1.4482984185215757,0.00341782774189517,2.6978059548046653,1.5950849906436515,0.767422094656363,-1.2969946296586978,-1.44384385529421,-1.1748337919254086,-1.6241145307547815,-2.15938623010786,-1.5429622944743444,-1.9527061141816895,-1.2014325835066362,1.2655747502967971,-2.4907352217527956,2.127010189402431,-0.3111841316967743,0.3643743124689825,1.2147544928614045,0.4681537861627625,1.3491626057749357,2.76493469776978,1.6987238856356337,1.2310708320501658,1.0335268578813237,-0.13799090365155356,-1.7162700374816156,1.1230809905342651,0.9170354944241024,1.4915112957369507,0.443877867015748,-2.4475279838274564,-2.902297976629797,2.289354304596112,0.5770428996815623,-0.8458198166239442,-0.246217582624815,0.8226980983851189,0.049111651457041085,0.583099932204494,1.3139886632289635,0.7318180062590622,-1.393446538932979,-1.673963886147144,1.1839263482330227,-0.1361915032793107,0.0907630786664527,-1.19697655982757,-2.9051029385587674,-1.7883508500135394,2.320085519050573,1.196868067538959,1.0863266110979788,1.1956327709940213,0.8643015244353278,-0.15317091192862783,1.0672115928260784,0.8931361736308459,1.2731526783089364,0.24371355557116905,0.24538113741484666,0.11614612216613915,-1.1877141387415153,1.5558930931565946,1.2119112880386076,-0.1765959370040096,-0.10099983574630945,2.7144883457872457,-1.8377975546782668,-1.2365358915407896,0.47416667381592653,-1.306165197764242,-0.6769203289522746,-0.4602074967973224,-0.2711907024791152,0.31046923275423627,0.6565770923542246,-1.683752867273959,1.743195004428627,0.2998738939281768,1.0985667865189532,-1.2540925803511815,1.9910381341266894,-0.8674100249098615,-3.191287574484661,-2.298886990663563,-0.4047221644634259,-0.9156256691160021,0.12923472335548797,1.0914334391389553,2.0814698767969504,-0.7576087921773654,1.4609851066789414,-0.07100886123895958,-0.34441362908808104,-2.4445436109206016,0.31709311869221096,1.5703410589661086,0.7998190417553704,1.5047149841426068,1.1758137074462216,1.3467869167734734,-0.188213202220682,-0.841192652764928,1.4552844967412306,1.655941389478371,0.6145457273241585,-0.2370496693325909,-0.15189894934210885,1.2849002320402383,-2.7484573497731892,-2.961188724973638,0.2900838925134299,-2.571284901843673,1.4353145957632087,1.687292544039035,0.4502808023423777,-2.3714000744565498,3.4180716713697015,2.349043822271739,1.7585685717981445,1.5969730831206022,-1.7047922108337785,1.5666612845672603,-0.004123900059368383,0.8526531414138129,1.0036340024586712,0.40589635580640704,-0.45179690265356043,0.3813242629768522,0.32547812849548596,1.149656408187642,0.6603347517685612,0.6698377324316401,0.34983331258379,-0.11918704856180642,-1.4684041126728344,0.07126213117374908,1.0112588872149133,-1.5845730223887815,-1.4384957554573647,-2.158838185718094,-1.093753645747274,1.1254241569276984,-0.14561743260651797,-1.2672257708892167,1.2222243177867067,-0.06705524158062477,1.155437509623423,1.9551420339686834,0.15255470398476226,0.5283553762240116,1.4965068053190662,1.5099840767671369,0.10835626930444779,0.27004453762310543,-2.3933764636643877,-1.631946544227242,-0.8726279286424833,1.994038435242659,-1.1535023287006396,1.3630324551027366,0.7733624727463622,-0.7228874396188799,-0.6891874624596761,-0.3168135787850986,-1.868931639764361,-0.4853053713409639,0.2690348640890756,2.8294498341097274,0.8965934748754312,0.29874157688367103,0.0056867199655582365,-0.020335753989865896,0.5037228367011204,0.7484517732675837,1.319797203135244,1.9207068640807854,1.7517543576069028,2.2374582311387488,0.9465392764808209,0.32249689379502827,0.6507684961656199,0.9487933847816498,1.6701875795206094,1.5847935082898696,-0.11192252241326907,-1.1367006349924775,-1.815521406234272,-1.5258224542444607,-0.5768441350801639,0.7459721184111482,0.6496663214118995,1.2473532352403203,-0.07117080091579249,-0.11949686061515585,0.02442777314882392,0.7821986151311695,0.7744552769433136,0.9034804059320799,-0.5933846007569996,-0.4954678609814797,-0.048515431582895015,-0.48849270136887696,1.7046845375149673,0.8333775094353507,1.5879539846520392,0.06889883145015484,-2.522287189898481,-0.7357837092708541,-2.04753810919798,-1.6646813629419566,-1.3142052540476492,-2.130014527026199,-1.8271742096853596,0.9963865473177315,0.9333639072576729,1.675195135413824,-0.4158436154570648,1.6855370674443209,-0.16095148692785166,0.5693572517267345,0.5305296952587124,0.9215173222261015,1.8631937415412267,0.7862525461519095,1.5634866918294492,-1.3731347328720136,-0.710217443026349,0.2797966820072678,0.9449360899825738,-1.6090260639708531,0.9116626438950917,2.0947314269289916,0.860905042343193,1.2779048214428614,0.3085769104734781,1.0927093187913264,1.0463660490777056,1.336191758091478,-0.08505397384368152,-2.093865956169721,1.5735525260044863,-0.1512075001865839,0.2742993111079327,-1.2413336492910094,-0.43860993670594256,-0.9046705551033072,-1.1204121166493437,0.3708272504775135,0.4680745349937217,-2.0983807772093668,-0.3691313989352249,0.0268001893059165,1.9154417923344926,1.2542771840848763,1.5937317556618742,0.8275536093265089,0.01944437812986854,-0.15316363354135318,-0.0010481856286003483,0.9148195457991145,0.17009485581021905,-1.5035497231059234,1.0841719673216534,0.5972456619052815,1.9429753802307612,2.442781488813476,-0.3305044709043598,-0.6361172007275375,0.7844076627665905,-0.21485261595157676,-0.6374072197317582,-1.1099044398955424,-1.0736356221456258,0.6774353106142695,-0.22476248104498436,1.0852783278933338,2.115191030593221,1.704417058898421,1.144077629172357,-2.289718837178105,-1.980408964374665,0.910578425986856,1.1255303535261503,-1.582525715245077,-1.1960659866018182,-1.009499933758736,1.1959878621593085,0.3902442365197743,0.4692895670924269,-2.9118332079918776,-0.3103901697080003,1.388764341158041,1.2729424783887167,0.37377178320682986,1.5430581906381087,0.532179927213635,-0.38740054510297983,-2.4112849813476815,2.2310532413249886,0.7555443325401233,0.5021966177625227,0.5551280387785278,-0.3494360043425935,-1.9728017027969698,-2.4038310975440704,0.5888377242254962,-0.3332419318574691,-1.7000457517818124,0.025369737389114695,0.6475419083647048,-1.09138225490793,0.9764418278204594,0.4175039218139507,-1.2026411295792954,0.4881638284289444,-0.8389744461225953,2.9098114895762066,-2.0229212043380778,0.0012624035346920951,0.015466221339519097,-1.7830126175857066,0.7708747403279186,-0.13712438126533502,-0.4902061459174963,-0.11982071703673391,-1.468984641302229,0.7798262007464706,0.9648858952556149,0.48635251768419935,-1.3685727245985435,2.159455723085881,0.013356809044270413,-0.9466448438525942,-0.016686096629365252,1.0110000170674045,-0.13961985256492393,-1.1650846821436733,-1.1615730173902257,0.26919457024723387,-2.632579260933262,-1.4759658915927303,-1.8361577072490567,-2.275032669291123,0.040533755702427725,0.5869723533685801,-1.3227411197222738,-0.11731564871566666,0.09706692695546923,0.0691618431886183,2.9238360082648223,0.7654928422527821,-0.0190035830204916,-0.43434963339987226,1.183292857069188,-0.7771618901673245,0.9028650293144027,1.2590562644136813,1.9032038978852452,0.06017325204225035,1.7463612082190285,0.6403445980980298,0.6959854922404719,0.9100872034309407,0.6514716389915287,-1.5051842218945968,-3.71938206724324,0.602893141053199,-0.5148621600638885,1.516391677077521,1.1733509191285332,0.7726475225809634,3.0393694466787036,0.8994215935981654,0.39524211081001553,-1.3174914894203584,0.21082944232685052,1.6059774321668592,-1.3720163762640185,0.6095356461040408,1.442910403424329,-1.67160327721877,-0.4088476839707983,-1.402240012561543,-1.6455742219873937,-1.3916774452350305,-0.1747942105324003,0.8974767048128608,0.035301560229641586,0.4765003805773378,-0.20267112106848137,1.9765985862660775,0.026213367577911578,0.7609152881644341,0.07301785521272038,0.9630142559088536,1.610774316161727,0.825073463069881,1.4589274101631664,1.7107749906727259,-1.967108377119512,0.5340160140569907,-0.9746022591670801,-0.44758124827809237,-1.2596542101382462,-0.5895693590685781,0.5155961750216375,-1.4114848343062543,0.7097220014032789,-1.0085250775801289,1.8165870639013,1.0848577388233067,0.38005304267547224,0.24486418166528487,1.2393194534388665,0.03011295589675048,-0.30696486456332817,-0.7979302249990435,-1.2734724470341305,0.5134767045134013,1.0292101955156299,-0.09236870194847267,1.19610311680211,0.0015872622047854957,0.8317471118086471,-3.144940358923259,-0.5287662324394823,-1.075373896561557,2.5035122908133705,0.27758373484412546,0.30241552470472244,1.43826278257653,-0.1032848245017022,-0.10117147196615825,0.16219040352610445,1.46307435768972,-1.6800902707881966,0.14470449828460386,-0.528846683915157,0.6167692240137999,-0.31568382317715055,1.975502693041963,1.7287058790089633,1.4345808461188017,-0.8784117434646617,0.8345060458111987,-0.16875000102052015,0.2973687299857383,0.39562920028397197,0.7977675595178987,-0.007186770441265777,-0.8061475369763618,-1.1388911985961003,-0.7967704478690841,-0.27050999091460254,-0.013106485157054567,-0.5769410618874465,0.4706938561084407,1.676401629548804,0.4175541744874645,-0.29481675349792824,0.23624988368327196,0.2944294271283786,-2.1238758217357954,2.196139419889802,-2.789337447625463,-1.7500971221314467,0.27249489939451355,-2.087775688323627,-0.47297173147531224,0.6956238010256878,1.450962924275975,1.0966303665811155,-1.1289530255576428,0.5849021253780087,0.8049453164819965,-0.6844750939243635,0.20909048165729585,0.7204124757395466,0.5285952781444517,-0.15889027514562712,2.003441979128233,0.26015278673314235,-1.2673556892490543,-2.0095382740357857,0.27827507694429643,0.4324352700106984,-1.6983543510093955,-0.2214515803419202,1.0950198316801882,-1.1968066167770677,0.44870618068240337,1.2438230963159982,0.5667691094420942,-0.19623375646315586,0.4216757140287007,0.33129640584460296,-0.29424238552872195,1.299567530326915,-0.790071519996348,0.6966466971830129,-0.4045877120766798,0.7607623220035152,-0.4161113238871934,-0.0968855395212368,0.6862941099632173,0.4165576345632828,-0.2579867277510596,1.075887041965147,0.7525721188547837,0.043975071782090376,0.3457678386854282,0.9594473388054089,-1.8716805625351214,-2.214711936977055,1.5236491335784639,2.207322167541366,-1.677487838956483,-2.114028531011654,-1.9299011027391408,-0.7887798658351443,-1.8511565153301024,-2.6533160242222587,0.18672410334298445,-0.13435586328524318,0.7212808880596384,-0.08049511039497266,0.3896439862802015,-0.032256044247264144,1.425186265178938,1.1273960174625546,0.959189865603559,0.7549534637094951,0.480234501343122,0.6094244339772021,-0.5654427748819858,-0.908621888946877,0.9513445626192327,0.5481255082597485,0.9485701303294177,-3.8994956366607214,-3.3167641824679692,-2.6850017490962195,0.4430818849863463,1.7324601439238845,0.3917849532824735,-0.20592220151586826,-0.26842082811105156,0.6424667469400362,1.096526062680648,-1.1680754733877605,0.4338843486971219,0.5567215489298658,-0.04446112238011672,-0.8466159818928122,-2.148789220262043,-1.8739208551744255,0.7345351034277532,1.07388121034978,-0.29870239809300164,0.9202769491909881,-0.41377410545911647,0.14237963964668174,-1.532476137242186,-1.5191639232754812,-1.1150903369250702,-0.4660842028046421,-0.9619586004173117,-0.4003963136455409,0.7471785461213325,0.050688688077535154,-1.150189788174366,-0.7781735800143316,-2.033200797958559,-1.3722131427311182,-1.347262588582724,-1.0441409891991522,-1.526875537606897,1.1899175272231748,-1.2665204382777246,-0.261617579249098,0.047299593978893696,0.7392278591029052,0.003807112917815173,-0.3014242004989759,-1.1617048344146899,0.3706649615556448,0.9663397398466136,1.5740605677156199,-0.9774522479307085,0.024442132978964515,-0.27960080093181644,0.3007337542721463,-0.7837602732151242,-0.4001715761416776,1.4950457216235604,0.6239972800850402,1.2995145400401567,0.08835748335258076,-0.7733247136364566,-0.7249841709950603,-0.2515154153372242,-0.5380925990288307,-0.8566886678212683,-0.4665644638921721,-1.33547220428068,1.87821029749197,-0.9379823372193851,-0.6192315890539527,-0.6228351311118566,-0.7843708758868592,-0.7253065470516419,-2.3372517691442707,-0.35583582924966894,-0.4891132220958642,0.9984699802031698,-1.5470806860274229,-2.695368459577296,1.3606820590499942,-1.474191466338429,-0.388876659290544,1.8313414231286689,-3.8994956366607214,-0.3944919343493739,1.468793137736877,-1.894162896346168,-1.3354454319343296,0.4494273187850429,-0.0019720126351164755,-0.3232147888240699,-0.17536049976415943,-0.028991157296486932,-0.9944797242245221,-0.13080172538302046,-0.6199935079952242,-0.04361721419994948,-0.725394916279996,1.1302875329879163,-1.7693113949999775,1.2352986059810385,1.8043936931360942,-1.1335736917509645,0.2960355030658478,0.7818140556158445,1.079743375677,0.8273542823346482,0.4622604962437153,0.012465350149889249,-2.1819740114448405,-0.1777248057434978,-1.4914108873626695,0.6679003385642417,0.9679981429880099,-0.9605120072669113,-0.4854660232726196,-1.1855184029489376,-2.7896548002985058,-1.3603506913936705,-0.19839712881941846,1.1029494115352132,-0.8876602574822445,0.01127438195840404,0.8975545413506314,-0.04982810828393341,0.4110818693090673,-0.9703491207036973,-0.5520770582584617,-1.6515718548753902,0.3725647747619621,0.9085537499469287,0.8806036692037476,1.0250719559132477,0.7802565335034807,-0.385386943821399,-0.7408500735202438,0.27523414367082233,0.45941801281098255,-1.6345291721868955,-1.7358791140910697,-1.3284269532443427,-1.3746113347687356,-0.747403060039952,-0.10357799656713955,-1.8228774295112398,-1.650645155445298,-1.3696894269247848,-1.3905979131282378,-0.048843560888795996,-0.2964076106988475,0.11132731896529038,0.9192713313004248,-1.0572643185360515,-0.6820869275916039,-0.0006634670254727654,-0.5472273239303393,-1.392565041027297,0.12588745998972248,2.192321817436117,-1.6849230273183367,0.29096345614233093,-0.38034082691073795,-1.1335546984745597,-1.0455072365745681,-0.39018346526439573,-2.1993131179557563,-0.9059910937510548,-1.8586068920146825,-0.49330214049323495,-1.7117365877569766,-1.186149531954771,-2.727486812926652,-2.694553488059178,-2.214032068579537,-2.6961636619018763,0.8385520269162848,1.381442859000607,0.5931131349554589,-2.731649152808353,-1.9222878265833587,-1.4508614504338877,0.013031327838193043,-0.6140137197094859,-0.18926062531652574,0.9990318769602198,-2.854468426240947,-3.8994956366607214,-1.5033334958378424,-0.5515883696713747,1.0455366505477972,-3.0778448877182516,-2.096532475602316,-1.2225652684199348,-1.9112215247750093,-0.9347866293825463,-3.8994956366607214,-3.8994956366607214,-3.8994956366607214,-2.3548638871665726,-3.736903575565234,-2.894552352902513,-3.8994956366607214,-3.6362717933471016,-1.8399356969528236,-3.266460497285472,-3.41416869647303,-1.9077941209150366,-3.8994956366607214,-3.7427910380213634,-3.743497691600392,-3.8994956366607214,-3.6645218270360638,-3.8994956366607214,-2.8790345902368726,-2.4873596089194234,-1.4906178954139715,-3.8994956366607214,-3.8994956366607214,-2.8651614357172335,-3.8994956366607214,-3.8994956366607214,-2.807698424553707,-0.3914010801674656,0.8569829484509761,0.6679309664362529,0.918369760130551,-0.9936464554216041,-1.5780902587542427,-0.37288138625731687,-0.3823844620767359,-1.2560532999036629,-0.48354295695640587,-2.31992125296512,0.3841342654749739,-0.02553728323819647,-0.35223435294920363,-2.0648445149866292,-2.261393499588966,-1.492148070091119,-1.6343133895016722,-0.7836745585226451,0.6776910357079918,-0.07649650124727472,0.2383908074210728,-0.6028409803005069,-2.432162080603652,-0.3609104576120627,-1.7424202277624767,-0.1625530766590451,-0.18457526320882264,-0.6779246240660294,-0.4335223178522685,0.6130084767100906,0.22169396406362002,0.07393183081066122,-2.5479997410011155,-3.155836647526057,-2.255271271264042,-2.0519674559677545,-0.8937858219671201,-0.8023400848051123,-0.40204772280175705,-1.6438980654694881,-1.4983168043339852,1.085284132357506,0.1516890178181519,-1.9000577878934106,-1.7693832570638948,-2.050272113259836,-2.1821854832572876,0.3636028474282897,-0.28264801316984534,-1.2637415046582336,-1.234228971770883,0.5719640510425482,-0.4981273847923238,-1.1509561252087688,-3.2491273922787687,-2.051816934654915,-0.3367337936753232,-0.3122947666757196,0.14027220581852473,-1.505429071369639,-3.89344266174289,-3.207113452969043,-0.8822179876798059,0.4058964392685683,0.0903681468660214,0.25754956437140547,-0.47496037388465184,-2.6986084683134495,-3.4439364202888902,-1.993006369638342,-3.456747845728628,-3.508935564064027,-0.2588079676525749,0.8634399548962463,0.4189693341231228,-1.0976436839279327,-3.0880407521143796,-2.895713058814608,-1.6397565334358875,-0.9872114383304904,0.2045041319515533,-1.8976525776186712,-0.05279330378346781,-1.6849556585430454,-1.6682470267700802,-0.09679807266658276,-1.7295672707263738,-2.587917085066434,-2.0292899936085544,-1.076755307979707,-0.6013745985303598,-1.574893598284736,-3.3953283649440045,-2.2972084237757366,-1.7490899254252876,-2.792432339241528,-2.3161667542870665,-3.7009185423447963,-3.058462224897346,-2.63576924073481,-2.2014785777741213,-2.2364542540069876,-3.8674235395903125,-2.1021250780197347,-2.2776526381994895,-3.8369457359843584,-2.9523921706966205,-2.845755894242336,-3.2349478722048013,-2.8631925188581895,-1.113434519857732,-3.8994956366607214,-3.6389455666076325,-1.8120425161507476,-2.3955580934386216,0.1219577713789894,-2.4537252073944913,-0.9748577492614235,-2.214769410709283,-3.5950437438814906,-1.532397576592813,-3.4936748955255177,-1.8608114627186427,-2.3411259618517204,-3.7621496198141275,-3.506486320965254,-2.5205490518715075,-2.273231907818659,-3.543601774077434,-3.8994956366607214,-2.3849347687041775,-3.6037024316550244,-2.363290915111635,-1.3981971899080758,-2.9692667945241307,-3.4496553943311956,-2.951898906545404,-2.5028613741093446,-0.49036968141254206,-2.5358902850654927,-3.638650930295215,-2.816112258596404,-2.3897627691356806,-1.5032774914803653,-0.6773650171208144,-0.9226274829210646,-2.225206442596985,-1.629444228308673,-1.3649576167544337,1.290033814521101,-1.1216177302391737,-1.0552715841541425,-1.671938830450317,-1.8610829137306772,-3.0895904513413126,-2.1531249674260544,-2.793399307877731,-1.986995309435541,-1.9732754045016256,-3.4494001164323085,-3.517413713252089,-1.744854246119035,-0.800785786372566,-1.5624080669337619,-1.944809142659912,-1.8485880626487707,-0.9818321934149116,-2.1049967331826296,-3.1639599977059194,-3.046217021711166,-0.15537896951590557,-1.082717839214533,-0.3155117715548228,-2.5806155693630677,-1.8806881098037658,-3.173577662847377,-3.5554711829407197,-2.085845157840099,0.2515718915482323,-1.2644908985870236,-2.613337638597197,-1.826779787843375,-2.0083633206369944,-0.829204710391391,-3.38421256934188,-3.072970292482383,-1.3569911046859173,-0.3181819287567109,-0.7701891640228863,-0.5934854998060861,-2.320463234003978,-1.3218473024565487,0.7064268533234815,0.12842876888883412,-0.24368838848177302,-1.3485369621854455,-1.4239635127731616,-1.2328087121168412,-1.9195203974197799,-2.3020469559173584,-2.7386981438501885,-3.8578585039815767,-2.4812876221621876,-1.908668859108436,-1.9303747634831134,-1.3418520375898075,-1.6458647562837498,-1.8882550029998777,-2.1913811836340975,-1.9250243859703586,0.48700780175018227,-1.2238937830988792,-0.8785322294685673,-2.934295149415412,-3.4414871771901177,-3.658460863387971,-1.124034272137362,-1.3863179520076503,-1.5681623158282783,-1.3496092436613905,-1.8852123975575625,-2.3906615349002545,-3.0434975742100283,-2.947214442467974,-3.5677173984345867,-3.156056154525384,-3.8994956366607214,-2.8782308304163076,0.2497603015324239,-0.301397981677287,-3.275880663049984,-0.17119689486464545,-1.9522301358011047,-0.8425182309378364,-0.16973448603027105,-0.022445648310015758,-0.5941104281397253,-0.8723884109907936,-1.0934491528352317,-0.9918059759577244,-0.41647428890510274,-1.1705984857443488,0.01657811998648266,-2.6481552492843483,0.6217151864334541,-3.4490233098017278,-2.4923498882196258,-3.1522880882195783,-2.8126662236183773,-3.281532762508693,-2.664888711563695,-2.0688713181513005,-1.3578069960772112,-3.341633420086283,-2.4995070907342574,-3.8994956366607214,-3.477283807095265,-3.0693906294918674,-0.1446885893841595,-1.244865003967578,0.32362621614946036,-2.039326891199426,-1.4014341909646653,-2.8310082194308412,-2.1177425125574567,-3.8994956366607214,-2.682527825925095,-2.862741145148662,-2.1842121278633164,-0.6695106752529755,-1.1549747534310844,-2.3074879980974714,-1.2066800400317639,-0.35053111355637323,-1.9972479713054747,-1.141462869863043,-2.6922732035550747,-2.9150134580898976,-1.6923761110766171,-1.7696240557748908,-2.847263120764659,-1.2775876975595195,-2.795505987111331,0.24862292676094794,-1.1614244704145555,-3.621035536661728,-1.1816302874195306,-1.684381778801151,-0.5407258400511148,-0.20997095064297322,-1.8117753078262833,-2.3310113473239356,-3.3587567565202416,-2.0190136543584063,-3.634788978677915,-2.757262206828326,-1.1195157090648309,-2.788503091139257,-0.8359655681034762,-1.2141669126602925,-1.5598324116775601,0.6194404223957292,-0.5059219885635086,-0.48478819929813033,-0.8363872288526777,-0.2777172111822235,-0.4175145411011627,-0.543722038920602,-1.3252849139126859,-2.7122460252368352,-0.48812517623936735,0.12686882383287848,-1.9995822973851756,-2.8922871855870946,-2.803806289271237,-2.5366905976190317,-2.574568713948548,-3.1799224566452464,-3.070856852341683,-2.363163065829638,-3.2102093255760904,-1.8897583017290052,-2.8072351956481514,-3.0532745495135867,-3.322227878611388,-1.9277700974140894,-3.0253042537139487,-1.7874544226955635,-2.3809703502254003,-2.888523446813225,-3.053159953287148,-2.7387428111574734,-1.3766777902899558,-2.341362520523468,-3.2463013425494145,-1.724361469889403,-3.082767264877474,-3.8994956366607214,-3.7713813822633493,-2.4691223104390283,-2.992522076853445,-2.7550518092987812,-3.5115732104780912,-3.8866842112209845,-0.9310865628780653,2.128199839857735,-0.8512049890714967,-2.3487127181910297,-2.2687394339092024,-2.0172559447919123,-1.2736306914519293,-2.348633724028759,-2.4907082897260127,-1.1639793626946382,-0.7769815979287863,-1.5504832559075066,-2.126444119565963,-1.2523006486693682,-1.2875841146888518,-3.8994956366607214,-2.832398127740294,-0.5304776436271177,-2.3973496929793248,-1.3762555177506188,-3.8994956366607214,-1.1012860305605048,-2.9909016322463344,-2.7775815486379054,-2.0603045411380405,-2.833542525317174,-3.8994956366607214,-2.3559129579595393,-0.8098169870863635,-1.6761621852184605,-1.2564146565435732,-2.8833754377592697,-2.99432130734579,-2.6102295738686143,-2.1927249659052537,-1.4329923667615048,0.5141502934987883,1.4766435154771693,-0.8713013753564541,0.0859780787502172,-2.9234119045828506,0.3267421150532442,-2.5257145998800508,-3.398154414673358,-1.199308345444985,-3.134659513167949,-3.8994956366607214,-3.6796715178107147,-2.925262093294825,-0.0770570984835906,-1.3498271012701553,-1.6044858470542618,0.1934566421995818,-1.6317009901016843,0.7819301095078205,-0.2028003572878588,0.04772194120540303,-3.118972276671778,-3.6873042997152288,-2.8432661818026896,-2.018897157516877,-1.2362084802941824,-2.366480545273011,-1.7540911597232554,-2.488924901322276,-2.864700951918235,-3.0481382072402887,-2.3192577221037163,-0.30892074170070527,-1.6458679415481858,0.159123507297772,-1.8514727944899827,-1.5740583852798158,-2.0045327212933732,0.7508035057356613,-3.658299728478075,-0.33518494079217825,-1.7624202720070286,0.5184164961818798,0.562018820317411,-2.3155292191729435,-0.5729984451057526,-1.5934719514344078,-1.876114780461097,-2.5848719372369717,-0.9499075796076554,-3.1245928008719117,-2.3557614263885407,-3.8994956366607214,-2.56505386421111,-1.1898948666956122,-0.028622744916225226,-0.7543559580662793,-3.499703801614805,-2.4043161375526934,-3.2760111597334634,-3.8994956366607214,-2.0064354957859543,-1.345238638557648,-2.8474435726555813,-3.8994956366607214,-2.0188103121206638,-3.8081200287449484,-2.6782030130427694,-3.324677121710161,-1.897437757717423,-1.4384868630884182,-3.8994956366607214,-0.13259187413817244,-3.1626502705605426,-1.784273078789212,-2.833886485379051,-2.1528876784369553,-3.442994403712439,-1.2971606391264827,1.019956275872576,1.5190796054817939,-2.020323437190349,-2.2351679014702865,-2.369070066783413,0.48709929924627887,-1.3638720550899166,-2.4702968707093613,-1.7765588456522325,-2.3008620420679646,-3.8994956366607214,-2.465818795418088,-3.836757332669067,-3.114419021846237],\"xaxis\":\"x\",\"y\":[-0.6671655630805758,-0.5303740535508716,-0.7011157972900629,-0.796390106801339,-0.5835817366477342,-0.4703845804004586,-0.8544437227924065,-0.13188487036775254,-0.33789545849298414,-0.734279805306694,-0.7268759501329901,-0.9986074346755707,-0.6589055442102717,-0.6087251698078051,-1.118215372516698,0.30632966862232663,1.0416630696269935,-0.339736095874774,1.401975370362912,0.03089834175833585,0.5115686453192775,0.7367805255987624,0.5458483402176598,-1.1685647399350663,0.43498211861738567,-0.6580338029093502,0.21088530482314108,-0.3450120689137029,0.2548810947717921,0.10436760954779398,0.9197593477788655,-0.0994257384577397,0.38529143241757136,0.1822231031551919,0.36906165735980334,-0.03626206448886045,-0.2497979884872157,0.36643532962359965,1.6571181724944666,-0.045539907531950356,0.14989353747405923,0.5004324774363819,0.44850882714622975,-0.2698771952933091,-0.216878413020054,1.1924556754718851,-0.017349199722821104,0.2021508354467384,0.10829545802851537,-0.10553964068985065,0.514516792271424,0.6222245736240608,-0.5602038486086642,0.479722289949111,0.27453481715140565,-0.2751290601340219,-0.12630646515239977,0.014224279883183814,0.005822178168853195,-0.6128571961821379,1.420985912991752,-0.314334272571023,0.48394275610624854,0.6285193286570059,-0.293407016298519,-0.2234124024888964,0.3314950302412307,-0.023628776799134315,0.2034777665347812,-0.8217832969746761,0.4848894947712631,-0.4009534950779039,-0.4105113930297242,0.12288148023786022,0.23247883784099935,-0.06976697947958256,0.23892862914514154,-0.42832212990817053,-0.2688320040153232,1.7138224739803856,1.7684052100894647,0.5598370348186464,-0.17658488413426524,-0.21001007224013013,-0.31362273504951976,-0.15513265709618412,0.5223761309744089,-0.16257719963166314,0.9715383258413957,-0.11910468439589422,-0.5578890789833796,-1.2514140090371864,0.22006548752314176,-0.045853302078518114,-0.4420269771969684,-0.5378430925984508,0.2424308358764855,-0.29829555504051647,1.5545041929608359,-0.020112568486147564,1.329609360978694,-0.20666511305272567,-1.227815639849665,0.6278696616131193,0.012396494784333679,-0.24078612595944868,-0.49860871115183253,1.432474880326457,0.3139842259131122,-0.6936927535900469,0.3165205917122356,0.20219455530535807,1.0073883909382928,0.05767036345159024,-0.04581564097757535,-0.1886306494955971,-0.20846590551357871,-0.08290718501025462,0.25238701300176947,-0.5860415090982498,0.5663571237866786,0.5154686365948146,0.7627961834985152,1.2888433498239742,-0.6074781037498446,-0.5049798674837511,-0.336205955731669,-0.7351130334428713,-0.12718526411294892,-0.5148318250586686,3.3050047608562396,-0.862317485959017,-0.3810014302741601,-0.7742291577494429,-1.1913708929055176,-0.0935693114973208,0.21522376509783558,-0.10828611355583893,-0.2942616414833876,-0.18373235677239994,0.03126565015712961,-0.156506923723862,0.23927768324910392,1.1501626167413652,0.4521016793959159,0.5646576142504592,0.03841834685009672,0.7788791158878455,0.4002368784770432,-0.049191091723019935,0.2508200744289537,-0.2495808917168722,-0.17427347848303212,0.6669468880237515,0.15112110878296675,0.24029477361148338,0.5340107700062782,0.6454678170019487,1.3193114926770162,0.48101244178062663,-0.26821499019852196,-0.6920915231891973,0.616549024758601,0.19972674940674026,1.0211512860699608,-0.9658051490633849,0.5224192295075588,1.3317364071190023,-0.04962438022153732,1.1087726147640578,-0.32496977814877404,0.9827861880345663,1.244872588001176,0.19423358605733101,0.8846450894973622,0.9135306301258964,1.2850558970592036,1.5017694519529823,1.386232401317778,1.9922603039428024,0.6575030362717567,1.0385149664286721,0.8118786861485622,-0.43763043719787376,-0.1605062325416356,3.2154217733422645,0.6576178298617892,1.1175278951786929,0.7537871481402736,-0.6530428803933027,0.21335688643208506,-0.038658236933475386,-0.2826995757354459,0.08055905957910214,0.14416223422601063,0.10089797806271569,0.2190072351291165,-0.29449375936039995,0.20561565073999394,-0.8749345746351525,-0.13390854574294112,0.1393544131325564,-0.09749081066513773,-0.005272427952420729,0.005053617127847042,2.197031891937785,0.16033806451664787,-0.6153941492360876,0.2944668348401113,1.0530415888741773,1.2239873511766792,-0.19457186952101044,0.017902566414866785,0.977929284692456,-0.2156135053734125,-0.41009957954812903,-0.3334768015895588,-0.07233490017940915,-0.053392790486774415,-0.02145450577166306,0.4155610173003254,-0.04057998869623144,-0.22670061263031954,-0.694445518571274,-0.19879200478442532,-0.08213483005670172,1.7879175422039157,1.8395893684094686,2.13547656637214,-0.01670589984898854,0.2150783503723919,0.008660777059824017,0.3780430226441325,0.8693078054909832,-0.19694432843046014,-0.0888193621790252,0.09976646272215484,-0.4157280334091155,0.7082061542083657,-0.2402962468413217,0.28686671392251767,0.09859359486670588,0.016026600845289684,0.927464951427911,0.946422882292194,0.6425411164217391,0.37117551894211365,0.30826355745772877,0.25285617466759647,-0.5584513456311851,-0.09640959066413321,-0.0064337715232757366,0.609025234385212,0.1809366510943529,-0.5562025694334826,0.8149846618283704,0.7551960465585608,1.0303766207615868,1.2825911837380202,1.6209264065710411,0.9661931421147822,0.012055035219264362,0.596861213438135,1.43178667212785,-0.331430787580584,0.2622328464891479,0.28701022722859704,-0.18092599032783777,-0.6002548648757465,0.060386410213939354,0.44524540093378945,0.521618774591767,-0.053131367534229194,0.2839401232810355,-0.4539656132755997,-0.40308594981566687,-0.2998111017345566,0.7112552661123037,1.5224916338818892,-0.14004397688566586,0.0719923336562817,0.5889047623539581,1.0412616368162075,0.7100283383793468,-0.1591615021703013,0.2316262439311453,0.7590773249902161,-0.5529355507526355,-1.2859844602452222,-0.1553331265665563,-0.19077931442282342,-0.38217355777735273,0.007381095927046812,0.06563328770407638,0.7082190929627061,0.6537537197029973,-0.36625605108174075,-0.4936104069461662,0.16252292830681977,0.40071581286981256,-0.2530661301130028,-0.054760098511441334,-0.1160835345696185,1.1375603631962128,0.844669878831422,0.7707206693638948,0.4502687490943305,-0.007870593225163845,0.3627332418753562,0.06577433329714541,0.00821454644834543,0.0895849551768269,-0.27825736140270224,0.1464815401809223,0.3844820727589448,1.0312348471846164,-0.14294201155560923,0.16097131655219452,0.4813146241407833,-0.1474567080102107,-1.4563730752685686,-0.09173507644011072,-0.27822124873656856,-0.1585141369618583,-0.4470321156972051,1.0630090526335891,0.8379284841754421,0.8261570527513403,-0.01325770296360462,-0.3239113532519307,0.8543068651787297,1.2978803005102617,0.9694291460410881,0.29572688428008376,-0.714790950992371,-1.0994256392682271,0.07088135146065884,0.12722620683383468,-0.050748445030182616,-2.0406254116379965,-0.26453925895135877,0.29053688230522673,-0.24866691497232454,0.29156469778267013,0.3769095118864397,0.4367308415908633,-0.4248989625927506,-0.4876110164440557,0.3670267464226625,0.2166211530306957,-0.23755078431378232,-0.23478801847809855,-0.10511643207785301,-0.4844709216761002,-0.12492924441655488,0.9352652529129559,0.05261650512847565,-0.4886699859709493,1.06607745448681,0.21179999176153383,-0.08275036819615272,0.3073725060589215,-0.22997451217540157,0.8483535562736491,0.8083315220239191,1.273600930972792,-0.8251013895760352,0.07023810750753527,-0.17207565455687765,0.49158082787235086,-0.03907685051428613,0.47008665063710825,-0.28854797041693864,0.04596639408643824,-0.5093848139475754,0.689532800838932,1.0111193475037867,1.492536973343994,-0.3608569775176874,-0.901225863015185,0.2143027654690679,-0.21285071302010836,-0.19158479828456376,-0.34478018422890405,-0.07687770710703773,0.19365613148163757,-0.3575311335927884,0.1959067785797632,0.3052048998363149,0.04887928518435679,0.9793969651814443,0.029248317788674427,0.9702532225516365,0.07709930045078472,-0.13084052295999074,0.9485221967157037,0.06848169461140369,-0.4071428795322871,-0.07076126338203259,0.22903997156376352,0.41296419223359143,-0.19519443709433676,-0.042628596340489835,-0.812633983063963,-0.596069468444073,0.07442379015631577,-0.32013535090782513,-0.31573352786813685,-0.012515873279910612,0.17696963226007856,1.0140592157749824,0.9498232929933104,-0.19835715813632945,-0.44747474705431295,-0.5008775938163085,0.37612428544481874,-0.09636009900241721,0.2995605217037595,1.7846650194465283,0.8914057364689832,0.19803896559248582,1.5205959590772768,0.5672256990188234,0.3116004049585627,1.5108959487642084,-0.08649877759310669,-0.022274953409447726,0.7119736964560893,-0.46716837727151417,0.12741644737598384,0.44024869545575607,-1.019366646295036,0.08836432200096674,0.19025288086971384,-0.22105635927089945,0.4783823597193725,-0.28620768090434345,0.40033815768215436,-0.19076315892757073,1.7077551661204082,0.3351646707441616,-0.9886533843907555,-0.4272354414160228,-0.5417730586660859,-0.1110321817114922,-0.5660395552493318,-0.1836768378805338,0.15407876676623505,0.22101909009303133,0.03666567955858662,0.7038243867151623,0.12469747645676448,0.03575149689795191,0.42161415846525097,0.7789457711688922,0.2932932612498133,0.21465431065157556,0.18310826775054215,-1.0516939108142682,0.046069635110873516,-0.49584200698637604,0.4146819375119048,0.3760165611272112,1.1318475853269347,-0.4406725688822521,-0.9896508256165003,-0.8854857164752876,0.3925318664366956,-0.764693678662946,-0.48152331234783424,0.6290096460317162,0.3776580869538223,-0.02227297436422296,-0.4240600835355607,-0.12120555356444482,0.5623306152727198,0.4255541044775203,0.2734552988197401,-0.34829613259409337,0.8782756509644347,0.424068688356499,0.44660427786601153,-0.032947887469078126,-0.4067238837455092,0.6691281353505182,-0.687090085000977,-0.013656935103549579,-0.06658800137673015,0.2726460602408406,-1.299146774281397,0.2607342803722088,-0.2615239851005907,0.5581681798058317,0.16801120794058522,-0.2371790142652201,-0.294685664915437,0.03896469348520819,-0.36845044707931646,-0.21835875293470836,-0.9286745958100957,-0.39185089273129486,-0.9569747320889727,-0.9569747320889727,-0.42683056428096056,-0.8727774322282167,-0.3024108716729301,0.2130202930665169,0.6107544853144332,-0.36259174953534756,-0.3197503495042368,0.16739029700175925,0.3184527196349569,-0.45162176054673153,0.018401878543557307,-1.173020172214492,1.8836692402713702,1.2790389794559618,-0.5747090431221128,-0.5964227530541335,-0.2949388210802332,-0.07874383712728814,-0.49367745693841386,-0.262950101740915,0.33477862723576557,0.5322189272371746,-0.2027309043501879,0.6680858883967893,1.8254086991319372,-0.2361943939294704,0.17015217846462002,-0.21857484233461522,-0.5821866464144259,-0.4212833215096288,-1.3736407867118772,-0.718476406572457,-0.013636789546041464,0.31757927495960037,0.21715003523083906,0.0030376930551778685,-0.09938503051150205,0.5955111971033811,1.3691621104237504,1.7013681075429956,0.15343369421974556,0.38978942579470516,-0.8664617283907212,-0.3720049606772534,0.07522166308929125,0.21583635957146155,0.34699778600842246,-0.20283381502556758,-0.1610959765467545,-0.26743516525217376,-0.08159478043359214,-0.019809876227375966,0.3575343114376048,-0.38229575469913535,0.09200524432658351,-0.4211259847678408,0.01780893589967448,0.07007067620163314,-0.5862650974037249,0.27540855258741503,0.159371963956006,0.08034831831737205,-0.6127369739302042,-0.3670619800216376,0.011083252452413707,-0.026182301890935615,-0.028257498912505428,0.11628467663984841,-0.3772309863016535,0.23535356071674654,-0.100264289852525,0.5593470340595593,-0.5933844115368634,0.0959643873814728,-0.2699759793083127,-0.23448427333804764,0.3416577651634499,-0.05464160694036749,0.17722868817058665,0.40553289466527187,-0.015797922030034644,0.04549493182816611,0.042487683095775934,1.0614904039444633,0.17897553979316763,-0.7706938505713877,0.01219888972923523,0.34385366338445256,-0.15313035388232185,0.32673965111780784,0.04923570820202758,0.25473168495552356,0.1535474945141278,0.4072097624595341,-0.7007767105597131,-0.19948878880012652,1.9398974112519418,1.6032943497990735,2.2990533549025938,1.9822613902600958,0.6576568102677439,-0.7195098082299642,-0.16298892108473276,-0.946710427619238,-0.2508720689255913,0.1891920593224064,-0.008063750566608232,-0.19192404042591987,-0.5657609058195973,-0.8636513399701767,0.8181061973348038,0.08201063571340793,-0.11477403143382763,-0.233501907653322,0.13741103695287457,0.47055783545813296,-0.012211992548653253,-0.043777265802570235,1.9339387244087245,-0.6362935265496685,0.3196563391488159,0.8020486931781461,0.961550308876577,-0.5178342843033552,0.020028714691014846,0.7296548108337222,0.28673880743512986,0.8075888088488112,0.13264898528834457,-0.0005307181445200691,0.5335666977849136,0.560537761767317,-0.2555262461573809,-1.2306651748324093,-0.15921855091219403,0.39551523460458904,-0.0653141565510472,-0.3716981662950429,0.3984429691112756,-0.01810298872773674,0.6825273370104129,-0.5702344114046081,-0.05514845552426168,0.4011305304274597,-0.9569747320889727,-1.03698931119551,0.09795092649223892,-0.08894709782428538,0.4365606444898895,1.1591662721312483,-0.7430709959788994,0.7107182961823062,0.2347999305889728,-0.2991980234679727,-0.5966582932285567,-0.7555665544095402,0.08324312755820831,-0.29553408622039906,0.2005526060321573,1.1651779460708886,0.804706400815377,0.5449379745522133,0.021252407687240047,-0.6743679067230227,-0.1689970761723535,-1.6065676745544795,-0.4538662155913365,0.0773490153606147,-0.4468235626153916,-0.10956250573188714,0.6453456234900193,0.6550965929907953,-0.20665716574097392,-0.0828075206029905,1.8995551997037243,1.6402649158538758,1.1756841989455924,-0.4042410233857031,0.3418576559859964,-0.18202150436242295,0.20833912131226168,1.1345379855509303,-0.003207406317663649,1.1898586839966652,1.7930608012481954,-0.3354113269748666,0.5715313787561823,0.6142261840116042,0.15631357025658257,-0.20450910561282204,-0.2137731373904105,1.5663701443915938,-0.31120632780630464,0.04650138432406314,0.1467068408792347,-0.08667606014999577,-0.2676709216758379,0.1745759302053782,-0.4443757871038431,-0.1423798831732028,-0.009395862609895564,0.09368961914695735,-0.04141980783782051,-0.5042633850891074,-0.2452622919467027,-0.06250054976025321,0.5748530519903966,-0.27035245898196014,-0.32171967891033243,-0.0012331971519064279,-0.17743717776586407,-0.11429791263779261,1.4389784195178554,0.43572270682705816,-0.1637442415834112,1.0131710971395362,-0.481782622664414,-0.1535101839055315,-0.40557274746614963,-0.5116779394055799,-0.15897614283948844,-0.21617143856938417,0.41018010713343167,0.5877320443527458,0.4771192945761169,0.6244448213203511,-0.8173025445661887,0.3009808752202634,-0.4004910796822249,-0.00969769893922687,-1.4135663194729435,-0.23772269281128006,0.3345319964571746,-0.11097346573674063,-0.16268528615449304,0.27043713180643414,0.9763939224843584,0.41471225764643754,1.1082788801715853,0.00848991088009647,1.9333258872671906,-0.22987749640941277,0.12125013723939741,0.456088104324253,-0.987482521728,0.21205990859380383,0.5496036531779667,1.828657997231867,1.3046768702868978,-0.2035989340781638,0.15403249442550496,1.7698877962626138,-0.07880443824509177,0.026085017899587306,0.15089214638794662,0.0030526804017244036,-0.06345066318916086,0.30397353716027836,0.4932332912117901,-0.21217367019637867,-0.02461758869258425,-0.29661555849227106,-0.6037112733263079,0.5597835601669215,-0.02797861030367585,-0.4323632409737393,0.006828008804121318,-0.5990740395542761,0.018898024034708565,0.10134613290892901,-0.3466708053184501,0.24214235514427992,0.17076924858819803,-0.12232013877149941,-0.21156005743103068,-0.5625533815991274,0.16625533352902752,-0.2270694558761698,-0.29868223412155065,0.4754538222233543,0.22969309226061776,0.47861642481742644,0.034880005697573394,-0.5729014540185127,-0.150660538063829,-0.34438687580757416,0.132415670644113,0.5058829737792284,-0.30872228240102534,-0.10793931399581153,-0.3602972797455349,0.11372174255889585,-0.248145720618818,0.47940761070350724,0.08068529571781331,0.3539674447945224,-0.24162765173263015,0.07980177810426986,-0.22360783872924306,0.1342856574142098,-0.08086851872815863,-0.33813338079754246,0.8462682601979739,1.0033722989603995,0.8776923673542594,-0.6683169844798322,-0.24545172296113194,0.44391040531804593,-0.7751190120725541,-0.27981581249513354,0.0525858914070999,-0.0029934899710392505,-0.3612583738281714,1.584376068331116,1.4210445324728693,0.09718685008721774,0.8000346183493505,-0.43202345351320176,-0.160640462604135,-0.01655195233346126,0.19541894084343842,0.752215160022076,-1.3404384777867964,-0.3347625795106095,1.2657068999429861,-0.5699383860230418,-0.8904233158171707,0.11475033030153065,-0.40429648571931937,-0.1667725241618178,0.2325071066510914,-0.26229810261508596,-0.6569835167120356,0.4288437880940562,-0.18788645464070472,-0.012209615975343466,-0.5864279866937944,0.6091503956702625,0.54427113897104,0.13955261772601105,0.21964471799636653,-0.16722295518320265,-0.40093345544932196,0.12875645258572807,-0.7508419972719862,-0.2364502234897152,0.21682012580143928,-0.44950951415153956,0.9335689278980234,0.6365011093946746,-0.060485936888504954,-0.287402170655064,-0.3460399599751504,0.47495430251461834,0.6223042390932284,0.45107056913319304,-0.29408924304736844,0.6655115872005034,1.341252613004858,1.1863481287527737,1.0953451077397038,1.1215863267193238,-0.4196966249780919,0.2569737604920727,0.4182353849482715,-0.024788915131268685,-0.3073214998674824,0.18565480412692636,0.24747267229676564,-0.1435075532924365,0.24382476134048667,0.5116531831824566,0.5685807901206401,0.01025674479267872,0.611289095873019,0.17365027979177367,0.09206048657421619,-0.7793858283696552,0.23410329807465463,0.19829634486190698,0.028242986442194726,-0.05230998490952706,-0.2518419448306539,0.4121309659711219,-0.5850113275203704,0.24105950038104748,-0.16071278439023995,0.11214636428671813,-0.8549083480502134,0.11982798584551306,-0.10945942082924415,-0.28107810796487176,0.5274551807096391,0.19464727668046639,-0.19973656488727273,-0.16925099127095516,-0.1818805608630912,0.004339761385739135,0.5663560255071692,-0.3184413942107177,-1.1637320563727713,-0.7332528256992037,0.011711250515056794,0.21174110645004007,0.7735967229294434,-0.5650305435963657,-0.46110138215990687,-0.31631098800449997,-0.31051393826031065,-0.2590193668040801,0.19867061653135704,0.4328928238904357,0.058502082886634506,-0.6551990220658104,-0.22274164969311006,-0.6661744723938721,-0.09763147858740258,-0.16991981293920452,-0.05810461137307107,-0.29222314594654736,0.0954191492212487,-0.5383637980240766,0.15024357622823684,-0.04028827543683571,0.34604011606642104,-0.1710050568843491,-1.8862245706304142,0.6097665462262087,-0.24201284620220043,-0.06081314643132515,0.17932275547676016,0.04657283013654201,0.12426363234846609,1.0898765215942345,-0.1447254155108404,0.17876257422618505,-0.43715395010208763,-0.5586146139853405,0.0467321074383698,0.40965939661623874,0.332030551639006,-0.006850257071960917,-0.4570154103595393,-0.001154627183930616,-0.47358724420615045,0.32179983332123085,-0.2913005879346922,-0.1462838074242329,-0.4693680287693554,0.3042838179511469,-0.5172445539034707,0.042391306981733094,0.09735457735101319,-0.5311869612520698,-0.07098416119651428,0.6032038037731755,0.08336577088758082,0.14929007059263255,-0.43059542732933936,0.37561129865307635,0.4046065093350186,0.17525715764614333,0.45592878773411916,0.3435861631167801,0.014443068009698003,-0.36642680741264616,-1.1184336163245632,-0.8595590777126025,-0.503861302725049,0.7177837699126218,1.1089478557317785,0.9931371164434796,1.2817885891414451,0.7517207895548376,1.3968403211805043,0.964680169650805,1.715920127870882,-0.506947303359453,0.05123770510085588,-0.19405720968167162,0.2094106575492279,-1.2327367941540937,-0.9057606687593156,-0.24151991383791216,0.5257732879683799,0.1663316847518347,-0.35577491118532134,-0.16800797599558073,-0.5340455334694958,0.190756457846269,1.2015044724619477,-0.28396622877948124,0.3486542705126212,-0.5793138701266128,-0.6747986336185938,0.48120591734050067,0.010357516591583613,0.0033587621289675336,-0.3806513044048819,0.154824906400172,0.540230803083722,0.17355367168562824,-0.03426470537385892,-0.4698319182904141,0.38612342306772746,-0.18602741378994198,1.5276199421906587,1.243604109855232,0.5050030157045052,0.4533400580842195,-0.07053912746504432,1.2913203229686974,-0.029222438424954016,0.8759797472170429,-0.21146756680539697,-0.26598618323449374,0.2514603906615962,-0.289810607503395,0.6602625568331529,0.8041614304683433,-0.267508268872059,0.5611197558515171,-0.04656844801026801,-0.3139278330116529,-0.9792531427760324,-0.9752662652860208,0.34945311523825723,0.07947280596185263,-0.38893493604158424,0.31165548703769985,0.9242323149028941,-0.03896181639507532,0.8902170549338215,0.13664174950439947,-0.3456580218622537,0.20890912048698035,0.5146048922545231,-0.2522440649411621,-0.31416284875852735,-0.5599443805763227,-0.7725398190750813,1.2190218722082462,-1.0527810186911521,-0.5661394064726851,-0.2721641482275043,1.6942520217897563,0.434400024026225,1.0483610146386604,-0.2962280720126086,0.5610630137836374,1.2797990764010834,1.1370433877922588,1.4559110647440932,0.21960038437797252,0.18169371994504038,0.8466949535396833,0.7571429418139773,-0.29976948311359436,-0.23943316083687563,0.24634249305906175,-0.02146199403513425,-0.2710946692220689,0.41542169817105334,0.2891888733144044,-0.4898809700062155,0.3789874038762887,-0.15339531814117202,-0.07319618920900049,-0.34663557846732784,-0.8706854571881432,-0.4002422069442268,0.5714769788401503,0.30795298303543156,0.7834126050450163,0.18153561930697215,-0.04115086383516731,-0.03661561818433398,-0.1813234815907308,0.34371067802504945,0.06059799092655911,-0.7068613516751325,0.5266138957476487,0.36400416918520845,0.5978964145820004,-0.046500603785810064,0.14944593029407222,1.2135966162774976,-0.3239195063987868,0.246587640767318,0.674354044711481,-0.8362225634021981,-0.5845777749612016,0.18747539705147878,-0.4438666052577743,1.5906562370568678,-0.2075233950946143,0.24631653541087017,-0.3053874932352916,0.6759557483221023,-0.059199033782725084,0.5255957653145513,0.9070844726126865,1.0454047509833908,-0.5547829245374836,0.2702249384127211,0.09331788592559614,0.0582393399671238,-0.32549714573886435,-0.42184884200371703,1.49185580180603,1.0238735958122163,0.12450987092497956,-0.07041473110301559,0.363098006767813,1.8182157126574419,1.3005492849315126,-0.22715543499875498,-0.6499327803609304,0.21184378504083765,0.0977082799257881,0.019303832793930255,0.32696197636687296,0.9900651945146697,-0.891229195874587,1.000940670491369,-0.8011751558250113,-0.2485205579769523,0.1375361605444454,1.1973365607154505,0.7043652358574117,1.0630397512408079,0.5904668529884385,-0.11451901705538108,0.0929436023946205,-0.824142340324021,-0.49825262348043303,-0.1507143902904648,0.2026800176910685,-0.3066336926588752,-0.3567230997993744,0.09162458671729949,-0.2631196910125663,0.2222110890316898,0.9760047867589559,0.2392268843152245,0.5799832205114248,0.3472820926699914,0.5222032783560877,-0.033300565711033486,-0.3305797206899076,-0.03005284152543932,0.3631034383881825,0.1303569018489234,-0.5312511532777064,-0.015041710163190395,0.4919009892812449,0.3753361242273191,-0.269097271798112,-0.29679948494920966,-0.1031155144616482,-0.13680902957365562,-0.4687443173705927,-0.3009094881311215,-0.6597853994290618,-0.4252618658702427,-0.14623374472474962,0.017143166335496934,0.4964569798279981,-0.006632331049874148,0.6535779467650494,-0.3526763774570476,0.12911192967927648,0.40079398851034215,0.05918939233165448,0.8922983711993594,0.8922312967234141,1.6260620936128727,0.7738667473690136,1.0901466260193886,0.08669571771775696,0.016856495612306423,-0.18344442725988644,-0.46785349287718647,-0.834219280497317,0.32122811956685227,0.5183000651441356,0.1215194148078181,-0.6332759777540705,-0.9604018226617638,-0.3965275321253855,-0.3840584869790473,0.6086952304302069,0.38004240292630187,-0.278186670961355,0.06932420683126213,1.3064036746690462,0.2623292714716229,-0.33567018784542507,-0.30195935756438996,-0.11583672671058204,0.1503851794372474,0.5060481656441538,0.060363920714190764,-0.041732150717027516,0.7938975035469603,0.11551627575485444,0.28294436402910134,0.2001618161174174,-0.3299480635761348,0.6211096486835215,-0.1488204101087877,-0.19255655446948564,-0.35448868894829605,0.4832172350829137,0.4736302287860721,0.7686081221230195,0.04142270195340091,-0.0796841545883462,-0.5295592928439309,-0.2544441195754065,-0.3463562440824716,-0.484498945757748,-0.29733256346330394,0.46937664006275515,0.5211191032907663,-0.16224550816279018,-0.19319935844796696,0.5652063817973726,0.15377328193901882,-0.2643974871244235,-0.7543333535350973,-0.7118444956272627,-0.09577584674212022,-0.6561125284801235,-0.013624804036480254,0.6813482824946908,0.5071897857175441,0.8712123965192766,0.7264458190731464,0.1372409416390197,0.0630872413720855,-0.3813480189205282,-0.28939660466114864,-0.33888595449970216,-0.4669809837850961,0.6349648871180704,0.19224408401713008,-0.052491907668466016,0.14968468384095832,-0.37894063226219143,1.0670946260937262,0.20658296469885384,-0.38368467898035147,-0.5687416942740342,-0.24662204964551923,0.011353448855448476,-0.08543602725788173,0.42323748102352804,-0.9434499112357363,-0.18112160698834098,-0.07582917162572968,-0.6862790660482244,0.38461711286973815,0.5055660170961962,0.003111313174298254,-0.8513798493866955,-1.3840376449408902,-0.27764072723426964,-0.0653259025511407,-0.9286062841005107,0.5225739292041646,-0.20449516748471638,0.43744471644812133,0.3342260921499053,-1.1233147894503883,-0.5360800545799,-0.04580621398600509,-0.3497846187316972,-0.20132305875220247,0.3535120837679894,0.09701532839041092,0.11160244139198523,-0.03538686213624383,0.47589236540091057,0.3226641342818516,-0.1530355318781162,0.5375335786782788,-1.0527779001381734,-0.9841588664418423,-0.6173991650220171,-0.9091961461595565,-0.6132747316357843,-0.9911661606304043,0.07515559259731269,-0.46875049170603533,-1.490784865488351,-0.2324042015882454,-0.18028638181771608,0.9101395196497355,-0.7382350079525888,-0.2157880420580747,0.03397175594176787,0.40794335827606804,0.5643151346038785,-0.16230228898124427,0.30664220512849943,1.458447594516619,1.100857707132669,0.6562992479242099,-0.4167365764081784,0.020713072709983557,-0.1726531722722423,-0.33921617953050986,-0.513344851605782,-0.23275075616795618,-0.6197558516750014,0.09848941138665396,-0.5275839952558844,-0.09862929816461899,0.23627060450802198,-0.33814242478603046,0.12840868420188023,-0.12581658261994705,-1.1688594247056563,-0.8523923151655217,-0.2946163029866515,-0.9667121081972334,0.14171693523546663,-0.19476985881013814,0.2158960712571367,0.644719630061332,-0.788931686855398,-0.9092493263782854,-0.3224350917415868,-0.2426350601042993,0.7328327305423662,-0.28817439076534823,0.2892768286703464,0.45127327749570884,0.3641021784716554,-0.03450969736599255,0.012094345803635638,-0.14170652196614747,0.9354176373802984,-0.45290727711684586,-0.1454604381663768,-0.11895117025373121,1.3366975256234555,1.4880791064267942,1.240286587876284,-0.00335776257785053,-0.4420908522141784,0.10304220056107603,0.06960008439528365,-0.012491865951624515,-0.24620246772783172,0.37443855391932224,0.25707233406523794,0.20720208343435237,0.11394889648210971,-0.3817720654924423,0.2717610683924472,-0.19883867191413102,0.7573581778010212,0.5559503742957775,0.4243785834767063,0.050334476462056355,0.7283973517798261,1.5896033785603527,-0.035849672315540405,-0.5002166857513772,-0.5958463966422537,0.4365578105901683,-0.18105412070930596,0.5997034442938771,-0.1457731923245152,-0.379113005083627,-0.11548404533350375,-0.4202070630374377,0.06776752480303079,-0.09504242930597277,-0.10369525963358137,-0.03883401376087773,-0.9599450887842538,0.05346067245763301,0.10167060137318867,0.20542311737197952,0.30548245199484864,0.04668524483560966,-0.12054288400517726,-0.2529868699964376,0.3891275274343316,-0.09301125599369751,-0.2120793978126698,0.029657785324581062,-0.7690321052019874,-0.44389836584979286,-0.46354903269112635,0.5233834998258159,0.5758708273473461,-0.1441590153791851,0.22367369921398014,-0.12111027184047395,-0.4446580497939631,-0.2994594975868187,-0.23132820926883693,-0.5637959739227588,-0.37323824100414865,-0.03559609979001469,0.45097544551190166,-0.03398983030894977,0.23650844722385458,-0.20436406826893785,-0.09587912621980488,-0.18590797841481124,0.9515789839209863,0.6132048592026835,1.2561272633264131,-0.031435099871943414,-0.35587922805242717,0.2306044988407729,-0.22646975397626032,-0.716382120153755,0.4553883629050945,-0.31057658278093425,0.32752435065077184,-0.07829142855275724,-0.24232254532489003,-0.16899342282203136,-0.13293048761309695,0.08439524304974391,-0.41048931207317557,0.024959493367689236,0.795450585525481,-0.4419062619023614,-0.2999415852952138,-0.4688153867306146,-0.13696947136079,-0.10644045891919275,-0.4274718730497972,-0.2972468883026014,-1.0414615175875737,-0.3252106540248806,-0.5303902113857204,0.5193428321594661,0.007622869903236389,-0.0696126402378309,-0.043238588535130074,-0.16432274397060437,0.3022675894266814,-0.5050891974381778,-0.7121421211262103,0.5395744509119179,-0.367355922715072,0.6978822757338585,-0.007438451172732802,0.5469210458870473,-0.7142216680604466,0.1689785508629446,0.08318787616233092,-0.022289100266260593,-0.663885190961909,0.016727529338979433,-0.14149927999833406,-0.27740981624230865,-0.3276448802283937,-0.4269239326172678,-0.07563505184289672,-0.2218055825190698,-0.35436381404276307,-0.7940975783166745,-0.2759379644987684,0.5763107422801421,-0.3965695276816565,0.08407292801312828,-0.6037223208181429,-0.2366196235453808,-0.23829825363490895,0.2973612491176914,0.21922112168427663,-0.9977952764423992,-0.5105788825151464,1.2277493699722926,0.8325928045694997,1.0119439431417403,0.334927869920919,0.7267746827307697,-0.04868055139776798,-0.1101703765892241,-0.27885944923011013,0.7724401721736982,-0.39231480467601426,-0.08602058426966493,0.34976506036490895,-0.12559716943948632,-0.764986190569081,-0.2859320910607403,-0.3272055338591552,-0.30414400714466605,0.20193624988494502,0.026107817590885953,-0.5030150651918558,-0.31009486411566234,-0.13663908154923063,0.4725759869880689,-0.9569747320889727,-0.41329571649541164,0.133743961366915,0.6606630778225326,0.7555957529587378,0.015646497945444742,0.007622829375809437,-0.8828115687562723,-0.13633848654942368,-0.010915462147793547,-0.4168263170245401,-0.05940351155657035,-0.4742542880502326,-0.12426747361437325,-0.15307715873512492,-0.10641331540284368,0.30791213309021653,-0.3519030356176569,-0.18916777852985808,0.187672545595067,-0.5961446541407687,-0.009761822260440242,0.5896260483658814,-0.9143510564043948,-0.67935674198709,-0.32895120770400216,-0.49076758933590076,0.4048850044201383,-0.22362046339432393,-0.156498089159886,0.6305175506289068,-0.19530127116927365,-0.5053597993727916,-0.47748885598419033,0.0879193732413904,0.41982551390749995,-0.6641557038656485,-0.5886407053184355,0.15682598737645223,0.23790216304200631,0.5461253744959748,0.04783737667684153,-0.3255713567475182,-0.7087503550004526,-1.45617774145387,-0.20616153813037918,0.03481322373720186,0.11636395148739048,0.21033341420470392,0.09567917492247358,-0.7186049602878873,-0.5391369774885004,-0.6250417820103236,-0.3607757648933721,-0.5948238219482995,-0.6568954601661459,0.800575784469872,-0.4469662184548253,-0.31446830081333255,0.9079488474842804,-0.12292393545285589,-1.0146070307465351,-0.3767181162365742,-0.6656294731661851,0.19675134377302478,0.14448867192976986,-0.9206319690930307,-1.0836020835523428,-0.6952782268558024,-0.2812997909882457,-0.006476543459682871,0.5712437390904558,0.58227020975231,0.10537061769098999,0.036003282911080826,-0.24411296458868706,-0.07243204688154425,-0.20364103238708373,-1.033483654144107,-0.8478495668415403,1.1451385946224224,0.04648484420383204,-0.9569747320889727,-0.22977453011352134,-0.4430119511896345,-0.28118647063730096,0.054865354738600366,0.25006854975363785,0.16017290755139693,-0.33492957804552287,0.32404814837235,0.16739044085519048,0.41884558681114636,0.5338548952289577,0.768426127436422,0.4242614038423846,-0.1740392912346133,-0.8995989553016288,-0.598176044083498,-0.3733878850393457,-0.5260028605630503,1.395207904924222,-0.48565940278499886,-0.17826578637612117,-0.3373406496669228,-0.04325723866560514,0.5346382983902814,0.7895278217309896,-0.6281564083990431,-0.2276793869037003,-0.02728595009824403,-0.7453939245830945,-0.6631951658664763,-0.031452518675473044,-0.49152485381791133,-0.2847693537293334,-0.34990484320512977,0.7063677968087314,0.5470865946562927,-0.5960841452398356,0.4477701959196151,0.8350036517476147,-0.9271172529356547,1.2026204581214444,-0.4081378249903093,0.9568721848113937,-0.29977838053250244,0.44818193823811087,0.19910611886721438,0.11864665476418632,0.013613245193855782,0.30379854189635347,-0.655280569664404,0.25452294133751235,0.6821469522903209,-0.4951737437360776,-0.11883007823975363,0.48621117282611614,0.7834063422960901,0.12655592137698654,0.7186669283321414,-0.21664465632954819,-0.7238230256494725,1.1119797671230596,1.2691186635725409,1.5595387402703507,0.3097063898846021,0.4637850975903133,-0.07161292160494624,-0.04930934574504356,0.4789700013338864,-0.18277510998944876,-0.42610025743987096,-0.881527006364324,0.37091095274707925,-0.7674122714033771,-0.022897748373562787,0.4189832360238526,-0.41950675270808474,-1.9012191322585903,-0.5061343652957189,-0.38563291961975527,1.094531432657365,0.4228932065645757,0.7422091715526598,-0.03910552157883959,0.31295295272673024,0.6185798346229481,-1.1137635273046116,-0.06747696562969653,0.2209773228816364,0.2449012885107475,0.6874553404473644,0.16571452513575094,-0.38769857318290085,0.5305659864872376,-0.6816169814223594,0.1655117899079849,1.0150578649869588,-0.16444704872505939,-0.053134519449257324,-0.1446920320845542,-0.1966264357304077,-0.7205446704814783,-1.3157978767890617,-0.9569747320889727,0.20108976147266394,-0.6585815377076597,-0.08402722716379331,-0.5674808913923088,-0.6690634180932129,-0.20639009978702247,0.269264753966045,-0.0913016818164406,-0.9569747320889727,-0.9569747320889727,-0.9569747320889727,0.12252604238006602,-0.805278970544438,-0.01937891276273636,-0.9569747320889727,-0.6748662892844997,1.0844431342318248,-0.3663631923559093,-0.5041725516269576,1.0418850826496402,-0.9569747320889727,-0.7890275972628246,-0.811431174083325,-0.9569747320889727,-0.7051430792319493,-0.9569747320889727,-0.035003483082062456,-0.6574925517384421,0.9198414100718719,-0.9569747320889727,-0.9569747320889727,0.008042337296298885,-0.9569747320889727,-0.9569747320889727,0.06165439670659197,-0.0035429412027640807,-0.008383538156594726,0.32633605284901923,-0.19495162011889425,-0.34921903212697275,-0.3331006761986072,-0.21613025005605133,-0.42634011362616164,0.5278775267490975,-0.47953597246126745,-0.045339336971479245,-0.3479853656431962,0.5463886775890642,0.113907913114007,0.8495421250000235,0.6703156553416961,1.1040376124092082,1.257237140614322,-0.19868448018969992,-0.6395634979046869,-0.4002353430550866,0.11624857057677399,-0.10561471362426726,0.5100920467899751,0.10067385657415355,-0.5644815071193223,-0.39837226066707304,-0.09222684101346289,0.013456425480836667,0.264575748154826,0.21539462643150953,-0.9965277357251244,-0.14665999942210747,0.35742200961591314,-0.24989422331031785,0.23345411315823114,0.8618790333637956,-0.5435343706417944,-0.9028358248644022,0.33369083686593526,-0.25682681424444376,0.39134040126480696,0.22736834990278848,0.01817739048086286,1.019772389071943,0.6628784808519662,0.8884793654524552,-0.5939623979261678,-0.6374203775991681,-0.4958046293676033,-0.5043266261561387,-0.4537053807235364,-0.27876542426191553,0.4454965303012499,-0.33712042664947556,-0.35019168591083766,0.29150206766506787,-0.5378419693041733,-0.450515172713495,-1.1220642499937046,-0.03418030553478827,-0.9627825326489845,-0.3109933605059344,0.13833444232208764,-0.0892608972014621,-0.32465103528327405,-0.33983593608504453,-0.0398241059891401,-0.9022206264303116,-0.5319453561739286,-0.11355384016029765,-0.5438982087637644,-0.5925885053429487,-0.38401743457449866,-0.028007666367325143,-0.12381607618594213,0.0447569155169949,-0.17566584609554847,0.06146545107889827,-0.08182184439606913,-0.10540751794838554,-0.03835876950653929,-0.3836398732514004,-0.4654120227336734,0.3873527052450305,0.31336309507697563,-0.1266603146482564,0.3837258344113821,0.3484957613563544,-0.011811449729511439,0.2730026476424869,-0.4728056369660214,0.17290577648274513,-0.4865948272301404,0.6271471136480417,0.01631124647599886,0.1486012421355172,-0.24205237068193705,-0.7717055169465168,-0.1394686929380816,0.24115735510216615,-0.17426655839856764,0.013517448862075976,-0.9226016705603962,-0.43339046919578705,-0.2896488276986234,-0.8986166870915381,-0.07334252666096497,0.026147393425021558,-0.31805435319686826,-0.4727098382806725,-1.6026199843244355,-0.9569747320889727,-0.7575245889926342,-0.2894846577842697,0.536564453302322,-0.4479240329688892,-0.02280063320771834,0.739103937235263,0.38034568900405413,-0.6533723321161427,-0.15814913928094224,-0.5783505485815268,1.0635598066974363,-1.23175465755723,-0.8288331212361735,-0.5903034011713625,-0.5019099859985202,-0.25489882774298556,-0.6249315182330927,-0.9569747320889727,0.5026183444604917,-0.6810044590589405,0.44787199822925167,0.07472916820882104,-0.04910262718145046,-0.47486137686693475,-0.037625686279474845,-0.014962819877483489,-0.3793098878673433,0.3957383196083315,-0.7033497559159848,-0.21943407327425,0.48416343193628253,0.5592361967935091,-1.189106368847106,0.10032850521566092,-0.1304419758036239,0.43526552546966746,0.3995145928127627,-0.9777691221619728,-0.7448406118549964,0.060171847815089816,0.4287175916069384,0.4046205710710754,-0.7599902755147582,0.030050804119603588,0.12798395430844703,-0.27537708044857445,0.5863014251527352,-0.5370428962490055,-0.6004984813215163,-1.0312694362726302,-0.7175161889802344,0.9950609930359933,-0.1466116052700958,-0.5778666394209723,-0.44167879761363266,-0.17350744787692715,-0.21601377534909214,-0.1608795941571145,0.24109774857959904,0.15085354631082804,-0.07614996612334184,0.04066742285166219,1.0761904734911711,-0.2797050110796008,-0.6360054846030869,-0.10200134586848923,-0.25190068307586,0.10097873678961528,0.10370547070421121,-1.0751994282278614,-0.6703037935286357,0.6898681755450791,-0.47622396983601767,-0.185839962800595,0.24866603772909388,-0.35411016928751965,-1.075159023215522,-1.1290458125641465,0.6151123146539755,0.10963804345145742,-0.6915392974272387,-1.0552333756388321,-0.5730429922422712,-0.7943965809462089,0.2766564027933463,-0.1511206712142754,0.9358047824227522,0.6790572893004303,-0.11048223422151972,-0.9181279611720058,0.010875021857336626,0.5973705974023048,0.5743856642367947,0.568864665428279,0.11588573100522474,0.04727229391767947,0.7134305601127543,0.23673030890650015,-0.02525128857958344,-0.1353283619269015,-0.2248206758003506,-0.031255224939677674,-0.529660252002342,-0.7239534960957232,0.040786059716203756,-0.403022997406185,-0.1667111584523849,0.11728549114617641,0.1287265347727706,0.21961640621274375,-0.11425430854529008,-0.0402649781734161,-0.6474310054610183,-0.2633577273905603,-0.9569747320889727,0.005302838548689208,-0.42256974152373195,0.11288815671919442,-0.37515205455431766,-1.0985436645936495,0.1693191694154124,-2.3240762874188823,-0.003674359980520751,-0.1050633723349464,0.07270323253959139,-0.18415849475341287,0.590888263589031,-0.5587968264301688,-0.3781466297290853,1.1466456943720957,-0.8603253266494517,-0.501707172894412,-0.1885400351732198,-0.5366913417610691,-2.407702618059548,-0.25984218251119606,0.07468242496885505,-0.38042537187336284,0.194893547634467,0.567306767440613,0.16742659618305036,-0.43649831269920947,-0.1723885339893189,-0.9569747320889727,-0.5630579283562955,-0.18250019516519972,0.06593193971893792,0.29268390567372726,0.03719215128990832,-0.05712679933418183,-0.4921370484462773,-0.27988945699401097,-0.2430234868298389,-0.9569747320889727,0.24325432562365815,0.06681711154516104,-0.4927221637077502,-0.017421292481139355,0.7232237051291666,-0.04629115412650293,-0.08060436865788503,-0.7897413609358613,-0.7465771359149463,-0.21983794032571588,-0.3633808857349585,0.020676572466422287,0.25558271133399696,0.06386335511883692,0.02474117547327668,-0.9316076135790001,0.11393573879418968,0.4044802047272295,0.453954815127022,-0.697175965504012,0.41183579140199644,-0.3502677742346269,0.46148771336771094,-0.16551495638659544,-0.03438659535733187,0.6168004066001747,-0.37744135274190493,0.20783336566686034,-0.7100077043136884,0.15040055999017407,-0.11000090590250527,-0.15587949964975065,-0.3478629497654817,-0.028095503276905624,1.361270360013996,-1.7244498139409665,-1.0050223073571622,-0.7769700171914756,-0.1069340869446335,-0.3277347971009194,-0.692517822152881,-0.8243454537606235,1.044386676292093,0.24264466601228427,-0.4105421447056005,-0.16795433649065825,0.7931350073549845,-0.09582792126707083,0.0033553791384336976,-1.6284563416535083,-0.06362090002679378,-0.658720158731158,-0.7811541707476868,-0.03738034589142728,-0.3921652024589182,0.31109884121953696,-0.3328151797332196,-1.8294049904191558,-0.4183932565704885,-0.09645133338020268,-0.14136832007664812,-0.15418846255817076,-0.21279092073833694,-0.013754040955753971,-0.45417444695125114,0.1259888679989442,-0.5074062940170516,-0.3110802588886753,-0.3475550272513145,-0.45366294072400376,-0.19498037948694,-0.9569747320889727,-0.8374462061906143,-0.5242182066609015,-0.1107830796261862,-0.6227596794851904,-0.5950493867585027,-0.9450218794991353,0.09374018094453397,0.055432085413148584,0.5081430607300587,-0.4182073054924283,-0.2675467746476948,0.03688615227048931,-0.1377508906379952,0.3154133003478668,-0.8054399046846744,-1.2095492543892923,-0.036172656022408926,0.037762012692138094,-0.0005577997444571908,-0.08044354888750863,0.27298301261487196,-0.9569747320889727,-0.4227626582671394,-0.8219515330866125,0.27051631789153335,0.588144626656208,-0.9569747320889727,0.6278685743319966,-0.3411234704770514,-0.7793598223668885,0.8635316441949619,-0.29199344674403077,-0.9569747320889727,-0.08236586576926225,-0.01291667047255028,-0.13021726425833063,0.22306301070798382,-0.4493515547667093,-0.6290186894080266,-0.5822492512581153,0.048356973544025766,-0.2765147124224695,0.0417088551956264,-1.631767887181243,-0.24270099186646854,0.20710033564154812,-1.9236134515479995,-0.9622879274777864,-0.3711490979801436,-0.4892314858896626,0.2065247121610813,-1.281380016052574,-0.9569747320889727,-1.1836072465800358,-0.0480306035295483,-1.0850337924556168,-2.092497919907886,0.2992159263519986,-1.028129242308023,-0.11691930735176595,-0.7652695243312836,0.615082739552268,-0.13322426906606571,-1.0153065266292147,-1.1757380620490963,-1.9863524033753253,0.14886539186965583,0.814860512532597,-0.43205236733473135,-0.1001086229995002,0.40656569586790187,-0.4050833228760448,-0.8582287474925657,0.17025258632932103,0.027294223799042245,-1.0799666148893985,0.21768980954438139,0.2721251578276713,1.3672517061831362,0.9222067325878929,-1.1033596482484018,-1.2056409632666676,-1.037162821696099,-0.48403174910816726,-0.06600963709861779,-0.2480456255151751,-0.6357626031448858,0.4244460409325688,-0.6667674118081874,-0.9181656102060871,-0.1359034700585771,-0.64199340264714,-0.23400292764787448,0.5449169394214057,-0.9569747320889727,-0.8356497702420168,-1.186515504825721,-1.4729219810900482,-0.19655417563478744,-0.5839754203885074,0.07410567936728062,-0.845307584374666,-0.9569747320889727,0.2910788763584045,-0.31708472151537614,-1.1779941148159758,-0.9569747320889727,0.9018069744918806,-0.8717227687644081,0.2130933697448976,-0.4206783607420751,0.3963685885945121,-1.0775143524420543,-0.9569747320889727,-0.380660385329113,-0.26950993092944536,-0.3662917300547055,0.037221359795016326,0.7479147429079108,-0.5310664699540882,0.5001116959166558,-0.3685772347522355,-0.26310532153982763,0.9150605368303304,-0.5071476338530639,-0.37723859619438754,0.25883677482672385,-0.18866561131784418,-0.7165255257175763,-1.0708696056987475,-0.11972517143843231,-0.9569747320889727,-0.5579453999244747,-0.8984409098475703,-0.22451095647359298],\"yaxis\":\"y\",\"type\":\"scattergl\"},{\"hovertemplate\":\"x=%{x}<br>y=%{y}<br>size=%{marker.size}<extra></extra>\",\"legendgroup\":\"\",\"marker\":{\"color\":\"#636efa\",\"size\":[15,15,15,15],\"sizemode\":\"area\",\"sizeref\":0.0375,\"symbol\":\"circle\"},\"mode\":\"markers\",\"name\":\"\",\"orientation\":\"v\",\"showlegend\":false,\"x\":[2.1862977084283464,-2.9367323854057603,0.45506005080737094,-1.258225454143956],\"xaxis\":\"x\",\"y\":[-0.05448533904824723,-0.3889376491488549,-0.08585783711081492,0.4280256025435476],\"yaxis\":\"y\",\"type\":\"scatter\"}],                        {\"template\":{\"data\":{\"bar\":[{\"error_x\":{\"color\":\"#2a3f5f\"},\"error_y\":{\"color\":\"#2a3f5f\"},\"marker\":{\"line\":{\"color\":\"#E5ECF6\",\"width\":0.5},\"pattern\":{\"fillmode\":\"overlay\",\"size\":10,\"solidity\":0.2}},\"type\":\"bar\"}],\"barpolar\":[{\"marker\":{\"line\":{\"color\":\"#E5ECF6\",\"width\":0.5},\"pattern\":{\"fillmode\":\"overlay\",\"size\":10,\"solidity\":0.2}},\"type\":\"barpolar\"}],\"carpet\":[{\"aaxis\":{\"endlinecolor\":\"#2a3f5f\",\"gridcolor\":\"white\",\"linecolor\":\"white\",\"minorgridcolor\":\"white\",\"startlinecolor\":\"#2a3f5f\"},\"baxis\":{\"endlinecolor\":\"#2a3f5f\",\"gridcolor\":\"white\",\"linecolor\":\"white\",\"minorgridcolor\":\"white\",\"startlinecolor\":\"#2a3f5f\"},\"type\":\"carpet\"}],\"choropleth\":[{\"colorbar\":{\"outlinewidth\":0,\"ticks\":\"\"},\"type\":\"choropleth\"}],\"contour\":[{\"colorbar\":{\"outlinewidth\":0,\"ticks\":\"\"},\"colorscale\":[[0.0,\"#0d0887\"],[0.1111111111111111,\"#46039f\"],[0.2222222222222222,\"#7201a8\"],[0.3333333333333333,\"#9c179e\"],[0.4444444444444444,\"#bd3786\"],[0.5555555555555556,\"#d8576b\"],[0.6666666666666666,\"#ed7953\"],[0.7777777777777778,\"#fb9f3a\"],[0.8888888888888888,\"#fdca26\"],[1.0,\"#f0f921\"]],\"type\":\"contour\"}],\"contourcarpet\":[{\"colorbar\":{\"outlinewidth\":0,\"ticks\":\"\"},\"type\":\"contourcarpet\"}],\"heatmap\":[{\"colorbar\":{\"outlinewidth\":0,\"ticks\":\"\"},\"colorscale\":[[0.0,\"#0d0887\"],[0.1111111111111111,\"#46039f\"],[0.2222222222222222,\"#7201a8\"],[0.3333333333333333,\"#9c179e\"],[0.4444444444444444,\"#bd3786\"],[0.5555555555555556,\"#d8576b\"],[0.6666666666666666,\"#ed7953\"],[0.7777777777777778,\"#fb9f3a\"],[0.8888888888888888,\"#fdca26\"],[1.0,\"#f0f921\"]],\"type\":\"heatmap\"}],\"heatmapgl\":[{\"colorbar\":{\"outlinewidth\":0,\"ticks\":\"\"},\"colorscale\":[[0.0,\"#0d0887\"],[0.1111111111111111,\"#46039f\"],[0.2222222222222222,\"#7201a8\"],[0.3333333333333333,\"#9c179e\"],[0.4444444444444444,\"#bd3786\"],[0.5555555555555556,\"#d8576b\"],[0.6666666666666666,\"#ed7953\"],[0.7777777777777778,\"#fb9f3a\"],[0.8888888888888888,\"#fdca26\"],[1.0,\"#f0f921\"]],\"type\":\"heatmapgl\"}],\"histogram\":[{\"marker\":{\"pattern\":{\"fillmode\":\"overlay\",\"size\":10,\"solidity\":0.2}},\"type\":\"histogram\"}],\"histogram2d\":[{\"colorbar\":{\"outlinewidth\":0,\"ticks\":\"\"},\"colorscale\":[[0.0,\"#0d0887\"],[0.1111111111111111,\"#46039f\"],[0.2222222222222222,\"#7201a8\"],[0.3333333333333333,\"#9c179e\"],[0.4444444444444444,\"#bd3786\"],[0.5555555555555556,\"#d8576b\"],[0.6666666666666666,\"#ed7953\"],[0.7777777777777778,\"#fb9f3a\"],[0.8888888888888888,\"#fdca26\"],[1.0,\"#f0f921\"]],\"type\":\"histogram2d\"}],\"histogram2dcontour\":[{\"colorbar\":{\"outlinewidth\":0,\"ticks\":\"\"},\"colorscale\":[[0.0,\"#0d0887\"],[0.1111111111111111,\"#46039f\"],[0.2222222222222222,\"#7201a8\"],[0.3333333333333333,\"#9c179e\"],[0.4444444444444444,\"#bd3786\"],[0.5555555555555556,\"#d8576b\"],[0.6666666666666666,\"#ed7953\"],[0.7777777777777778,\"#fb9f3a\"],[0.8888888888888888,\"#fdca26\"],[1.0,\"#f0f921\"]],\"type\":\"histogram2dcontour\"}],\"mesh3d\":[{\"colorbar\":{\"outlinewidth\":0,\"ticks\":\"\"},\"type\":\"mesh3d\"}],\"parcoords\":[{\"line\":{\"colorbar\":{\"outlinewidth\":0,\"ticks\":\"\"}},\"type\":\"parcoords\"}],\"pie\":[{\"automargin\":true,\"type\":\"pie\"}],\"scatter\":[{\"marker\":{\"colorbar\":{\"outlinewidth\":0,\"ticks\":\"\"}},\"type\":\"scatter\"}],\"scatter3d\":[{\"line\":{\"colorbar\":{\"outlinewidth\":0,\"ticks\":\"\"}},\"marker\":{\"colorbar\":{\"outlinewidth\":0,\"ticks\":\"\"}},\"type\":\"scatter3d\"}],\"scattercarpet\":[{\"marker\":{\"colorbar\":{\"outlinewidth\":0,\"ticks\":\"\"}},\"type\":\"scattercarpet\"}],\"scattergeo\":[{\"marker\":{\"colorbar\":{\"outlinewidth\":0,\"ticks\":\"\"}},\"type\":\"scattergeo\"}],\"scattergl\":[{\"marker\":{\"colorbar\":{\"outlinewidth\":0,\"ticks\":\"\"}},\"type\":\"scattergl\"}],\"scattermapbox\":[{\"marker\":{\"colorbar\":{\"outlinewidth\":0,\"ticks\":\"\"}},\"type\":\"scattermapbox\"}],\"scatterpolar\":[{\"marker\":{\"colorbar\":{\"outlinewidth\":0,\"ticks\":\"\"}},\"type\":\"scatterpolar\"}],\"scatterpolargl\":[{\"marker\":{\"colorbar\":{\"outlinewidth\":0,\"ticks\":\"\"}},\"type\":\"scatterpolargl\"}],\"scatterternary\":[{\"marker\":{\"colorbar\":{\"outlinewidth\":0,\"ticks\":\"\"}},\"type\":\"scatterternary\"}],\"surface\":[{\"colorbar\":{\"outlinewidth\":0,\"ticks\":\"\"},\"colorscale\":[[0.0,\"#0d0887\"],[0.1111111111111111,\"#46039f\"],[0.2222222222222222,\"#7201a8\"],[0.3333333333333333,\"#9c179e\"],[0.4444444444444444,\"#bd3786\"],[0.5555555555555556,\"#d8576b\"],[0.6666666666666666,\"#ed7953\"],[0.7777777777777778,\"#fb9f3a\"],[0.8888888888888888,\"#fdca26\"],[1.0,\"#f0f921\"]],\"type\":\"surface\"}],\"table\":[{\"cells\":{\"fill\":{\"color\":\"#EBF0F8\"},\"line\":{\"color\":\"white\"}},\"header\":{\"fill\":{\"color\":\"#C8D4E3\"},\"line\":{\"color\":\"white\"}},\"type\":\"table\"}]},\"layout\":{\"annotationdefaults\":{\"arrowcolor\":\"#2a3f5f\",\"arrowhead\":0,\"arrowwidth\":1},\"autotypenumbers\":\"strict\",\"coloraxis\":{\"colorbar\":{\"outlinewidth\":0,\"ticks\":\"\"}},\"colorscale\":{\"diverging\":[[0,\"#8e0152\"],[0.1,\"#c51b7d\"],[0.2,\"#de77ae\"],[0.3,\"#f1b6da\"],[0.4,\"#fde0ef\"],[0.5,\"#f7f7f7\"],[0.6,\"#e6f5d0\"],[0.7,\"#b8e186\"],[0.8,\"#7fbc41\"],[0.9,\"#4d9221\"],[1,\"#276419\"]],\"sequential\":[[0.0,\"#0d0887\"],[0.1111111111111111,\"#46039f\"],[0.2222222222222222,\"#7201a8\"],[0.3333333333333333,\"#9c179e\"],[0.4444444444444444,\"#bd3786\"],[0.5555555555555556,\"#d8576b\"],[0.6666666666666666,\"#ed7953\"],[0.7777777777777778,\"#fb9f3a\"],[0.8888888888888888,\"#fdca26\"],[1.0,\"#f0f921\"]],\"sequentialminus\":[[0.0,\"#0d0887\"],[0.1111111111111111,\"#46039f\"],[0.2222222222222222,\"#7201a8\"],[0.3333333333333333,\"#9c179e\"],[0.4444444444444444,\"#bd3786\"],[0.5555555555555556,\"#d8576b\"],[0.6666666666666666,\"#ed7953\"],[0.7777777777777778,\"#fb9f3a\"],[0.8888888888888888,\"#fdca26\"],[1.0,\"#f0f921\"]]},\"colorway\":[\"#636efa\",\"#EF553B\",\"#00cc96\",\"#ab63fa\",\"#FFA15A\",\"#19d3f3\",\"#FF6692\",\"#B6E880\",\"#FF97FF\",\"#FECB52\"],\"font\":{\"color\":\"#2a3f5f\"},\"geo\":{\"bgcolor\":\"white\",\"lakecolor\":\"white\",\"landcolor\":\"#E5ECF6\",\"showlakes\":true,\"showland\":true,\"subunitcolor\":\"white\"},\"hoverlabel\":{\"align\":\"left\"},\"hovermode\":\"closest\",\"mapbox\":{\"style\":\"light\"},\"paper_bgcolor\":\"white\",\"plot_bgcolor\":\"#E5ECF6\",\"polar\":{\"angularaxis\":{\"gridcolor\":\"white\",\"linecolor\":\"white\",\"ticks\":\"\"},\"bgcolor\":\"#E5ECF6\",\"radialaxis\":{\"gridcolor\":\"white\",\"linecolor\":\"white\",\"ticks\":\"\"}},\"scene\":{\"xaxis\":{\"backgroundcolor\":\"#E5ECF6\",\"gridcolor\":\"white\",\"gridwidth\":2,\"linecolor\":\"white\",\"showbackground\":true,\"ticks\":\"\",\"zerolinecolor\":\"white\"},\"yaxis\":{\"backgroundcolor\":\"#E5ECF6\",\"gridcolor\":\"white\",\"gridwidth\":2,\"linecolor\":\"white\",\"showbackground\":true,\"ticks\":\"\",\"zerolinecolor\":\"white\"},\"zaxis\":{\"backgroundcolor\":\"#E5ECF6\",\"gridcolor\":\"white\",\"gridwidth\":2,\"linecolor\":\"white\",\"showbackground\":true,\"ticks\":\"\",\"zerolinecolor\":\"white\"}},\"shapedefaults\":{\"line\":{\"color\":\"#2a3f5f\"}},\"ternary\":{\"aaxis\":{\"gridcolor\":\"white\",\"linecolor\":\"white\",\"ticks\":\"\"},\"baxis\":{\"gridcolor\":\"white\",\"linecolor\":\"white\",\"ticks\":\"\"},\"bgcolor\":\"#E5ECF6\",\"caxis\":{\"gridcolor\":\"white\",\"linecolor\":\"white\",\"ticks\":\"\"}},\"title\":{\"x\":0.05},\"xaxis\":{\"automargin\":true,\"gridcolor\":\"white\",\"linecolor\":\"white\",\"ticks\":\"\",\"title\":{\"standoff\":15},\"zerolinecolor\":\"white\",\"zerolinewidth\":2},\"yaxis\":{\"automargin\":true,\"gridcolor\":\"white\",\"linecolor\":\"white\",\"ticks\":\"\",\"title\":{\"standoff\":15},\"zerolinecolor\":\"white\",\"zerolinewidth\":2}}},\"title\":{\"text\":\"Agrupamento K-Means com PCA\"},\"width\":800,\"height\":500,\"xaxis\":{\"title\":{\"text\":\"Componente 1\"}},\"yaxis\":{\"title\":{\"text\":\"Componente 2\"}}},                        {\"responsive\": true}                    ).then(function(){\n",
              "                            \n",
              "var gd = document.getElementById('38183007-3660-4e83-bca7-9a39c45013a2');\n",
              "var x = new MutationObserver(function (mutations, observer) {{\n",
              "        var display = window.getComputedStyle(gd).display;\n",
              "        if (!display || display === 'none') {{\n",
              "            console.log([gd, 'removed!']);\n",
              "            Plotly.purge(gd);\n",
              "            observer.disconnect();\n",
              "        }}\n",
              "}});\n",
              "\n",
              "// Listen for the removal of the full notebook cells\n",
              "var notebookContainer = gd.closest('#notebook-container');\n",
              "if (notebookContainer) {{\n",
              "    x.observe(notebookContainer, {childList: true});\n",
              "}}\n",
              "\n",
              "// Listen for the clearing of the current output cell\n",
              "var outputEl = gd.closest('.output');\n",
              "if (outputEl) {{\n",
              "    x.observe(outputEl, {childList: true});\n",
              "}}\n",
              "\n",
              "                        })                };                            </script>        </div>\n",
              "</body>\n",
              "</html>"
            ]
          },
          "metadata": {}
        }
      ]
    },
    {
      "cell_type": "code",
      "source": [
        "agrupamento = pd.DataFrame(classificacao, columns = ['Grupo'])\n",
        "agrupamento"
      ],
      "metadata": {
        "colab": {
          "base_uri": "https://localhost:8080/",
          "height": 424
        },
        "id": "umCzEQPd2C1y",
        "outputId": "3a8bfcff-20cf-40b2-c944-ec055d63ec78"
      },
      "execution_count": 44,
      "outputs": [
        {
          "output_type": "execute_result",
          "data": {
            "text/plain": [
              "      Grupo\n",
              "0         0\n",
              "1         0\n",
              "2         0\n",
              "3         0\n",
              "4         0\n",
              "...     ...\n",
              "2198      1\n",
              "2199      1\n",
              "2200      1\n",
              "2201      1\n",
              "2202      1\n",
              "\n",
              "[2203 rows x 1 columns]"
            ],
            "text/html": [
              "\n",
              "  <div id=\"df-e33a0e93-719b-41f4-9101-eb082d566f4b\">\n",
              "    <div class=\"colab-df-container\">\n",
              "      <div>\n",
              "<style scoped>\n",
              "    .dataframe tbody tr th:only-of-type {\n",
              "        vertical-align: middle;\n",
              "    }\n",
              "\n",
              "    .dataframe tbody tr th {\n",
              "        vertical-align: top;\n",
              "    }\n",
              "\n",
              "    .dataframe thead th {\n",
              "        text-align: right;\n",
              "    }\n",
              "</style>\n",
              "<table border=\"1\" class=\"dataframe\">\n",
              "  <thead>\n",
              "    <tr style=\"text-align: right;\">\n",
              "      <th></th>\n",
              "      <th>Grupo</th>\n",
              "    </tr>\n",
              "  </thead>\n",
              "  <tbody>\n",
              "    <tr>\n",
              "      <th>0</th>\n",
              "      <td>0</td>\n",
              "    </tr>\n",
              "    <tr>\n",
              "      <th>1</th>\n",
              "      <td>0</td>\n",
              "    </tr>\n",
              "    <tr>\n",
              "      <th>2</th>\n",
              "      <td>0</td>\n",
              "    </tr>\n",
              "    <tr>\n",
              "      <th>3</th>\n",
              "      <td>0</td>\n",
              "    </tr>\n",
              "    <tr>\n",
              "      <th>4</th>\n",
              "      <td>0</td>\n",
              "    </tr>\n",
              "    <tr>\n",
              "      <th>...</th>\n",
              "      <td>...</td>\n",
              "    </tr>\n",
              "    <tr>\n",
              "      <th>2198</th>\n",
              "      <td>1</td>\n",
              "    </tr>\n",
              "    <tr>\n",
              "      <th>2199</th>\n",
              "      <td>1</td>\n",
              "    </tr>\n",
              "    <tr>\n",
              "      <th>2200</th>\n",
              "      <td>1</td>\n",
              "    </tr>\n",
              "    <tr>\n",
              "      <th>2201</th>\n",
              "      <td>1</td>\n",
              "    </tr>\n",
              "    <tr>\n",
              "      <th>2202</th>\n",
              "      <td>1</td>\n",
              "    </tr>\n",
              "  </tbody>\n",
              "</table>\n",
              "<p>2203 rows × 1 columns</p>\n",
              "</div>\n",
              "      <button class=\"colab-df-convert\" onclick=\"convertToInteractive('df-e33a0e93-719b-41f4-9101-eb082d566f4b')\"\n",
              "              title=\"Convert this dataframe to an interactive table.\"\n",
              "              style=\"display:none;\">\n",
              "        \n",
              "  <svg xmlns=\"http://www.w3.org/2000/svg\" height=\"24px\"viewBox=\"0 0 24 24\"\n",
              "       width=\"24px\">\n",
              "    <path d=\"M0 0h24v24H0V0z\" fill=\"none\"/>\n",
              "    <path d=\"M18.56 5.44l.94 2.06.94-2.06 2.06-.94-2.06-.94-.94-2.06-.94 2.06-2.06.94zm-11 1L8.5 8.5l.94-2.06 2.06-.94-2.06-.94L8.5 2.5l-.94 2.06-2.06.94zm10 10l.94 2.06.94-2.06 2.06-.94-2.06-.94-.94-2.06-.94 2.06-2.06.94z\"/><path d=\"M17.41 7.96l-1.37-1.37c-.4-.4-.92-.59-1.43-.59-.52 0-1.04.2-1.43.59L10.3 9.45l-7.72 7.72c-.78.78-.78 2.05 0 2.83L4 21.41c.39.39.9.59 1.41.59.51 0 1.02-.2 1.41-.59l7.78-7.78 2.81-2.81c.8-.78.8-2.07 0-2.86zM5.41 20L4 18.59l7.72-7.72 1.47 1.35L5.41 20z\"/>\n",
              "  </svg>\n",
              "      </button>\n",
              "      \n",
              "  <style>\n",
              "    .colab-df-container {\n",
              "      display:flex;\n",
              "      flex-wrap:wrap;\n",
              "      gap: 12px;\n",
              "    }\n",
              "\n",
              "    .colab-df-convert {\n",
              "      background-color: #E8F0FE;\n",
              "      border: none;\n",
              "      border-radius: 50%;\n",
              "      cursor: pointer;\n",
              "      display: none;\n",
              "      fill: #1967D2;\n",
              "      height: 32px;\n",
              "      padding: 0 0 0 0;\n",
              "      width: 32px;\n",
              "    }\n",
              "\n",
              "    .colab-df-convert:hover {\n",
              "      background-color: #E2EBFA;\n",
              "      box-shadow: 0px 1px 2px rgba(60, 64, 67, 0.3), 0px 1px 3px 1px rgba(60, 64, 67, 0.15);\n",
              "      fill: #174EA6;\n",
              "    }\n",
              "\n",
              "    [theme=dark] .colab-df-convert {\n",
              "      background-color: #3B4455;\n",
              "      fill: #D2E3FC;\n",
              "    }\n",
              "\n",
              "    [theme=dark] .colab-df-convert:hover {\n",
              "      background-color: #434B5C;\n",
              "      box-shadow: 0px 1px 3px 1px rgba(0, 0, 0, 0.15);\n",
              "      filter: drop-shadow(0px 1px 2px rgba(0, 0, 0, 0.3));\n",
              "      fill: #FFFFFF;\n",
              "    }\n",
              "  </style>\n",
              "\n",
              "      <script>\n",
              "        const buttonEl =\n",
              "          document.querySelector('#df-e33a0e93-719b-41f4-9101-eb082d566f4b button.colab-df-convert');\n",
              "        buttonEl.style.display =\n",
              "          google.colab.kernel.accessAllowed ? 'block' : 'none';\n",
              "\n",
              "        async function convertToInteractive(key) {\n",
              "          const element = document.querySelector('#df-e33a0e93-719b-41f4-9101-eb082d566f4b');\n",
              "          const dataTable =\n",
              "            await google.colab.kernel.invokeFunction('convertToInteractive',\n",
              "                                                     [key], {});\n",
              "          if (!dataTable) return;\n",
              "\n",
              "          const docLinkHtml = 'Like what you see? Visit the ' +\n",
              "            '<a target=\"_blank\" href=https://colab.research.google.com/notebooks/data_table.ipynb>data table notebook</a>'\n",
              "            + ' to learn more about interactive tables.';\n",
              "          element.innerHTML = '';\n",
              "          dataTable['output_type'] = 'display_data';\n",
              "          await google.colab.output.renderOutput(dataTable, element);\n",
              "          const docLink = document.createElement('div');\n",
              "          docLink.innerHTML = docLinkHtml;\n",
              "          element.appendChild(docLink);\n",
              "        }\n",
              "      </script>\n",
              "    </div>\n",
              "  </div>\n",
              "  "
            ]
          },
          "metadata": {},
          "execution_count": 44
        }
      ]
    },
    {
      "cell_type": "code",
      "source": [
        "df_aux = pd.concat([df_aux, agrupamento],axis=1)\n",
        "df_aux"
      ],
      "metadata": {
        "colab": {
          "base_uri": "https://localhost:8080/",
          "height": 424
        },
        "id": "_yeLAT7O2KxE",
        "outputId": "dc0ba37e-539e-4aee-db45-0a73a4de9a69"
      },
      "execution_count": 45,
      "outputs": [
        {
          "output_type": "execute_result",
          "data": {
            "text/plain": [
              "            nome_do_curso  nota_integral_ampla  nota_integral_cotas  \\\n",
              "0                Medicina               739.62               738.08   \n",
              "1                Medicina               758.32               723.94   \n",
              "2                Medicina               741.06               729.02   \n",
              "3                Medicina               741.36               739.90   \n",
              "4                Medicina               756.46               737.88   \n",
              "...                   ...                  ...                  ...   \n",
              "2198             Teologia               584.34               450.00   \n",
              "2199             Teologia               450.00               450.00   \n",
              "2200            Pedagogia               497.78               506.78   \n",
              "2201  Gestão da Qualidade               456.66               450.00   \n",
              "2202            Marketing               533.34               450.00   \n",
              "\n",
              "      nota_parcial_ampla  nota_parcial_cotas  Grupo  \n",
              "0                 738.96              718.64      0  \n",
              "1                 734.92              711.26      0  \n",
              "2                 730.98              722.82      0  \n",
              "3                 760.80              715.10      0  \n",
              "4                 747.14              717.60      0  \n",
              "...                  ...                 ...    ...  \n",
              "2198              489.28              450.00      1  \n",
              "2199              450.00              450.00      1  \n",
              "2200              508.48              451.78      1  \n",
              "2201              450.00              450.00      1  \n",
              "2202              450.00              450.00      1  \n",
              "\n",
              "[2203 rows x 6 columns]"
            ],
            "text/html": [
              "\n",
              "  <div id=\"df-b20940ab-9a30-4430-83a1-5a5abd176cdd\">\n",
              "    <div class=\"colab-df-container\">\n",
              "      <div>\n",
              "<style scoped>\n",
              "    .dataframe tbody tr th:only-of-type {\n",
              "        vertical-align: middle;\n",
              "    }\n",
              "\n",
              "    .dataframe tbody tr th {\n",
              "        vertical-align: top;\n",
              "    }\n",
              "\n",
              "    .dataframe thead th {\n",
              "        text-align: right;\n",
              "    }\n",
              "</style>\n",
              "<table border=\"1\" class=\"dataframe\">\n",
              "  <thead>\n",
              "    <tr style=\"text-align: right;\">\n",
              "      <th></th>\n",
              "      <th>nome_do_curso</th>\n",
              "      <th>nota_integral_ampla</th>\n",
              "      <th>nota_integral_cotas</th>\n",
              "      <th>nota_parcial_ampla</th>\n",
              "      <th>nota_parcial_cotas</th>\n",
              "      <th>Grupo</th>\n",
              "    </tr>\n",
              "  </thead>\n",
              "  <tbody>\n",
              "    <tr>\n",
              "      <th>0</th>\n",
              "      <td>Medicina</td>\n",
              "      <td>739.62</td>\n",
              "      <td>738.08</td>\n",
              "      <td>738.96</td>\n",
              "      <td>718.64</td>\n",
              "      <td>0</td>\n",
              "    </tr>\n",
              "    <tr>\n",
              "      <th>1</th>\n",
              "      <td>Medicina</td>\n",
              "      <td>758.32</td>\n",
              "      <td>723.94</td>\n",
              "      <td>734.92</td>\n",
              "      <td>711.26</td>\n",
              "      <td>0</td>\n",
              "    </tr>\n",
              "    <tr>\n",
              "      <th>2</th>\n",
              "      <td>Medicina</td>\n",
              "      <td>741.06</td>\n",
              "      <td>729.02</td>\n",
              "      <td>730.98</td>\n",
              "      <td>722.82</td>\n",
              "      <td>0</td>\n",
              "    </tr>\n",
              "    <tr>\n",
              "      <th>3</th>\n",
              "      <td>Medicina</td>\n",
              "      <td>741.36</td>\n",
              "      <td>739.90</td>\n",
              "      <td>760.80</td>\n",
              "      <td>715.10</td>\n",
              "      <td>0</td>\n",
              "    </tr>\n",
              "    <tr>\n",
              "      <th>4</th>\n",
              "      <td>Medicina</td>\n",
              "      <td>756.46</td>\n",
              "      <td>737.88</td>\n",
              "      <td>747.14</td>\n",
              "      <td>717.60</td>\n",
              "      <td>0</td>\n",
              "    </tr>\n",
              "    <tr>\n",
              "      <th>...</th>\n",
              "      <td>...</td>\n",
              "      <td>...</td>\n",
              "      <td>...</td>\n",
              "      <td>...</td>\n",
              "      <td>...</td>\n",
              "      <td>...</td>\n",
              "    </tr>\n",
              "    <tr>\n",
              "      <th>2198</th>\n",
              "      <td>Teologia</td>\n",
              "      <td>584.34</td>\n",
              "      <td>450.00</td>\n",
              "      <td>489.28</td>\n",
              "      <td>450.00</td>\n",
              "      <td>1</td>\n",
              "    </tr>\n",
              "    <tr>\n",
              "      <th>2199</th>\n",
              "      <td>Teologia</td>\n",
              "      <td>450.00</td>\n",
              "      <td>450.00</td>\n",
              "      <td>450.00</td>\n",
              "      <td>450.00</td>\n",
              "      <td>1</td>\n",
              "    </tr>\n",
              "    <tr>\n",
              "      <th>2200</th>\n",
              "      <td>Pedagogia</td>\n",
              "      <td>497.78</td>\n",
              "      <td>506.78</td>\n",
              "      <td>508.48</td>\n",
              "      <td>451.78</td>\n",
              "      <td>1</td>\n",
              "    </tr>\n",
              "    <tr>\n",
              "      <th>2201</th>\n",
              "      <td>Gestão da Qualidade</td>\n",
              "      <td>456.66</td>\n",
              "      <td>450.00</td>\n",
              "      <td>450.00</td>\n",
              "      <td>450.00</td>\n",
              "      <td>1</td>\n",
              "    </tr>\n",
              "    <tr>\n",
              "      <th>2202</th>\n",
              "      <td>Marketing</td>\n",
              "      <td>533.34</td>\n",
              "      <td>450.00</td>\n",
              "      <td>450.00</td>\n",
              "      <td>450.00</td>\n",
              "      <td>1</td>\n",
              "    </tr>\n",
              "  </tbody>\n",
              "</table>\n",
              "<p>2203 rows × 6 columns</p>\n",
              "</div>\n",
              "      <button class=\"colab-df-convert\" onclick=\"convertToInteractive('df-b20940ab-9a30-4430-83a1-5a5abd176cdd')\"\n",
              "              title=\"Convert this dataframe to an interactive table.\"\n",
              "              style=\"display:none;\">\n",
              "        \n",
              "  <svg xmlns=\"http://www.w3.org/2000/svg\" height=\"24px\"viewBox=\"0 0 24 24\"\n",
              "       width=\"24px\">\n",
              "    <path d=\"M0 0h24v24H0V0z\" fill=\"none\"/>\n",
              "    <path d=\"M18.56 5.44l.94 2.06.94-2.06 2.06-.94-2.06-.94-.94-2.06-.94 2.06-2.06.94zm-11 1L8.5 8.5l.94-2.06 2.06-.94-2.06-.94L8.5 2.5l-.94 2.06-2.06.94zm10 10l.94 2.06.94-2.06 2.06-.94-2.06-.94-.94-2.06-.94 2.06-2.06.94z\"/><path d=\"M17.41 7.96l-1.37-1.37c-.4-.4-.92-.59-1.43-.59-.52 0-1.04.2-1.43.59L10.3 9.45l-7.72 7.72c-.78.78-.78 2.05 0 2.83L4 21.41c.39.39.9.59 1.41.59.51 0 1.02-.2 1.41-.59l7.78-7.78 2.81-2.81c.8-.78.8-2.07 0-2.86zM5.41 20L4 18.59l7.72-7.72 1.47 1.35L5.41 20z\"/>\n",
              "  </svg>\n",
              "      </button>\n",
              "      \n",
              "  <style>\n",
              "    .colab-df-container {\n",
              "      display:flex;\n",
              "      flex-wrap:wrap;\n",
              "      gap: 12px;\n",
              "    }\n",
              "\n",
              "    .colab-df-convert {\n",
              "      background-color: #E8F0FE;\n",
              "      border: none;\n",
              "      border-radius: 50%;\n",
              "      cursor: pointer;\n",
              "      display: none;\n",
              "      fill: #1967D2;\n",
              "      height: 32px;\n",
              "      padding: 0 0 0 0;\n",
              "      width: 32px;\n",
              "    }\n",
              "\n",
              "    .colab-df-convert:hover {\n",
              "      background-color: #E2EBFA;\n",
              "      box-shadow: 0px 1px 2px rgba(60, 64, 67, 0.3), 0px 1px 3px 1px rgba(60, 64, 67, 0.15);\n",
              "      fill: #174EA6;\n",
              "    }\n",
              "\n",
              "    [theme=dark] .colab-df-convert {\n",
              "      background-color: #3B4455;\n",
              "      fill: #D2E3FC;\n",
              "    }\n",
              "\n",
              "    [theme=dark] .colab-df-convert:hover {\n",
              "      background-color: #434B5C;\n",
              "      box-shadow: 0px 1px 3px 1px rgba(0, 0, 0, 0.15);\n",
              "      filter: drop-shadow(0px 1px 2px rgba(0, 0, 0, 0.3));\n",
              "      fill: #FFFFFF;\n",
              "    }\n",
              "  </style>\n",
              "\n",
              "      <script>\n",
              "        const buttonEl =\n",
              "          document.querySelector('#df-b20940ab-9a30-4430-83a1-5a5abd176cdd button.colab-df-convert');\n",
              "        buttonEl.style.display =\n",
              "          google.colab.kernel.accessAllowed ? 'block' : 'none';\n",
              "\n",
              "        async function convertToInteractive(key) {\n",
              "          const element = document.querySelector('#df-b20940ab-9a30-4430-83a1-5a5abd176cdd');\n",
              "          const dataTable =\n",
              "            await google.colab.kernel.invokeFunction('convertToInteractive',\n",
              "                                                     [key], {});\n",
              "          if (!dataTable) return;\n",
              "\n",
              "          const docLinkHtml = 'Like what you see? Visit the ' +\n",
              "            '<a target=\"_blank\" href=https://colab.research.google.com/notebooks/data_table.ipynb>data table notebook</a>'\n",
              "            + ' to learn more about interactive tables.';\n",
              "          element.innerHTML = '';\n",
              "          dataTable['output_type'] = 'display_data';\n",
              "          await google.colab.output.renderOutput(dataTable, element);\n",
              "          const docLink = document.createElement('div');\n",
              "          docLink.innerHTML = docLinkHtml;\n",
              "          element.appendChild(docLink);\n",
              "        }\n",
              "      </script>\n",
              "    </div>\n",
              "  </div>\n",
              "  "
            ]
          },
          "metadata": {},
          "execution_count": 45
        }
      ]
    },
    {
      "cell_type": "code",
      "source": [
        "df_aux.iloc[125 , :]"
      ],
      "metadata": {
        "colab": {
          "base_uri": "https://localhost:8080/"
        },
        "id": "Buc6bLkO2WmQ",
        "outputId": "5332078c-4b04-4b2d-a140-298661c234f4"
      },
      "execution_count": 46,
      "outputs": [
        {
          "output_type": "execute_result",
          "data": {
            "text/plain": [
              "nome_do_curso          Arquitetura e Urbanismo\n",
              "nota_integral_ampla                     595.68\n",
              "nota_integral_cotas                     553.52\n",
              "nota_parcial_ampla                      578.16\n",
              "nota_parcial_cotas                      523.72\n",
              "Grupo                                        2\n",
              "Name: 125, dtype: object"
            ]
          },
          "metadata": {},
          "execution_count": 46
        }
      ]
    },
    {
      "cell_type": "code",
      "source": [
        "grupo0 = df_aux.loc[df_aux.Grupo == 0]\n",
        "grupo0 "
      ],
      "metadata": {
        "colab": {
          "base_uri": "https://localhost:8080/",
          "height": 424
        },
        "id": "Mj0zFO352czl",
        "outputId": "85a37aec-5964-427f-d011-3295574eabe3"
      },
      "execution_count": 47,
      "outputs": [
        {
          "output_type": "execute_result",
          "data": {
            "text/plain": [
              "                    nome_do_curso  nota_integral_ampla  nota_integral_cotas  \\\n",
              "0                        Medicina               739.62               738.08   \n",
              "1                        Medicina               758.32               723.94   \n",
              "2                        Medicina               741.06               729.02   \n",
              "3                        Medicina               741.36               739.90   \n",
              "4                        Medicina               756.46               737.88   \n",
              "...                           ...                  ...                  ...   \n",
              "1665         Engenharia Ambiental               698.18               620.60   \n",
              "1683                    Filosofia               658.40               621.98   \n",
              "2075  Letras - Português e Inglês               668.08               629.14   \n",
              "2111               Gestão Pública               601.90               564.66   \n",
              "2190           Ciências Contábeis               621.84               624.18   \n",
              "\n",
              "      nota_parcial_ampla  nota_parcial_cotas  Grupo  \n",
              "0                 738.96              718.64      0  \n",
              "1                 734.92              711.26      0  \n",
              "2                 730.98              722.82      0  \n",
              "3                 760.80              715.10      0  \n",
              "4                 747.14              717.60      0  \n",
              "...                  ...                 ...    ...  \n",
              "1665              586.34              582.58      0  \n",
              "1683              554.28              562.84      0  \n",
              "2075              640.12              548.02      0  \n",
              "2111              713.20              535.42      0  \n",
              "2190              631.76              541.12      0  \n",
              "\n",
              "[536 rows x 6 columns]"
            ],
            "text/html": [
              "\n",
              "  <div id=\"df-5f32af13-dd50-4184-aefe-b5f3a1c1ea61\">\n",
              "    <div class=\"colab-df-container\">\n",
              "      <div>\n",
              "<style scoped>\n",
              "    .dataframe tbody tr th:only-of-type {\n",
              "        vertical-align: middle;\n",
              "    }\n",
              "\n",
              "    .dataframe tbody tr th {\n",
              "        vertical-align: top;\n",
              "    }\n",
              "\n",
              "    .dataframe thead th {\n",
              "        text-align: right;\n",
              "    }\n",
              "</style>\n",
              "<table border=\"1\" class=\"dataframe\">\n",
              "  <thead>\n",
              "    <tr style=\"text-align: right;\">\n",
              "      <th></th>\n",
              "      <th>nome_do_curso</th>\n",
              "      <th>nota_integral_ampla</th>\n",
              "      <th>nota_integral_cotas</th>\n",
              "      <th>nota_parcial_ampla</th>\n",
              "      <th>nota_parcial_cotas</th>\n",
              "      <th>Grupo</th>\n",
              "    </tr>\n",
              "  </thead>\n",
              "  <tbody>\n",
              "    <tr>\n",
              "      <th>0</th>\n",
              "      <td>Medicina</td>\n",
              "      <td>739.62</td>\n",
              "      <td>738.08</td>\n",
              "      <td>738.96</td>\n",
              "      <td>718.64</td>\n",
              "      <td>0</td>\n",
              "    </tr>\n",
              "    <tr>\n",
              "      <th>1</th>\n",
              "      <td>Medicina</td>\n",
              "      <td>758.32</td>\n",
              "      <td>723.94</td>\n",
              "      <td>734.92</td>\n",
              "      <td>711.26</td>\n",
              "      <td>0</td>\n",
              "    </tr>\n",
              "    <tr>\n",
              "      <th>2</th>\n",
              "      <td>Medicina</td>\n",
              "      <td>741.06</td>\n",
              "      <td>729.02</td>\n",
              "      <td>730.98</td>\n",
              "      <td>722.82</td>\n",
              "      <td>0</td>\n",
              "    </tr>\n",
              "    <tr>\n",
              "      <th>3</th>\n",
              "      <td>Medicina</td>\n",
              "      <td>741.36</td>\n",
              "      <td>739.90</td>\n",
              "      <td>760.80</td>\n",
              "      <td>715.10</td>\n",
              "      <td>0</td>\n",
              "    </tr>\n",
              "    <tr>\n",
              "      <th>4</th>\n",
              "      <td>Medicina</td>\n",
              "      <td>756.46</td>\n",
              "      <td>737.88</td>\n",
              "      <td>747.14</td>\n",
              "      <td>717.60</td>\n",
              "      <td>0</td>\n",
              "    </tr>\n",
              "    <tr>\n",
              "      <th>...</th>\n",
              "      <td>...</td>\n",
              "      <td>...</td>\n",
              "      <td>...</td>\n",
              "      <td>...</td>\n",
              "      <td>...</td>\n",
              "      <td>...</td>\n",
              "    </tr>\n",
              "    <tr>\n",
              "      <th>1665</th>\n",
              "      <td>Engenharia Ambiental</td>\n",
              "      <td>698.18</td>\n",
              "      <td>620.60</td>\n",
              "      <td>586.34</td>\n",
              "      <td>582.58</td>\n",
              "      <td>0</td>\n",
              "    </tr>\n",
              "    <tr>\n",
              "      <th>1683</th>\n",
              "      <td>Filosofia</td>\n",
              "      <td>658.40</td>\n",
              "      <td>621.98</td>\n",
              "      <td>554.28</td>\n",
              "      <td>562.84</td>\n",
              "      <td>0</td>\n",
              "    </tr>\n",
              "    <tr>\n",
              "      <th>2075</th>\n",
              "      <td>Letras - Português e Inglês</td>\n",
              "      <td>668.08</td>\n",
              "      <td>629.14</td>\n",
              "      <td>640.12</td>\n",
              "      <td>548.02</td>\n",
              "      <td>0</td>\n",
              "    </tr>\n",
              "    <tr>\n",
              "      <th>2111</th>\n",
              "      <td>Gestão Pública</td>\n",
              "      <td>601.90</td>\n",
              "      <td>564.66</td>\n",
              "      <td>713.20</td>\n",
              "      <td>535.42</td>\n",
              "      <td>0</td>\n",
              "    </tr>\n",
              "    <tr>\n",
              "      <th>2190</th>\n",
              "      <td>Ciências Contábeis</td>\n",
              "      <td>621.84</td>\n",
              "      <td>624.18</td>\n",
              "      <td>631.76</td>\n",
              "      <td>541.12</td>\n",
              "      <td>0</td>\n",
              "    </tr>\n",
              "  </tbody>\n",
              "</table>\n",
              "<p>536 rows × 6 columns</p>\n",
              "</div>\n",
              "      <button class=\"colab-df-convert\" onclick=\"convertToInteractive('df-5f32af13-dd50-4184-aefe-b5f3a1c1ea61')\"\n",
              "              title=\"Convert this dataframe to an interactive table.\"\n",
              "              style=\"display:none;\">\n",
              "        \n",
              "  <svg xmlns=\"http://www.w3.org/2000/svg\" height=\"24px\"viewBox=\"0 0 24 24\"\n",
              "       width=\"24px\">\n",
              "    <path d=\"M0 0h24v24H0V0z\" fill=\"none\"/>\n",
              "    <path d=\"M18.56 5.44l.94 2.06.94-2.06 2.06-.94-2.06-.94-.94-2.06-.94 2.06-2.06.94zm-11 1L8.5 8.5l.94-2.06 2.06-.94-2.06-.94L8.5 2.5l-.94 2.06-2.06.94zm10 10l.94 2.06.94-2.06 2.06-.94-2.06-.94-.94-2.06-.94 2.06-2.06.94z\"/><path d=\"M17.41 7.96l-1.37-1.37c-.4-.4-.92-.59-1.43-.59-.52 0-1.04.2-1.43.59L10.3 9.45l-7.72 7.72c-.78.78-.78 2.05 0 2.83L4 21.41c.39.39.9.59 1.41.59.51 0 1.02-.2 1.41-.59l7.78-7.78 2.81-2.81c.8-.78.8-2.07 0-2.86zM5.41 20L4 18.59l7.72-7.72 1.47 1.35L5.41 20z\"/>\n",
              "  </svg>\n",
              "      </button>\n",
              "      \n",
              "  <style>\n",
              "    .colab-df-container {\n",
              "      display:flex;\n",
              "      flex-wrap:wrap;\n",
              "      gap: 12px;\n",
              "    }\n",
              "\n",
              "    .colab-df-convert {\n",
              "      background-color: #E8F0FE;\n",
              "      border: none;\n",
              "      border-radius: 50%;\n",
              "      cursor: pointer;\n",
              "      display: none;\n",
              "      fill: #1967D2;\n",
              "      height: 32px;\n",
              "      padding: 0 0 0 0;\n",
              "      width: 32px;\n",
              "    }\n",
              "\n",
              "    .colab-df-convert:hover {\n",
              "      background-color: #E2EBFA;\n",
              "      box-shadow: 0px 1px 2px rgba(60, 64, 67, 0.3), 0px 1px 3px 1px rgba(60, 64, 67, 0.15);\n",
              "      fill: #174EA6;\n",
              "    }\n",
              "\n",
              "    [theme=dark] .colab-df-convert {\n",
              "      background-color: #3B4455;\n",
              "      fill: #D2E3FC;\n",
              "    }\n",
              "\n",
              "    [theme=dark] .colab-df-convert:hover {\n",
              "      background-color: #434B5C;\n",
              "      box-shadow: 0px 1px 3px 1px rgba(0, 0, 0, 0.15);\n",
              "      filter: drop-shadow(0px 1px 2px rgba(0, 0, 0, 0.3));\n",
              "      fill: #FFFFFF;\n",
              "    }\n",
              "  </style>\n",
              "\n",
              "      <script>\n",
              "        const buttonEl =\n",
              "          document.querySelector('#df-5f32af13-dd50-4184-aefe-b5f3a1c1ea61 button.colab-df-convert');\n",
              "        buttonEl.style.display =\n",
              "          google.colab.kernel.accessAllowed ? 'block' : 'none';\n",
              "\n",
              "        async function convertToInteractive(key) {\n",
              "          const element = document.querySelector('#df-5f32af13-dd50-4184-aefe-b5f3a1c1ea61');\n",
              "          const dataTable =\n",
              "            await google.colab.kernel.invokeFunction('convertToInteractive',\n",
              "                                                     [key], {});\n",
              "          if (!dataTable) return;\n",
              "\n",
              "          const docLinkHtml = 'Like what you see? Visit the ' +\n",
              "            '<a target=\"_blank\" href=https://colab.research.google.com/notebooks/data_table.ipynb>data table notebook</a>'\n",
              "            + ' to learn more about interactive tables.';\n",
              "          element.innerHTML = '';\n",
              "          dataTable['output_type'] = 'display_data';\n",
              "          await google.colab.output.renderOutput(dataTable, element);\n",
              "          const docLink = document.createElement('div');\n",
              "          docLink.innerHTML = docLinkHtml;\n",
              "          element.appendChild(docLink);\n",
              "        }\n",
              "      </script>\n",
              "    </div>\n",
              "  </div>\n",
              "  "
            ]
          },
          "metadata": {},
          "execution_count": 47
        }
      ]
    },
    {
      "cell_type": "code",
      "source": [
        "grupo0.shape"
      ],
      "metadata": {
        "colab": {
          "base_uri": "https://localhost:8080/"
        },
        "id": "UbcptuY02mDV",
        "outputId": "872ec4c1-27d7-4341-af65-d44c7f72d536"
      },
      "execution_count": 48,
      "outputs": [
        {
          "output_type": "execute_result",
          "data": {
            "text/plain": [
              "(536, 6)"
            ]
          },
          "metadata": {},
          "execution_count": 48
        }
      ]
    }
  ]
}